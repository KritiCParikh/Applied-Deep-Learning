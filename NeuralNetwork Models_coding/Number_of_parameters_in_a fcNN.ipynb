{
 "cells": [
  {
   "cell_type": "markdown",
   "id": "bddcffdd",
   "metadata": {},
   "source": [
    "2023-Spring-BUAN-6382.501, Applied Deep Learning\n",
    "Compute number of parameters of fcNN (fully connected Neural Network) models\n",
    "Define a fcNN model.\n",
    "Assume the fcNN is has  𝐾\n",
    "  layers. Activation layers are denoted by  𝑎[𝑖]\n",
    " . The length of the input layer  𝑥\n",
    "  (sometimes denoted as  𝑎[0]\n",
    " ) must be known.\n",
    "For each layer  𝑖\n",
    "  we denote corresponding kernel and bias as  𝑊[𝑖]\n",
    "  and  𝑏[𝑖]\n",
    " , respectively.\n",
    "Assuming the previous layer  𝑎[𝑖−1]\n",
    "  is known (or already computed) we have\n",
    "𝑎[𝑖]=𝑔(𝑊[𝑖]𝑎[𝑖−1]+𝑏[𝑖])\n",
    " \n",
    "Compute size of the kernel ( 𝑊\n",
    " ) and the size of the bias ( 𝑏\n",
    " ).\n",
    "Compute the number of parameters in each layer.\n",
    "Compute the total number of parameters for the model."
   ]
  },
  {
   "cell_type": "code",
   "execution_count": 4,
   "id": "4cd486c6",
   "metadata": {},
   "outputs": [
    {
     "name": "stdout",
     "output_type": "stream",
     "text": [
      "np.__version__ =1.24.3\n",
      "pd.__version__ =2.0.3\n"
     ]
    }
   ],
   "source": [
    "# seq_model_parameters.ipynb\n",
    "# 2023.02.07\n",
    "\n",
    "import numpy as np\n",
    "print(f'np.__version__ ={np.__version__}')\n",
    "import pandas as pd\n",
    "print(f'pd.__version__ ={pd.__version__}')\n",
    "\n",
    "# import random"
   ]
  },
  {
   "cell_type": "markdown",
   "id": "d268ae61",
   "metadata": {},
   "source": [
    "# Compute number of parameters of fcNN (fully connected Neural Network) models¶\n",
    "Observe that the length of a batch (256 in our examples below) and activation have no effects on the number of parameters"
   ]
  },
  {
   "cell_type": "code",
   "execution_count": 5,
   "id": "adba1b31",
   "metadata": {},
   "outputs": [
    {
     "ename": "ModuleNotFoundError",
     "evalue": "No module named 'tensorflow'",
     "output_type": "error",
     "traceback": [
      "\u001b[0;31m---------------------------------------------------------------------------\u001b[0m",
      "\u001b[0;31mModuleNotFoundError\u001b[0m                       Traceback (most recent call last)",
      "Cell \u001b[0;32mIn[5], line 2\u001b[0m\n\u001b[1;32m      1\u001b[0m \u001b[38;5;66;03m# MODEL-1\u001b[39;00m\n\u001b[0;32m----> 2\u001b[0m \u001b[38;5;28;01mimport\u001b[39;00m \u001b[38;5;21;01mtensorflow\u001b[39;00m \u001b[38;5;28;01mas\u001b[39;00m \u001b[38;5;21;01mtf\u001b[39;00m\n\u001b[1;32m      3\u001b[0m \u001b[38;5;28;01mfrom\u001b[39;00m \u001b[38;5;21;01mtensorflow\u001b[39;00m \u001b[38;5;28;01mimport\u001b[39;00m keras\n\u001b[1;32m      4\u001b[0m \u001b[38;5;28;01mfrom\u001b[39;00m \u001b[38;5;21;01mtensorflow\u001b[39;00m\u001b[38;5;21;01m.\u001b[39;00m\u001b[38;5;21;01mkeras\u001b[39;00m \u001b[38;5;28;01mimport\u001b[39;00m layers\n",
      "\u001b[0;31mModuleNotFoundError\u001b[0m: No module named 'tensorflow'"
     ]
    }
   ],
   "source": [
    "# MODEL-1\n",
    "import tensorflow as tf\n",
    "from tensorflow import keras\n",
    "from tensorflow.keras import layers\n",
    "\n",
    "model = keras.Sequential(\n",
    "\t[\n",
    "\t\tlayers.Dense(3, activation=\"sigmoid\", name=\"hidden\"),\n",
    "\t\tlayers.Dense(1,  name=\"final\"),\n",
    "\t]\n",
    ")\n",
    "\n",
    "batch = tf.ones((256, 2))  # Call model on a test input\n",
    "y = model(batch)\t\n",
    "model.summary()"
   ]
  },
  {
   "cell_type": "code",
   "execution_count": null,
   "id": "a90cf95c",
   "metadata": {},
   "outputs": [],
   "source": [
    "print(f'Layer1: W = {np.array(model.weights[0])}')\n",
    "print(f'\\nLayer1: b = {np.array(model.weights[1])}')\n",
    "print(f'\\nLayer2: W = {np.array(model.weights[2])}')\n",
    "print(f'\\nLayer2: b = {np.array(model.weights[3])}')"
   ]
  },
  {
   "cell_type": "code",
   "execution_count": null,
   "id": "3a5ab605",
   "metadata": {},
   "outputs": [],
   "source": [
    "# MODEL-1a\n",
    "import tensorflow as tf\n",
    "from tensorflow import keras\n",
    "from tensorflow.keras import layers\n",
    "\n",
    "model = keras.Sequential(\n",
    "\t[\n",
    "\t\tlayers.Dense(3, activation=\"sigmoid\", name=\"hidden\"),\n",
    "\t\tlayers.Dense(1,  activation=\"relu\", name=\"final\"),\n",
    "\t]\n",
    ")\n",
    "\n",
    "batch = tf.ones((256, 2))  # Call model on a test input\n",
    "y = model(batch)\t\n",
    "model.summary()"
   ]
  },
  {
   "cell_type": "code",
   "execution_count": null,
   "id": "c75b3e1e",
   "metadata": {},
   "outputs": [],
   "source": [
    "# MODEL-2\n",
    "import tensorflow as tf\n",
    "from tensorflow import keras\n",
    "from tensorflow.keras import layers\n",
    "\n",
    "model = keras.Sequential(\n",
    "\t[\n",
    "\t\tlayers.Dense(10, activation=\"sigmoid\", name=\"hidden1\"),\n",
    "\t\tlayers.Dense(30, activation=\"sigmoid\", name=\"hidden2\"),\n",
    "\t\tlayers.Dense(10,  activation=\"softmax\", name=\"final\"),\n",
    "\t]\n",
    ")\n",
    "\n",
    "batch = tf.ones((256, 5))  # Call model on a test input\n",
    "y = model(batch)\t\n",
    "model.summary()"
   ]
  },
  {
   "cell_type": "code",
   "execution_count": null,
   "id": "c1cd5b56",
   "metadata": {},
   "outputs": [],
   "source": [
    "# MODEL-3\n",
    "import tensorflow as tf\n",
    "from tensorflow import keras\n",
    "from tensorflow.keras import layers\n",
    "\n",
    "model = keras.Sequential(\n",
    "\t[\n",
    "\t\tlayers.Dense(10, activation=\"sigmoid\", name=\"hidden1\"),\n",
    "\t\tlayers.Dense(30, activation=\"sigmoid\", name=\"hidden2\"),\n",
    "\t\tlayers.Dense(1,  activation=\"sigmoid\", name=\"final\"),\n",
    "\t]\n",
    ")\n",
    "\n",
    "batch = tf.ones((256, 5))  # Call model on a test input\n",
    "y = model(batch)\t\n",
    "model.summary()"
   ]
  },
  {
   "cell_type": "markdown",
   "id": "fde83dd9",
   "metadata": {},
   "source": [
    "# Creating a Sequential model¶\n",
    "Specifying the input shape in advance\n",
    "https://keras.io/guides/sequential_model/"
   ]
  },
  {
   "cell_type": "code",
   "execution_count": null,
   "id": "5024c0b7",
   "metadata": {},
   "outputs": [],
   "source": [
    "# https://keras.io/guides/sequential_model/\n",
    "# MODEL-4\n",
    "model = keras.Sequential()\n",
    "model.add(keras.Input(shape=(4,)))\n",
    "model.add(layers.Dense(2, activation=\"relu\"))\n",
    "\n",
    "model.summary()"
   ]
  },
  {
   "cell_type": "code",
   "execution_count": null,
   "id": "7a4a8796",
   "metadata": {},
   "outputs": [],
   "source": [
    "# MODEL-5 (same as # MODEL-3)\n",
    "model = keras.Sequential()\n",
    "model.add(keras.Input(shape=(5,)))\n",
    "model.add(layers.Dense(10, activation=\"relu\"))\n",
    "model.add(layers.Dense(30, activation=\"relu\"))\n",
    "model.add(layers.Dense(1, activation=\"relu\"))\n",
    "\n",
    "model.summary()"
   ]
  }
 ],
 "metadata": {
  "kernelspec": {
   "display_name": "Python 3 (ipykernel)",
   "language": "python",
   "name": "python3"
  },
  "language_info": {
   "codemirror_mode": {
    "name": "ipython",
    "version": 3
   },
   "file_extension": ".py",
   "mimetype": "text/x-python",
   "name": "python",
   "nbconvert_exporter": "python",
   "pygments_lexer": "ipython3",
   "version": "3.11.5"
  }
 },
 "nbformat": 4,
 "nbformat_minor": 5
}
