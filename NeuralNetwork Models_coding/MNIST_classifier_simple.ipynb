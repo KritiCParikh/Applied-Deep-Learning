{
 "cells": [
  {
   "cell_type": "markdown",
   "metadata": {
    "id": "B8t6zenxb8ti"
   },
   "source": [
    "# 2024-Spring-BUAN-6382, Applied Deep Learning\n",
    "# MNIST Classifier\n",
    "\n",
    "mnist_classifier_simple.ipynb\n",
    "\n",
    "2024.01.29"
   ]
  },
  {
   "cell_type": "code",
   "execution_count": 23,
   "metadata": {
    "colab": {
     "base_uri": "https://localhost:8080/",
     "height": 17
    },
    "id": "mf8c8ykMlPT1",
    "outputId": "c6991bcf-9a0d-4ef0-b7e1-2a6c025936ba"
   },
   "outputs": [
    {
     "data": {
      "text/html": [
       "<style>.container { width:100% !important; }</style>"
      ],
      "text/plain": [
       "<IPython.core.display.HTML object>"
      ]
     },
     "metadata": {},
     "output_type": "display_data"
    }
   ],
   "source": [
    "from IPython.display import display, HTML\n",
    "display(HTML(\"<style>.container { width:100% !important; }</style>\"))"
   ]
  },
  {
   "cell_type": "code",
   "execution_count": 7,
   "metadata": {
    "colab": {
     "base_uri": "https://localhost:8080/",
     "height": 69
    },
    "id": "zGuTCu0Pb8tk",
    "outputId": "ba5fc060-3fc3-4d9a-d4a2-6fa872abff8a"
   },
   "outputs": [
    {
     "name": "stdout",
     "output_type": "stream",
     "text": [
      "tf ver =  2.15.0\n",
      "pandas ver = 1.5.3\n",
      "numpy ver = 1.23.5\n"
     ]
    },
    {
     "data": {
      "text/html": [
       "<style>.container { width:100% !important; }</style>"
      ],
      "text/plain": [
       "<IPython.core.display.HTML object>"
      ]
     },
     "metadata": {},
     "output_type": "display_data"
    }
   ],
   "source": [
    "import tensorflow as tf\n",
    "print(\"tf ver = \",tf.__version__)  #1.14.0\n",
    "import keras\n",
    "import keras.utils as kutils\n",
    "# print(\"keras ver =\", keras.__version__) #2.2.4\n",
    "import pandas as pd\n",
    "print(\"pandas ver =\", pd.__version__) #0.25.2\n",
    "import numpy as np\n",
    "print(\"numpy ver =\", np.__version__) # 1.16.1 (after >conda install numpy==1.16.1)   ow 1.16.5  as of 2019.10.10\n",
    "\n",
    "# from tensorflow.keras.utils import to_categorical\n",
    "\n",
    "from IPython.core.display import display, HTML\n",
    "display(HTML(\"<style>.container { width:100% !important; }</style>\"))"
   ]
  },
  {
   "cell_type": "markdown",
   "metadata": {
    "id": "8OfkI5joRv-8"
   },
   "source": [
    "# Load data"
   ]
  },
  {
   "cell_type": "code",
   "execution_count": 8,
   "metadata": {
    "colab": {
     "base_uri": "https://localhost:8080/"
    },
    "id": "j59tUuYHb8tl",
    "outputId": "27ca92f1-ed0d-4c58-a11b-f70734be200a"
   },
   "outputs": [
    {
     "name": "stdout",
     "output_type": "stream",
     "text": [
      "(60000, 28, 28)\n",
      "(10000, 28, 28)\n",
      "(60000,)\n",
      "(10000,)\n",
      "CPU times: user 269 ms, sys: 15.2 ms, total: 284 ms\n",
      "Wall time: 290 ms\n"
     ]
    }
   ],
   "source": [
    "\n",
    "%%time\n",
    "from keras.datasets import mnist\n",
    "(train_data, train_labels), (test_data, test_labels) = mnist.load_data( )\n",
    "print(train_data.shape) # (60000, 28, 28)\n",
    "print(test_data.shape)  # (10000, 28, 28)\n",
    "print(train_labels.shape) # (60000,)\n",
    "print(test_labels.shape)  # (10000,)"
   ]
  },
  {
   "cell_type": "markdown",
   "metadata": {
    "id": "WdbX2yDjRAfP"
   },
   "source": [
    "# Increase width of printed lines\n",
    "* https://stackoverflow.com/questions/25583428/ipython-how-to-set-terminal-width\n",
    "\n",
    "        You can see your current line width with\n",
    "\n",
    "        numpy.get_printoptions()['linewidth']\n",
    "        and set it with\n",
    "\n",
    "        numpy.set_printoptions(linewidth=160)"
   ]
  },
  {
   "cell_type": "code",
   "execution_count": 10,
   "metadata": {
    "colab": {
     "base_uri": "https://localhost:8080/"
    },
    "id": "by2nuXMsQ6aM",
    "outputId": "37086dfe-4ded-420a-f68b-2c36cd4d1b5a"
   },
   "outputs": [
    {
     "data": {
      "text/plain": [
       "75"
      ]
     },
     "execution_count": 10,
     "metadata": {},
     "output_type": "execute_result"
    }
   ],
   "source": [
    "np.get_printoptions()['linewidth']"
   ]
  },
  {
   "cell_type": "code",
   "execution_count": 11,
   "metadata": {
    "id": "PRh3cfLHROvk"
   },
   "outputs": [],
   "source": [
    "np.set_printoptions(linewidth=160)"
   ]
  },
  {
   "cell_type": "code",
   "execution_count": 12,
   "metadata": {
    "colab": {
     "base_uri": "https://localhost:8080/"
    },
    "id": "zaXg5j5LRO5p",
    "outputId": "cc7c8cdc-66bb-4e17-8f7a-ab2736eb74ca"
   },
   "outputs": [
    {
     "name": "stdout",
     "output_type": "stream",
     "text": [
      "[[  0   0   0   0   0   0   0   0   0   0   0   0   0   0   0   0   0   0   0   0   0   0   0   0   0   0   0   0]\n",
      " [  0   0   0   0   0   0   0   0   0   0   0   0   0   0   0   0   0   0   0   0   0   0   0   0   0   0   0   0]\n",
      " [  0   0   0   0   0   0   0   0   0   0   0   0   0   0   0   0   0   0   0   0   0   0   0   0   0   0   0   0]\n",
      " [  0   0   0   0   0   0   0   0   0   0   0   0   0   0   0   0   0   0   0   0   0   0   0   0   0   0   0   0]\n",
      " [  0   0   0   0   0   0   0   0   0   0   0   0   0   0   0  51 159 253 159  50   0   0   0   0   0   0   0   0]\n",
      " [  0   0   0   0   0   0   0   0   0   0   0   0   0   0  48 238 252 252 252 237   0   0   0   0   0   0   0   0]\n",
      " [  0   0   0   0   0   0   0   0   0   0   0   0   0  54 227 253 252 239 233 252  57   6   0   0   0   0   0   0]\n",
      " [  0   0   0   0   0   0   0   0   0   0   0  10  60 224 252 253 252 202  84 252 253 122   0   0   0   0   0   0]\n",
      " [  0   0   0   0   0   0   0   0   0   0   0 163 252 252 252 253 252 252  96 189 253 167   0   0   0   0   0   0]\n",
      " [  0   0   0   0   0   0   0   0   0   0  51 238 253 253 190 114 253 228  47  79 255 168   0   0   0   0   0   0]\n",
      " [  0   0   0   0   0   0   0   0   0  48 238 252 252 179  12  75 121  21   0   0 253 243  50   0   0   0   0   0]\n",
      " [  0   0   0   0   0   0   0   0  38 165 253 233 208  84   0   0   0   0   0   0 253 252 165   0   0   0   0   0]\n",
      " [  0   0   0   0   0   0   0   7 178 252 240  71  19  28   0   0   0   0   0   0 253 252 195   0   0   0   0   0]\n",
      " [  0   0   0   0   0   0   0  57 252 252  63   0   0   0   0   0   0   0   0   0 253 252 195   0   0   0   0   0]\n",
      " [  0   0   0   0   0   0   0 198 253 190   0   0   0   0   0   0   0   0   0   0 255 253 196   0   0   0   0   0]\n",
      " [  0   0   0   0   0   0  76 246 252 112   0   0   0   0   0   0   0   0   0   0 253 252 148   0   0   0   0   0]\n",
      " [  0   0   0   0   0   0  85 252 230  25   0   0   0   0   0   0   0   0   7 135 253 186  12   0   0   0   0   0]\n",
      " [  0   0   0   0   0   0  85 252 223   0   0   0   0   0   0   0   0   7 131 252 225  71   0   0   0   0   0   0]\n",
      " [  0   0   0   0   0   0  85 252 145   0   0   0   0   0   0   0  48 165 252 173   0   0   0   0   0   0   0   0]\n",
      " [  0   0   0   0   0   0  86 253 225   0   0   0   0   0   0 114 238 253 162   0   0   0   0   0   0   0   0   0]\n",
      " [  0   0   0   0   0   0  85 252 249 146  48  29  85 178 225 253 223 167  56   0   0   0   0   0   0   0   0   0]\n",
      " [  0   0   0   0   0   0  85 252 252 252 229 215 252 252 252 196 130   0   0   0   0   0   0   0   0   0   0   0]\n",
      " [  0   0   0   0   0   0  28 199 252 252 253 252 252 233 145   0   0   0   0   0   0   0   0   0   0   0   0   0]\n",
      " [  0   0   0   0   0   0   0  25 128 252 253 252 141  37   0   0   0   0   0   0   0   0   0   0   0   0   0   0]\n",
      " [  0   0   0   0   0   0   0   0   0   0   0   0   0   0   0   0   0   0   0   0   0   0   0   0   0   0   0   0]\n",
      " [  0   0   0   0   0   0   0   0   0   0   0   0   0   0   0   0   0   0   0   0   0   0   0   0   0   0   0   0]\n",
      " [  0   0   0   0   0   0   0   0   0   0   0   0   0   0   0   0   0   0   0   0   0   0   0   0   0   0   0   0]\n",
      " [  0   0   0   0   0   0   0   0   0   0   0   0   0   0   0   0   0   0   0   0   0   0   0   0   0   0   0   0]]\n"
     ]
    }
   ],
   "source": [
    "print(train_data[1,:,:])"
   ]
  },
  {
   "cell_type": "code",
   "execution_count": 12,
   "metadata": {
    "id": "AbREgDLhRPC4"
   },
   "outputs": [],
   "source": []
  },
  {
   "cell_type": "code",
   "execution_count": 13,
   "metadata": {
    "colab": {
     "base_uri": "https://localhost:8080/"
    },
    "id": "6HzWDCkib8tm",
    "outputId": "df0a783d-86c7-4480-ad41-28fdf04ca579"
   },
   "outputs": [
    {
     "name": "stdout",
     "output_type": "stream",
     "text": [
      "3\n",
      "1\n"
     ]
    }
   ],
   "source": [
    "print(train_data.ndim)\n",
    "print(train_labels.ndim)"
   ]
  },
  {
   "cell_type": "code",
   "execution_count": 14,
   "metadata": {
    "colab": {
     "base_uri": "https://localhost:8080/"
    },
    "id": "vbgy-IFgb8tm",
    "outputId": "94fd54b1-5fe5-4e76-f9d1-c898c4bd7976"
   },
   "outputs": [
    {
     "name": "stdout",
     "output_type": "stream",
     "text": [
      "uint8\n",
      "uint8\n"
     ]
    }
   ],
   "source": [
    "print(train_data.dtype)\n",
    "print(train_labels.dtype)"
   ]
  },
  {
   "cell_type": "code",
   "execution_count": 15,
   "metadata": {
    "id": "t-1W8xuLb8tm"
   },
   "outputs": [],
   "source": [
    "# train_data"
   ]
  },
  {
   "cell_type": "code",
   "execution_count": 16,
   "metadata": {
    "colab": {
     "base_uri": "https://localhost:8080/"
    },
    "id": "C9Br_IZBb8tm",
    "outputId": "48e96df6-a8fd-43b6-f13f-417495d4e741"
   },
   "outputs": [
    {
     "data": {
      "text/plain": [
       "array([5, 0, 4, ..., 5, 6, 8], dtype=uint8)"
      ]
     },
     "execution_count": 16,
     "metadata": {},
     "output_type": "execute_result"
    }
   ],
   "source": [
    "train_labels"
   ]
  },
  {
   "cell_type": "code",
   "execution_count": 17,
   "metadata": {
    "colab": {
     "base_uri": "https://localhost:8080/"
    },
    "id": "OGBm8zj9WPml",
    "outputId": "d63fc362-40e4-44b0-e0c6-eb52b48484f8"
   },
   "outputs": [
    {
     "data": {
      "text/plain": [
       "784"
      ]
     },
     "execution_count": 17,
     "metadata": {},
     "output_type": "execute_result"
    }
   ],
   "source": [
    "28*28"
   ]
  },
  {
   "cell_type": "markdown",
   "metadata": {
    "id": "iqItibqaRpq_"
   },
   "source": [
    "# Convert images to sequences"
   ]
  },
  {
   "cell_type": "code",
   "execution_count": 18,
   "metadata": {
    "id": "pT0k0bYpb8tn"
   },
   "outputs": [],
   "source": [
    "train_images = train_data.reshape((60000, 28 * 28))\n",
    "train_images = train_images.astype('float32') / 255\n",
    "test_images = test_data.reshape((10000, 28 * 28))\n",
    "test_images = test_images.astype('float32') / 255"
   ]
  },
  {
   "cell_type": "code",
   "execution_count": 19,
   "metadata": {
    "colab": {
     "base_uri": "https://localhost:8080/"
    },
    "id": "R8rCNeTab8tn",
    "outputId": "f1689ae6-b83a-45e2-8ed7-d2f79f58a096"
   },
   "outputs": [
    {
     "name": "stdout",
     "output_type": "stream",
     "text": [
      "-------- ndim/rank: 2\n",
      "-------- shape: (60000, 784)\n",
      "-------- dtype: float32\n"
     ]
    }
   ],
   "source": [
    "print(\"-------- ndim/rank:\", train_images.ndim)\n",
    "print(\"-------- shape:\",     train_images.shape)\n",
    "print(\"-------- dtype:\",     train_images.dtype)"
   ]
  },
  {
   "cell_type": "code",
   "execution_count": 25,
   "metadata": {
    "id": "rUJBLcmzP3l0"
   },
   "outputs": [],
   "source": [
    "np.set_printoptions(edgeitems=30, linewidth=100000,  formatter=dict(float=lambda x: \"%.3g\" % x))"
   ]
  },
  {
   "cell_type": "code",
   "execution_count": 26,
   "metadata": {
    "id": "il42W8bAb8tn"
   },
   "outputs": [],
   "source": [
    "# from tensorflow.python.keras.utils import to_categorical\n",
    "train_labels_cat = kutils.to_categorical(train_labels)\n",
    "test_labels_cat = kutils.to_categorical(test_labels)"
   ]
  },
  {
   "cell_type": "code",
   "execution_count": 27,
   "metadata": {
    "colab": {
     "base_uri": "https://localhost:8080/"
    },
    "id": "Pn085LvuQyyO",
    "outputId": "6eb1ed75-ce80-46cc-e2e5-ac6c663e7b3b"
   },
   "outputs": [
    {
     "data": {
      "text/plain": [
       "numpy.ndarray"
      ]
     },
     "execution_count": 27,
     "metadata": {},
     "output_type": "execute_result"
    }
   ],
   "source": [
    "type(train_labels_cat)"
   ]
  },
  {
   "cell_type": "code",
   "execution_count": 30,
   "metadata": {
    "colab": {
     "base_uri": "https://localhost:8080/"
    },
    "id": "63c0cUi4Qy9Q",
    "outputId": "d38fbbfc-edf2-406f-b20c-8427d9d0c864"
   },
   "outputs": [
    {
     "name": "stdout",
     "output_type": "stream",
     "text": [
      "60000\n",
      "(60000, 10)\n"
     ]
    }
   ],
   "source": [
    "print(len(train_labels))\n",
    "print(train_labels_cat.shape)"
   ]
  },
  {
   "cell_type": "code",
   "execution_count": 31,
   "metadata": {
    "colab": {
     "base_uri": "https://localhost:8080/"
    },
    "id": "guC5ODJcb8tn",
    "outputId": "b2852444-5cb1-4042-9667-4c7ac3dba01f"
   },
   "outputs": [
    {
     "name": "stdout",
     "output_type": "stream",
     "text": [
      "-------- ndim/rank:\n",
      "1\n",
      "2\n",
      "-------- shape:\n",
      "(60000,)\n",
      "(60000, 10)\n",
      "-------- dtype:\n",
      "uint8\n",
      "float32\n"
     ]
    }
   ],
   "source": [
    "\n",
    "print(\"-------- ndim/rank:\")\n",
    "print(train_labels.ndim)\n",
    "print(train_labels_cat.ndim)\n",
    "print(\"-------- shape:\")\n",
    "print(train_labels.shape)\n",
    "print(train_labels_cat.shape)\n",
    "print(\"-------- dtype:\")\n",
    "print(train_labels.dtype)\n",
    "print(train_labels_cat.dtype)"
   ]
  },
  {
   "cell_type": "code",
   "execution_count": 33,
   "metadata": {
    "colab": {
     "base_uri": "https://localhost:8080/"
    },
    "id": "JrEhqYDDRbci",
    "outputId": "aa38c287-a662-4602-b730-33cbb857db15"
   },
   "outputs": [
    {
     "name": "stdout",
     "output_type": "stream",
     "text": [
      "[5 0 4 1 9]\n",
      "[[0 0 0 0 0 1 0 0 0 0]\n",
      " [1 0 0 0 0 0 0 0 0 0]\n",
      " [0 0 0 0 1 0 0 0 0 0]\n",
      " [0 1 0 0 0 0 0 0 0 0]\n",
      " [0 0 0 0 0 0 0 0 0 1]]\n"
     ]
    }
   ],
   "source": [
    "print(train_labels[:5])\n",
    "print(train_labels_cat[:5,:])"
   ]
  },
  {
   "cell_type": "markdown",
   "metadata": {
    "id": "haWdQyD4b8to"
   },
   "source": [
    "# Define Network Layers\n",
    "\n",
    "$$\n",
    "a_1 = \\text{ReLU}(w_0 + w_1x_1 \\dots + w_kx_k)\n",
    "$$"
   ]
  },
  {
   "cell_type": "code",
   "execution_count": 37,
   "metadata": {
    "id": "tllxYytEb8to"
   },
   "outputs": [],
   "source": [
    "# from keras.datasets import mnist\n",
    "from tensorflow.python.keras import models\n",
    "from tensorflow.python.keras import layers\n",
    "\n",
    "\n",
    "from keras.models import Sequential\n",
    "\n",
    "model = Sequential()\n",
    "model.add(layers.Dense(512, activation='relu', input_shape=(28 * 28,)))\n",
    "model.add(layers.Dense(10, activation='softmax')) #The second layer didn’t receive an input shape argument—instead,\n",
    "# it automatically inferred its input shape as being the output shape of the layer that came before."
   ]
  },
  {
   "cell_type": "markdown",
   "metadata": {
    "id": "MN-i1b2TlAEz"
   },
   "source": [
    "# Define Network Layers\n",
    "\n",
    "$$\n",
    "a_1 = \\text{ReLU}(w_{1,0} + w_{1,1}x_1 \\dots + w_{1,k}x_k)\\\\\n",
    "a_2 = \\text{ReLU}(w_{2,0} + w_{2,1}x_1 \\dots + w_{2,k}x_k\\\\\n",
    "\\dots\\\\\n",
    "a_{512} = \\text{ReLU}(w_{512,0} + w_{512,1}x_1 \\dots + w_{512,k}x_k)\n",
    "$$\n",
    "\n",
    "\n",
    "In Matrix Form:\n",
    "\n",
    "$\\displaystyle \\vec{a}= \\text{ReLU}( \\ W\\vec{x} + \\vec{b}\\ )\n",
    "$\n",
    "\n",
    "Matrix $W$ has size is 512 by k.\n",
    "\n",
    "$\\vec{b} = [w_{1,0}, w_{2,0}, \\dots, w_{512,0}]^T$ is a column vector of length 512.\n",
    "\n",
    "$\\vec{x} = [x_{1}, x_{2}, \\dots, x_{k}]^T$ is a column vector of length k=784."
   ]
  },
  {
   "cell_type": "markdown",
   "metadata": {
    "id": "00L9KGWfb8to"
   },
   "source": [
    "### Configure the learning process (loss, optimizer, etc)"
   ]
  },
  {
   "cell_type": "code",
   "execution_count": 38,
   "metadata": {
    "id": "B7sc6Bhcb8to"
   },
   "outputs": [],
   "source": [
    "model.compile(optimizer='rmsprop',\n",
    "                loss='categorical_crossentropy',\n",
    "                metrics=['accuracy'])"
   ]
  },
  {
   "cell_type": "code",
   "execution_count": 35,
   "metadata": {
    "id": "IZJNHyWBlFYW"
   },
   "outputs": [],
   "source": []
  },
  {
   "cell_type": "markdown",
   "metadata": {
    "id": "uiLbTVp2b8tp"
   },
   "source": [
    "### Train"
   ]
  },
  {
   "cell_type": "code",
   "execution_count": 40,
   "metadata": {
    "colab": {
     "base_uri": "https://localhost:8080/"
    },
    "id": "WUa8R9UTb8tp",
    "outputId": "3b91fdcf-366f-437a-a106-571c960c6efc"
   },
   "outputs": [
    {
     "name": "stdout",
     "output_type": "stream",
     "text": [
      "Epoch 1/5\n",
      "469/469 [==============================] - 1s 3ms/step - loss: 0.1082 - accuracy: 0.9679\n",
      "Epoch 2/5\n",
      "469/469 [==============================] - 2s 4ms/step - loss: 0.0711 - accuracy: 0.9790\n",
      "Epoch 3/5\n",
      "469/469 [==============================] - 2s 3ms/step - loss: 0.0510 - accuracy: 0.9842\n",
      "Epoch 4/5\n",
      "469/469 [==============================] - 1s 3ms/step - loss: 0.0386 - accuracy: 0.9882\n",
      "Epoch 5/5\n",
      "469/469 [==============================] - 1s 3ms/step - loss: 0.0292 - accuracy: 0.9912\n",
      "CPU times: user 8.15 s, sys: 1.19 s, total: 9.33 s\n",
      "Wall time: 10.9 s\n"
     ]
    },
    {
     "data": {
      "text/plain": [
       "<keras.src.callbacks.History at 0x7b0bd02e5090>"
      ]
     },
     "execution_count": 40,
     "metadata": {},
     "output_type": "execute_result"
    }
   ],
   "source": [
    "%%time\n",
    "#We’re now ready to train the network, which in Keras is done via a call to the network’s\n",
    "#fit method — we fit the model to its training data:\n",
    "model.fit(train_images, train_labels_cat, epochs=5, batch_size=128)"
   ]
  },
  {
   "cell_type": "code",
   "execution_count": 41,
   "metadata": {
    "colab": {
     "base_uri": "https://localhost:8080/"
    },
    "id": "KRuyIepLb8tp",
    "outputId": "d2e29b54-3a23-491b-f954-6fa8abe7e178"
   },
   "outputs": [
    {
     "name": "stdout",
     "output_type": "stream",
     "text": [
      "313/313 [==============================] - 1s 3ms/step - loss: 0.0603 - accuracy: 0.9816\n",
      "test_acc: 0.9815999865531921\n"
     ]
    }
   ],
   "source": [
    "test_loss, test_acc = model.evaluate(test_images, test_labels_cat)\n",
    "print('test_acc:', test_acc)"
   ]
  },
  {
   "cell_type": "code",
   "execution_count": 42,
   "metadata": {
    "colab": {
     "base_uri": "https://localhost:8080/"
    },
    "id": "aDCg_6azb8tp",
    "outputId": "15794d5d-bbd2-4ab7-b80e-22fc607094f2"
   },
   "outputs": [
    {
     "data": {
      "text/plain": [
       "(28, 28)"
      ]
     },
     "execution_count": 42,
     "metadata": {},
     "output_type": "execute_result"
    }
   ],
   "source": [
    "img=test_data[0]\n",
    "img.shape"
   ]
  },
  {
   "cell_type": "code",
   "execution_count": 43,
   "metadata": {
    "colab": {
     "base_uri": "https://localhost:8080/"
    },
    "id": "jlb9XZBwSu1u",
    "outputId": "c942102e-e0f3-4a58-c54d-83f2a4353625"
   },
   "outputs": [
    {
     "data": {
      "text/plain": [
       "(28, 28)"
      ]
     },
     "execution_count": 43,
     "metadata": {},
     "output_type": "execute_result"
    }
   ],
   "source": [
    "img = train_data[0]\n",
    "img.shape"
   ]
  },
  {
   "cell_type": "code",
   "execution_count": 44,
   "metadata": {
    "colab": {
     "base_uri": "https://localhost:8080/",
     "height": 253
    },
    "id": "a_oLGhwrb8tp",
    "outputId": "93649055-0a04-4d4a-e8c5-6d7ceb888edd"
   },
   "outputs": [
    {
     "name": "stderr",
     "output_type": "stream",
     "text": [
      "<ipython-input-44-7695b2dca52f>:5: DeprecationWarning: `set_matplotlib_formats` is deprecated since IPython 7.23, directly use `matplotlib_inline.backend_inline.set_matplotlib_formats()`\n",
      "  set_matplotlib_formats('png', 'pdf')\n"
     ]
    },
    {
     "data": {
      "application/pdf": "[encoded data removed]",
      "image/png": "[encoded data removed]",
      "text/plain": [
       "<Figure size 200x400 with 1 Axes>"
      ]
     },
     "metadata": {},
     "output_type": "display_data"
    }
   ],
   "source": [
    "%matplotlib inline\n",
    "import matplotlib.pyplot as plt\n",
    "from matplotlib.pyplot import figure\n",
    "from IPython.display import set_matplotlib_formats\n",
    "set_matplotlib_formats('png', 'pdf')\n",
    "save_figures = True\n",
    "plt.figure(figsize=(2,4))\n",
    "plt.imshow(img, cmap=plt.cm.binary)\n",
    "plt.show()"
   ]
  },
  {
   "cell_type": "code",
   "execution_count": 45,
   "metadata": {
    "colab": {
     "base_uri": "https://localhost:8080/",
     "height": 215
    },
    "id": "hP8qS993b8tq",
    "outputId": "4391a1cc-10b2-4d91-9967-da09989738dd"
   },
   "outputs": [
    {
     "data": {
      "application/pdf": "[encoded data removed]",
      "image/png": "[encoded data removed]",
      "text/plain": [
       "<Figure size 200x400 with 1 Axes>"
      ]
     },
     "metadata": {},
     "output_type": "display_data"
    }
   ],
   "source": [
    "my_slice = test_data[4, 7:-7, 7:-7]\n",
    "plt.figure(figsize=(2,4))\n",
    "plt.imshow(my_slice, cmap=plt.cm.binary)\n",
    "plt.show()"
   ]
  },
  {
   "cell_type": "markdown",
   "metadata": {
    "id": "1KU5DaKqt0jf"
   },
   "source": [
    "# Classification Loss Functions\n",
    "\n",
    "\n",
    "The math formula for loss in a classification model depends on the specific type of model and loss function being used. One commonly used loss function for binary classification is the binary cross-entropy loss, which is given by:\n",
    "\n",
    "$$L(y, y_{hat}) = -[y \\log(y_{hat}) + (1-y) \\log(1-y_{hat})]$$\n",
    "\n",
    "where y is the true label (0 or 1) and y_hat is the predicted probability of the positive class (between 0 and 1).\n",
    "\n",
    "For multiclass classification, one common loss function is the categorical cross-entropy loss, which is given by:\n",
    "\n",
    "$$L(y, y_{hat}) = - \\sum(y \\log(y_{hat}))$$\n",
    "\n",
    "where y is a one-hot vector representing the true class and y_hat is a vector of predicted probabilities for each class."
   ]
  },
  {
   "cell_type": "markdown",
   "metadata": {
    "id": "P5ONnuz0UWRy"
   },
   "source": [
    "# Let's examine the network we used in this code"
   ]
  },
  {
   "cell_type": "code",
   "execution_count": 46,
   "metadata": {
    "colab": {
     "base_uri": "https://localhost:8080/"
    },
    "id": "NvxnvBiAb8tq",
    "outputId": "ab8b0400-d77b-46e0-d98f-455a98f55801"
   },
   "outputs": [
    {
     "name": "stdout",
     "output_type": "stream",
     "text": [
      "Model: \"sequential\"\n",
      "_________________________________________________________________\n",
      " Layer (type)                Output Shape              Param #   \n",
      "=================================================================\n",
      " module_wrapper (ModuleWrap  (None, 512)               401920    \n",
      " per)                                                            \n",
      "                                                                 \n",
      " module_wrapper_1 (ModuleWr  (None, 10)                5130      \n",
      " apper)                                                          \n",
      "                                                                 \n",
      "=================================================================\n",
      "Total params: 407050 (1.55 MB)\n",
      "Trainable params: 407050 (1.55 MB)\n",
      "Non-trainable params: 0 (0.00 Byte)\n",
      "_________________________________________________________________\n"
     ]
    }
   ],
   "source": [
    "model.summary()"
   ]
  },
  {
   "cell_type": "code",
   "execution_count": 47,
   "metadata": {
    "colab": {
     "base_uri": "https://localhost:8080/"
    },
    "id": "_x87RV2Z7bcu",
    "outputId": "8b561658-aad0-4928-e395-b970f7ae7bc7"
   },
   "outputs": [
    {
     "data": {
      "text/plain": [
       "<tf.Variable 'module_wrapper/dense_2/kernel:0' shape=(784, 512) dtype=float32, numpy=\n",
       "array([[-0.0448, -0.0347, 0.0365, -0.011, -0.0278, 0.0179, -0.000386, 0.0204, -0.0591, 0.051, -0.0161, -0.0328, -0.031, -0.0419, -0.0281, -0.0393, -0.0642, 0.0575, 0.0117, 0.0325, 0.0617, -0.0146, -0.0656, -0.0559, -0.0642, 0.00151, 0.0315, 0.00735, 0.00824, -0.0196, ..., -0.0666, 0.0669, 0.0496, 0.04, 0.0382, -0.0554, -0.0466, -0.041, 0.038, 0.0491, -0.0644, -0.0294, -0.05, -0.052, -0.0414, 0.0489, 0.0658, -0.0647, -0.00715, 0.0454, -0.0577, 0.0244, -0.0483, 0.0536, -0.0489, 0.0646, -0.0072, 0.0351, -0.0539, -0.0228],\n",
       "       [-0.0578, 0.011, -0.0476, 0.0541, 0.0229, -0.0106, 0.0537, -0.0139, 0.0117, 0.0132, -0.0291, 0.0258, 0.066, -0.0496, -0.00786, 0.0589, 0.0581, -0.0383, 0.0197, 0.0134, -0.0388, -0.0232, -0.0381, 0.0224, 0.0556, -0.0412, -0.0104, 0.0481, -0.0332, -0.0162, ..., -0.059, -0.0565, -0.00397, 0.0523, 0.00486, 0.0169, -0.0292, 0.0367, 0.0011, 0.0536, -0.0576, 0.0623, 0.0234, 0.0286, 0.0572, 0.066, -0.0311, 0.0246, 0.0215, -0.0552, 0.00584, 0.0272, 0.0291, 0.0572, -0.0676, -0.0397, 0.0392, -0.0211, -0.0417, 0.0628],\n",
       "       [-0.0345, -0.0255, 0.0112, -0.00911, 0.0498, 0.0532, -0.0413, -0.0022, 0.0502, 0.00351, -0.0448, -0.0471, -4.8e-06, 0.0476, -0.00511, -0.0536, -0.0287, 0.0253, -0.0305, 0.0403, -0.0335, -0.0317, -0.0198, 0.00472, 0.0574, 0.0191, -0.0121, 0.00765, -0.0355, -0.0611, ..., 0.0567, -0.0491, -0.058, 0.00149, 0.0671, -0.00236, 0.0443, 0.0645, 0.0401, -0.0547, -0.00617, -0.0363, -0.0162, -0.0512, -0.0247, -0.0672, 0.000282, 0.00505, -0.0279, 0.0234, -0.0135, -0.0439, 0.00652, 0.000917, -0.0539, -0.0559, -0.0386, -0.0344, -0.00692, 0.0242],\n",
       "       [-0.0413, 0.0527, 0.0585, -0.00266, 0.0399, 0.0626, 0.0678, -0.0172, -0.00525, -0.0231, -0.0412, -0.025, 0.0162, -0.0527, -0.000528, 0.0154, 0.0565, 0.0143, -0.0231, 0.0396, -0.0575, 0.00486, 0.0601, 0.0194, -0.0476, 0.0476, -0.000456, 0.00827, -0.0212, -0.0237, ..., 0.047, -0.0252, -0.0296, 0.0159, 0.0304, 0.0619, 0.015, 0.0102, 0.0404, -0.00229, -0.0451, -0.0262, 0.0158, 0.0556, 0.0327, -0.0222, 0.0657, -0.0403, -0.00917, 0.0448, 0.0044, -0.0412, -0.0115, 0.0176, -0.0218, 0.00172, -0.00804, -0.0298, 0.0355, -0.0329],\n",
       "       [-0.0133, -0.0552, 0.0032, 0.0213, 0.0143, 0.0387, 0.0379, 0.0384, -0.032, 0.0549, 0.0333, -0.00918, -0.00771, 0.01, 0.0129, 0.0151, -0.0459, -0.0646, 0.0439, 0.00815, -0.0547, 0.00179, 0.0381, 0.0391, 0.00419, 0.0588, 0.0315, -0.0424, -0.0492, -0.0406, ..., 0.0402, 0.0555, -0.0545, 0.013, 0.0541, -0.00509, 0.0176, 0.0659, 0.0251, 0.0334, -0.0197, -0.0627, 0.03, 0.0514, -0.0139, -0.0206, -0.0253, -0.0436, -0.055, -0.0135, -0.0415, -0.0598, 0.057, 0.0248, 0.0674, -0.0346, 0.0604, -0.0209, 0.0219, 0.0278],\n",
       "       [-0.0254, 0.0173, 0.00127, 0.0234, 0.0632, -0.0339, -0.00301, -0.0315, 0.00644, -0.000567, -0.0582, -0.018, 0.044, 0.00497, 0.0317, 0.0215, -0.0413, 0.0676, -0.0416, -0.0126, 0.0611, 0.0113, 0.0185, -0.0667, 0.00963, -0.0256, -0.0115, 0.0343, 0.00524, 0.00612, ..., -0.0605, 0.0396, -0.0307, -0.000988, -0.00695, 0.0119, 0.0547, -0.00104, 0.00512, -0.0333, -0.0609, -0.0203, 0.0479, -0.0629, -0.00733, -0.0574, -0.0126, -0.0473, 0.0562, -0.0274, 0.0512, -0.0367, 0.0505, -0.0226, -0.0061, -0.0553, -0.0409, 0.0285, 0.0173, -0.047],\n",
       "       [0.0356, -0.0592, -0.0465, -0.0242, 0.0295, 0.0436, -0.00759, 0.035, 0.00221, 0.00373, 0.019, -0.00822, -0.0529, 0.0327, -0.0361, -0.0253, 0.0452, -0.0673, 0.041, -0.00676, 0.063, -3.09e-05, -0.0174, -0.021, -0.0514, 0.0247, -0.0297, -0.0089, 0.0136, 0.0659, ..., -0.0531, -0.0498, 0.0302, -0.0452, -0.0525, 0.0424, -0.0581, 0.0647, 0.0298, -0.0158, 0.00767, 0.00807, -0.0425, -0.0526, 0.00573, -0.0609, -0.0492, -0.0609, 0.0281, -0.027, 0.0552, 0.0512, 0.0473, 0.0283, -0.0641, 0.0625, -0.0264, 0.0655, 0.0401, 0.0543],\n",
       "       [0.00422, -0.017, -0.0102, -0.0239, 0.0364, 0.0459, 0.0182, 0.0552, 0.0204, 0.0461, -0.0421, 0.0359, -0.0648, 0.00135, 0.056, 0.00841, 0.0224, -0.0416, -0.0414, -0.0567, 0.0649, 0.043, -0.0284, 0.0218, 0.039, -0.00615, 0.0587, -0.00894, 0.0394, 0.0408, ..., 0.0366, 0.0618, -0.0556, -0.0418, 0.033, 0.0601, -0.0387, -0.0585, -0.00611, -0.0194, 0.00543, -0.0674, 0.0311, -0.0541, -0.0428, 0.0211, 0.0219, 0.0173, 0.0124, 0.0348, 0.0551, -0.0426, 0.0549, 0.00841, 0.0189, 0.0238, 0.0542, -0.0634, 0.00544, 0.0505],\n",
       "       [-0.0135, 0.00192, -0.063, 0.000527, -0.036, -0.0362, -0.0589, -0.0149, -0.00719, 0.0527, -0.0347, 0.0337, 0.0568, -0.0373, 0.0198, 0.0267, -0.0155, -0.0209, 0.0622, -0.0626, 0.00404, 0.0157, 0.0531, 0.0382, 0.02, -0.00963, -0.00261, -0.0655, -0.0378, 0.0561, ..., -0.0111, 0.0507, -0.0211, 0.0144, -0.00348, 0.0342, -0.0213, -0.00348, -0.0657, 0.0083, -0.015, -0.037, -0.0309, 0.0209, -0.0411, -0.0444, -0.0674, -0.0281, -0.0473, -0.0645, -0.00327, -0.0256, 0.0243, -0.0432, 0.0196, -0.0649, -0.0368, -0.052, -0.0643, -0.0134],\n",
       "       [0.0411, 0.0235, -0.0505, 0.0112, 0.0636, 0.0346, -0.00244, -0.0367, 0.0212, -0.00443, 0.0461, 0.0354, 0.0592, -0.0494, 0.0599, -0.0342, -0.00339, -0.0594, -0.011, 0.0251, 0.0646, 0.00537, 0.0329, -0.00633, -0.0387, 0.039, 0.0338, -0.0493, 0.0321, 0.0226, ..., 0.0545, -0.0409, -0.000792, -0.0623, 0.0581, 0.0263, -0.0122, -0.0176, -0.0538, -0.0347, -0.0152, -0.0457, 0.0666, 0.0432, 0.0183, 0.00147, -0.0535, 0.0063, -0.011, 0.0524, 0.0668, -0.00429, -0.0225, 0.0189, -0.0146, 0.0612, -0.032, 0.0522, 0.0223, 0.007],\n",
       "       [-0.00569, 0.0545, 0.0546, 0.00972, 0.0275, 0.0587, 0.00362, 0.0506, -0.0373, -0.000372, 0.0411, -0.0196, -0.0253, -0.0496, -0.0467, -0.0155, 0.00562, -0.065, -0.0379, 0.0277, 0.0121, -0.039, 0.000343, -0.0482, -0.0347, -0.00416, -0.0446, -0.00818, 0.0546, -0.0152, ..., 0.033, 0.0313, 0.0232, -0.0505, -0.0393, 0.00992, 0.0296, -0.0348, 0.011, 0.0605, 0.0469, 0.0548, -0.0639, 0.0346, 0.0645, -0.0476, 0.0141, 0.0454, 0.0144, 0.0199, 0.0506, -0.00749, -0.0328, -0.00637, -0.0128, -0.0435, 0.00237, 0.0203, -0.0257, 0.0233],\n",
       "       [0.0013, -0.00593, 0.0279, 0.0351, -0.0628, -0.0125, -0.0359, -0.0412, -0.0485, 0.0553, 0.0607, 0.0391, -0.0458, 0.0306, 0.00764, 0.0312, -0.0393, 0.00856, -0.000125, 0.0365, -0.0126, 0.0525, -0.0288, 0.0427, 0.00516, 0.0205, -0.0231, 0.0306, -0.056, -0.0134, ..., 0.0111, 0.0275, 0.00446, 0.0357, -0.000623, -0.0187, 0.0531, 0.0286, 0.0422, 0.0548, 0.0299, -0.0114, 0.031, -0.0184, 0.0016, 0.0057, -0.0292, 0.0108, 0.0563, 0.0612, -0.0187, -0.0667, 0.0438, 0.0493, 0.00549, -0.036, -0.0533, -0.0111, 0.0645, -0.054],\n",
       "       [0.00741, -0.0138, -0.0453, -0.0304, -0.00341, -0.0661, 0.0613, -0.00325, 0.00963, -0.0495, 0.0635, 0.0228, -0.00661, -0.0654, -0.0336, -0.0279, -0.0333, 0.0218, 0.0617, 0.0309, 0.0442, 0.011, -0.0111, 0.0405, -0.0558, -0.0292, -0.00856, 0.0182, -0.0404, -0.0376, ..., -0.0188, 0.0606, -0.0634, 0.0562, 0.0191, -0.0135, -0.0108, -0.0386, -0.0346, 0.0167, -0.0434, -0.0405, -0.00906, 0.0565, -0.0556, -0.011, -0.0403, 0.0344, 0.0613, -0.00879, -0.044, 0.0258, -0.0636, -0.067, -0.0642, -0.0181, -0.0293, -0.0601, 0.0129, -0.0171],\n",
       "       [0.0273, -0.0355, -0.0104, 0.0251, -0.00279, -0.026, 0.0398, 0.0524, -0.0103, -0.0517, -0.052, 0.0464, -0.0104, 0.0133, -0.0599, -0.0667, -0.056, 0.0143, 0.0646, 0.00978, 0.00454, -0.0483, 0.00795, -0.0672, 0.0544, -0.0489, -0.00717, -0.0343, -0.0671, -0.029, ..., 0.0599, 0.00465, -0.0655, 8.07e-06, 0.0351, 0.0197, -0.0132, -0.00114, 0.0464, -0.0635, 0.0249, 0.0203, 0.0353, -0.0233, 0.0403, 0.0483, -0.0264, 0.00888, -0.00176, -0.00914, -0.0346, 0.0165, 0.00936, 0.0227, -0.0655, -0.0177, -0.0381, -0.00287, 0.0193, -0.0222],\n",
       "       [-0.0163, -0.0376, 0.0482, -0.0432, -0.0406, -0.00338, -0.0329, 0.0666, -0.0401, 0.0585, -0.0416, 0.0631, -0.0188, 0.0127, 0.0261, -0.0248, -0.00817, -0.0187, 0.0364, -0.0612, -0.0128, -0.0413, -0.0656, 0.0509, -0.0506, -0.025, 0.0407, -0.0637, -0.00451, -0.0268, ..., -0.0442, 0.00354, -0.0475, 0.00475, 0.00365, 0.0141, 0.0146, 0.0606, -0.0245, -0.0486, -0.0632, -0.00366, 0.0568, -0.066, -0.0324, 0.0552, -0.0443, -0.0489, 0.00144, 0.000823, 0.0306, -0.0346, -0.0428, -0.00462, -0.0644, 0.0345, 0.0411, 0.0299, -0.0202, 0.00418],\n",
       "       [0.0544, 0.0361, 0.00353, -0.0492, 0.0153, -0.0301, 0.0478, -0.0128, -0.0409, 0.0169, 0.00771, -0.0476, 0.0251, -0.00424, 0.0463, -0.047, -0.000495, -0.0546, 0.00498, -0.0369, 0.0654, 0.029, 0.0486, -0.0123, 0.0315, 0.0398, 0.0192, 0.0276, 0.0164, 0.0386, ..., 0.057, -0.0427, -0.0196, 0.0657, -0.00129, 0.0625, 0.0468, 0.0575, -0.0092, -0.0193, -0.0563, 0.000706, 0.0271, -0.0466, -0.0253, 0.0378, 0.00125, 0.0073, -0.0326, 0.00941, -0.0352, -0.066, -0.0313, -0.0596, 0.0396, 0.0139, 0.0196, -0.0221, 0.0645, -0.00804],\n",
       "       [0.00669, 0.0427, -0.0423, -0.0338, -0.0308, 0.0389, -0.0202, -0.0346, -0.0503, 0.0216, -0.0164, 0.0501, 0.0315, 0.0386, -0.0405, -0.00991, 0.0565, 0.0585, 0.000644, 0.0271, -0.0605, -0.00308, 0.0276, -0.00364, -0.0638, 0.0372, -0.0195, -0.0201, -0.0364, -0.00849, ..., 0.00791, -0.0319, -0.0319, 0.0637, -0.00748, -0.0374, 0.0302, -0.038, 0.0046, -0.0247, -0.0579, -0.0486, -0.0541, -0.00907, -0.0468, -0.0345, -0.0355, 0.056, 0.0196, 0.0296, 0.065, -0.0533, -0.0381, -0.065, -0.00259, -0.0324, 0.0668, -0.0116, 0.014, 0.0266],\n",
       "       [0.0513, 0.0591, -0.0509, 0.00557, 0.0371, 0.0204, -0.0346, 0.0615, 0.0265, 0.067, -0.00704, -0.0265, 0.049, -0.00266, -0.0172, -0.0389, -0.0333, -0.00524, 0.0152, -0.0439, -0.0342, -0.0179, 0.0157, -0.000821, -0.0667, 0.0309, -0.0637, -0.0641, -0.0523, -0.0416, ..., 0.0272, -0.0179, -0.0188, 0.0381, 0.00215, -0.00836, -0.0428, -0.00671, -0.00184, 0.0284, 0.0596, 0.0571, -0.0174, -0.0518, -0.00453, 0.0585, -0.0168, -0.0104, 0.0605, 0.0368, -0.0179, 0.000299, 0.0293, -0.0677, -0.0151, -0.0113, -0.0222, -0.0624, -0.0415, -0.0631],\n",
       "       [-0.0341, 0.0417, 0.0626, 0.0294, 0.0161, -0.047, 0.0518, -0.0247, -0.0599, -0.0406, -0.0374, -0.0407, -0.0216, 0.0623, -0.0659, -0.00565, 0.0552, 0.0345, -0.0555, -0.0216, 0.0617, -0.0224, -0.0419, 0.0592, -0.0348, -0.0405, -0.0289, -0.0352, 0.0191, 0.0251, ..., -0.0345, 0.0614, 0.013, 0.0013, 0.0673, -0.0648, -0.0524, -0.0267, 0.0134, 0.0441, 0.0533, 0.0238, 0.0119, 0.0662, -0.0414, 0.0362, 0.0208, -0.056, 0.0488, 0.0581, 0.0135, -0.0318, 0.0046, 0.0172, -0.0651, 0.0101, 0.0283, 0.055, 0.00868, -0.068],\n",
       "       [0.00563, 0.0085, 0.0565, 0.0419, -0.0628, -0.00307, -0.0669, 0.0466, 0.0508, -0.0662, 0.0509, -0.0247, 0.0471, 0.00186, -0.0643, 0.00821, 0.0189, -0.0399, 0.0339, 0.0648, -0.0194, 0.0239, 0.0314, -0.0225, 0.0203, 0.0672, 0.0505, 0.0609, -0.0221, 0.0539, ..., 0.0254, 0.0594, -0.0294, 0.0268, -0.0189, 0.0554, 0.0335, -0.000278, 0.031, 0.0523, -0.013, 0.0573, 0.0366, 0.0626, 0.037, -0.0291, -0.00845, -0.00999, -0.0384, 0.0632, -0.00973, 0.0564, -0.0288, 0.0188, 0.0521, -0.0568, -0.0129, -0.00502, 0.00452, -0.0318],\n",
       "       [-0.0228, -0.0136, 0.012, 0.056, 0.0469, 0.055, -0.0178, -0.0588, -0.0238, -0.046, 0.0604, -0.0361, 0.0482, -0.0501, -0.0574, 0.0274, 0.06, -0.066, 0.0397, 0.0457, -0.0358, 0.0427, -0.00915, 0.0162, -0.0229, -0.0553, -0.0305, -0.0183, 0.0421, -0.055, ..., 0.0517, -0.0118, -0.0494, 0.0306, 0.0208, 0.0658, -0.0351, -0.059, -0.035, -0.0192, 0.0382, -0.0153, -0.0185, 0.0545, -0.0608, 0.0601, -0.037, -0.0643, -0.013, -0.0119, -0.0557, 0.0211, 0.0391, 0.0343, 0.0345, -0.047, -0.0605, -0.0357, 0.047, -0.0608],\n",
       "       [0.0595, 0.062, -0.0636, -0.042, -0.0188, 0.0271, -0.00766, 0.0302, 0.0557, 0.00349, 0.0174, -0.0281, -0.0652, -0.00435, -0.0454, 0.00442, -0.0104, -0.0369, 0.0542, -0.0446, -0.0567, -0.0532, 0.0127, 0.0678, -0.0401, -0.0153, -0.0213, 0.00915, 0.061, 0.0394, ..., 0.0175, -0.00714, 0.0198, 0.00651, 0.000764, 0.0125, 0.0652, -0.0593, 0.0224, 0.027, 0.0675, 0.0623, 0.0578, 0.041, 0.0181, -0.0254, 0.0255, 0.0531, 0.0113, -0.0522, -0.068, -0.027, 0.0377, 0.00474, 0.0223, -0.0395, 0.0114, -0.0319, 0.0383, 0.00559],\n",
       "       [0.0017, 0.000194, -0.0312, -0.0343, -0.0627, -0.0432, 0.0279, 0.0267, -0.0441, 0.0475, -0.0469, 0.0554, 0.0326, -0.0331, -0.0554, 0.0299, -0.0335, 0.0485, 0.0469, 0.00318, -0.0441, 0.0245, 0.0304, 0.064, -0.0292, 0.0233, 0.033, 0.0232, 0.00295, 0.00391, ..., 0.0566, 0.0137, 0.00635, 0.00619, 0.0586, -0.0164, 0.0678, -0.065, -0.0422, -0.0204, -0.067, -0.0412, -0.0624, -0.0125, -0.0349, 0.00424, 0.0338, 0.019, -0.0441, 0.0505, -0.0543, 0.0231, -0.052, -0.063, 0.034, 0.0237, 0.0661, -0.0398, -0.0311, 0.00664],\n",
       "       [0.0172, -0.0669, -0.0322, -0.0627, 0.0267, -0.0577, 0.0045, 0.0367, -0.048, 0.0565, -0.0192, -0.0442, -0.0589, 0.067, 0.0136, 0.00417, 0.00355, 0.0507, 0.0232, 0.0417, -0.0262, 0.0229, -0.00093, 0.0573, 0.0441, 0.0446, -0.0294, 0.00173, -0.065, 0.0621, ..., 0.0213, 0.00332, 0.00665, 0.0601, -0.0218, 0.00418, 0.0181, 0.00185, -0.0526, 0.0013, 0.0603, -0.0603, 0.0443, -0.0317, -0.027, 0.0534, -0.034, 0.0585, -0.0663, -0.0287, -0.0201, -0.0526, -0.0247, -0.0443, 0.058, -0.0462, -0.0606, -0.0326, -0.0468, -0.039],\n",
       "       [-0.00618, 0.029, -0.0485, -0.0581, -0.0407, -0.0479, -0.0152, -0.0183, 0.0208, 0.00357, 0.00421, -0.0615, -0.0139, 0.0177, -0.0245, -0.0153, -0.0298, 0.00383, 0.0476, -0.0054, 0.0271, 0.0622, 0.0451, -0.0176, 0.00679, 0.0637, -0.0259, -0.0133, 0.00752, 0.0372, ..., -0.000599, 0.044, 0.0128, 0.0203, 0.0612, -0.0228, -0.0176, 0.0186, -0.0172, 0.0207, -0.0232, -0.0412, 0.0166, -0.00173, 0.0656, -0.0618, 0.0561, -0.0364, -0.0419, -0.015, 0.0566, 0.0105, 0.0642, -0.015, 0.0647, 0.0287, 0.000447, 0.0243, 0.000325, 0.0354],\n",
       "       [0.0176, -0.0121, 0.047, -0.0484, 0.0357, -0.0336, 0.0187, -0.0108, -0.0539, -0.00582, 0.00523, 0.056, 0.0108, -0.0663, -0.0133, 0.00291, 0.0662, -0.0661, 0.0119, -0.0168, 0.0469, 0.0603, -0.0191, 0.0311, -0.0661, 0.0608, 0.0572, -0.0027, 0.00986, 0.0244, ..., -0.0588, 0.0382, 0.0482, 0.00515, -0.0676, -0.0423, -0.0626, -0.0498, -0.0418, -0.0422, -0.0371, -0.0148, 0.0297, 0.0103, -0.0413, 0.00552, 0.00179, -0.0407, -0.0384, 0.00278, 0.0203, 0.0234, 0.0244, 0.00967, -0.0486, 0.0442, 0.0418, 0.0336, -0.0514, -0.0608],\n",
       "       [-0.016, -0.0088, -0.019, -0.0133, 0.0479, 0.0206, 0.0295, 0.0157, -0.0602, -0.0547, -0.0386, -0.00108, 0.0585, 0.00366, -0.0331, -0.007, -0.024, 0.06, 0.0628, 0.0661, -0.0678, -0.0288, -0.0124, -0.0665, 0.0445, -0.00816, -0.0352, -0.0403, 0.0418, -0.0403, ..., -0.0439, 0.0453, -0.00723, 0.0599, 0.0588, -0.0546, 0.0342, -0.042, -0.0494, -0.0102, -0.0292, -0.0584, 0.0533, -0.0473, 0.065, -0.0501, -0.0592, 0.0585, 0.0175, 0.0649, -0.0174, 0.0408, 0.0219, -0.0325, 0.0405, -0.034, -0.0587, -0.0404, -0.0294, -0.0556],\n",
       "       [0.00658, 0.0208, 0.0338, 0.0414, 0.0134, 0.0151, -0.0625, 0.026, -0.0315, -0.0343, -0.053, 0.0529, -0.0429, 0.0629, 0.0414, -0.0524, -0.0589, -0.0161, 0.0534, 0.0376, 0.0301, 0.0153, -0.0329, -0.0604, -0.000985, 0.0118, 0.0452, 0.0643, -0.00887, 0.0378, ..., -0.00433, -0.0479, -0.0099, 0.0053, -0.00619, -0.0615, -0.0535, -0.0489, 0.00877, -0.0231, -0.0314, 0.0478, -0.000999, -0.0568, 0.0359, -0.0358, -0.0087, 0.0405, -0.0609, 0.0389, -0.0347, -0.0138, -0.0616, -0.0251, 0.00469, -0.0434, -0.0651, 0.00413, -0.051, -0.0304],\n",
       "       [0.013, -0.0365, -0.00557, -0.0507, 0.0295, 0.0442, -0.0215, -0.0225, -0.0187, 0.0531, -0.0386, 0.0255, 0.0207, -0.044, -0.0378, -0.067, 0.00986, 0.042, 0.0384, -0.0316, 0.0493, -0.0239, 0.0181, 0.00367, 0.0359, 0.0268, -0.034, -0.00801, 0.0641, -0.0622, ..., -0.0267, -0.062, 0.0305, -0.0157, 0.0419, -0.0352, -0.011, -0.0329, 0.0396, 0.0604, 0.0641, -0.059, 0.0473, -0.0145, -0.067, -0.00696, -0.0292, 0.00272, 0.0039, -0.0501, 0.00888, -0.0539, -0.0443, 0.053, -0.0186, -0.00921, 0.063, 0.0194, 0.0229, -0.0198],\n",
       "       [-0.0444, 0.00941, -0.0598, -0.0245, -0.0251, 0.0376, 0.0676, 0.00733, 0.0642, 0.0442, 0.000321, 0.0398, 0.0195, 0.0639, -0.00146, 0.0334, 0.0549, -0.00607, 0.0265, -0.0361, -0.0482, 0.0303, 0.0224, 0.0623, -0.0479, 0.0472, -0.00729, -0.0503, -0.00491, 0.0418, ..., 0.0509, -0.0219, -0.017, 0.0182, -0.0251, 0.0544, -0.0655, -0.0138, 0.0209, -0.0582, -0.00282, 0.0401, -0.00475, 0.0305, -0.00173, 0.039, 0.0559, -0.0414, -0.0664, -0.024, 0.0291, 0.00446, 0.045, -0.0385, 0.045, 0.0459, 0.00782, 0.046, -0.00829, -0.0261],\n",
       "       ...,\n",
       "       [-0.0196, -0.0649, -0.0378, -0.0431, -0.0136, 0.0643, 0.0245, -0.0104, -0.00322, -0.0662, 0.0145, -0.0487, -0.0457, 0.037, 0.0463, 0.0234, -0.0473, 0.0464, 0.0222, 0.0125, 0.0672, 0.0593, 0.012, -0.0237, 0.0574, 0.0135, 0.0315, 0.0554, -0.00713, -0.0317, ..., -0.065, -0.046, -0.0591, -0.0178, -0.06, -0.0151, 0.0427, -0.0451, 0.029, -0.0364, 0.0599, 0.036, -0.00514, -0.0658, 0.0242, 0.00889, -0.0443, 0.0636, -0.0417, 0.0347, -0.0578, 0.0442, 0.0468, 0.033, 0.0667, -0.0169, 0.00522, -0.056, 0.0609, 0.0481],\n",
       "       [-0.0639, -0.00956, 0.00273, 0.0154, -0.0506, 0.0291, -0.0216, 0.0145, -0.0438, 0.0474, -0.0628, -0.0538, -0.0534, -0.0505, -0.0371, -0.0453, -0.0168, 0.00125, 0.0345, -0.0133, 0.0468, -0.0565, -0.0248, 0.032, -0.0274, 0.0499, 0.0666, 0.0322, -0.0178, 0.0286, ..., -0.0357, 0.0618, -0.00464, 0.0521, 0.0504, -0.0044, -0.0509, -0.0384, -0.0481, -0.00153, -0.0123, -0.0639, -0.0566, -0.00141, -0.0329, -0.0217, 0.0348, -0.047, -0.0618, -0.0313, 0.0109, -0.0425, 0.00786, -0.00722, 0.0212, 0.0386, -0.0484, -0.0548, -0.0059, 0.0498],\n",
       "       [-0.0514, -0.0643, 0.052, 0.0103, -0.00119, -0.0299, -0.0563, -0.0367, 0.0166, -0.0177, 0.0211, 0.0543, 0.0411, 0.0579, 0.0231, 0.0146, 0.0187, -0.0156, -0.0295, 0.0144, 0.0527, 0.0564, 0.0409, -0.0189, 0.0551, 0.0181, -0.0399, 0.0135, -0.0427, 0.0491, ..., -0.0436, -0.0374, -0.0548, 0.0296, -0.00583, -0.0627, -0.00386, -0.0453, 0.0323, -0.0582, 0.0276, -0.0409, -0.0198, 0.0311, 0.0359, 0.0555, -0.0183, 0.058, 0.0494, -0.0108, -0.054, 0.0596, 0.0262, 0.00507, -0.00546, 0.031, -0.00195, 0.0529, 0.00179, 0.00504],\n",
       "       [-0.0191, 0.0476, -0.00262, -0.0395, 0.0509, -0.0289, -0.0221, 0.052, -0.0222, 0.0196, -0.0356, -0.0243, 0.0108, 0.0533, 0.046, 0.0179, 0.00919, -0.0052, -0.0503, 0.013, 0.0348, -0.011, 0.064, -0.00368, 0.0418, 0.0496, -0.0134, 0.0445, -0.0231, 0.00183, ..., 0.0396, 0.0257, -0.0483, -0.0213, -0.0411, -0.0285, 0.0281, 0.0577, -0.0479, -0.0677, 0.0631, -0.000347, -0.0561, 0.0648, 0.0628, -0.068, -0.0109, -0.0427, 0.0662, -0.0128, 0.0646, -0.0353, 0.0542, 0.0149, 0.0437, -0.0481, 0.0417, -0.0537, -0.0338, -0.0264],\n",
       "       [0.0258, -0.0257, 0.0287, -0.00433, 0.0076, 0.00726, -0.0522, -0.0472, -0.00715, -0.0218, -0.0551, -0.0439, 0.0403, 0.0325, -0.0642, -0.0149, -0.0553, -0.0313, -0.0445, -0.0433, -0.0638, 0.0378, 0.063, -0.0501, 0.0287, -0.0561, -0.0122, 0.00593, 0.0638, -0.00231, ..., -0.0285, 0.0347, 0.012, 0.0661, 0.00861, -0.0093, 0.0316, -0.0228, 0.0514, -0.0071, -0.0282, 0.0118, -0.0535, -0.0605, 0.0545, -0.0642, -0.025, 0.0646, -0.0392, 0.0492, -0.0536, -0.0208, 0.0596, -0.0235, 0.0209, -0.0553, -0.0411, 0.0374, 0.00294, -0.0523],\n",
       "       [-0.0508, 0.0451, 0.00173, -0.0662, 0.0419, 0.0204, -0.00847, 0.00125, 0.0326, -0.0317, -0.0335, -0.0107, -0.045, -0.0307, 0.00778, -0.0511, 0.0326, 0.0224, -0.0307, 0.00228, -0.0114, 0.0136, 0.0118, -0.0179, 0.000808, -0.0332, -0.0622, -0.0516, -0.0577, 0.00683, ..., -0.0194, 0.0621, -0.0328, -0.0267, 0.0118, 0.0676, 0.00596, -0.0184, 0.0114, 0.0278, 0.00757, 0.0295, 0.0245, -0.0132, -0.0276, -0.0421, 0.021, -0.0162, 0.0446, -0.047, 0.0111, 0.066, -0.0568, -0.0322, 0.0615, -0.063, -0.0264, 0.0135, 0.014, -0.00545],\n",
       "       [-0.00496, 0.0467, 0.0636, 0.0447, 0.0485, -0.0345, 0.0674, 0.00797, 0.0651, 0.0396, -0.0421, -0.043, 0.013, -0.0479, -0.0128, -0.00412, 0.0221, -0.0639, 0.0542, -0.0186, 0.0295, 0.0413, -0.013, -0.0445, 0.0552, 0.0314, -0.000528, -0.0291, -0.0113, 0.0124, ..., 0.0421, 0.0168, -0.0244, -0.0491, 0.0189, -0.0654, 0.0584, -0.0297, 0.0594, 0.0111, 0.014, 0.0621, 0.00123, -0.0462, 0.0641, 0.000983, -0.0295, 0.0112, -0.023, 0.0525, -0.0405, 0.0495, 0.0636, 0.00518, -0.0286, 0.0377, 0.0362, 0.0404, -0.0325, 0.0396],\n",
       "       [0.0455, 0.0109, 0.0588, 0.0467, 0.0615, -0.0262, -0.0394, 0.000288, 0.0679, 0.00395, -0.0471, -0.0124, 0.0339, -0.0107, 0.0147, 0.0186, -0.0171, 0.0428, 0.0112, 0.043, -0.007, 0.0653, 0.0101, 0.059, 0.0577, 0.0305, 0.00545, -0.0596, 0.00245, -0.0118, ..., 0.066, 0.00121, 0.00421, 0.0374, -0.0149, -0.0495, -0.0466, -0.0511, 0.0369, -0.0432, 0.027, 0.00806, 0.0661, -0.00236, 0.0379, -0.0214, 0.0476, 0.05, 0.0616, -0.0599, 0.0669, 0.0577, -0.0636, 2.31e-06, -0.016, -0.0602, -0.0365, 0.053, 0.00226, 0.0678],\n",
       "       [0.0639, -0.0327, -0.0047, -0.0568, 0.0134, -0.0047, -0.00238, 0.0211, -0.0618, -0.0576, 0.0345, 0.0382, -0.0675, 0.0605, 0.0362, -0.0402, 0.0191, 0.0661, 0.0434, 0.0375, -0.0675, 0.0632, -0.0376, -0.0444, -0.0456, -0.0364, 0.0518, 0.055, 0.059, 0.042, ..., 0.0626, -0.06, -0.0257, 0.0548, -0.00554, -0.0347, -0.0285, 0.0533, 0.000862, -0.0134, 0.0368, 0.0249, 0.0205, -0.0384, 0.044, -0.00293, -0.0473, 0.05, 0.0583, -0.0556, -0.00408, -0.0327, -0.042, -0.0226, -0.0507, -0.0281, -0.0434, -0.0429, 0.0241, 0.0374],\n",
       "       [-0.0529, 0.0545, 0.0496, -0.00222, -0.0265, 0.0248, 0.0497, 0.00516, 0.0348, -0.00546, -0.00538, -0.0322, -0.0659, -0.0295, -0.0424, -0.0236, 0.0308, -0.0025, 0.0329, 0.0471, 0.0381, -0.0443, 0.0541, -0.0198, 0.00126, -0.031, 0.0592, 0.0634, 0.0243, -0.0435, ..., -0.0453, -0.0646, 0.0211, -0.000193, -0.00451, 0.00871, 0.0423, -0.0183, 0.0533, -0.00923, -0.0208, -0.0452, -0.0473, -0.0644, 0.0468, 0.0117, 0.0354, -0.011, 0.0494, -0.0216, -0.00264, 0.0392, -0.0336, -0.000464, -0.0561, -0.00558, -0.0184, -0.0428, -0.0119, -0.0162],\n",
       "       [-0.0601, 0.0301, 0.0226, -0.0381, -0.0443, -0.045, -0.0469, 0.0182, 0.000449, -0.0246, -0.0487, -0.027, -0.0187, -0.00611, 0.0453, -0.0404, 0.0617, -0.0253, -0.0488, -0.019, -0.00691, 0.0512, 0.062, -0.0377, -0.0633, 0.0157, -0.0533, 0.0408, 0.0588, 0.0307, ..., -0.0444, -0.0366, -0.0431, 0.00403, -0.0566, -0.0108, 0.00382, -0.054, 0.0489, 0.0173, -0.0227, 0.000397, 0.00711, 0.0485, 0.0137, 0.0284, 0.0638, -0.0327, -0.00171, 0.0467, 0.0118, -0.00491, 0.0436, 0.0247, 0.0601, 0.00871, -0.0644, 0.018, 0.0162, 0.000612],\n",
       "       [0.0477, 0.0507, 0.0621, 0.0153, 0.00323, 0.0641, -0.0469, -0.0654, 0.0177, 0.0439, 0.0286, 0.00378, -0.0607, -0.000406, -0.0115, -0.0218, -0.0202, -0.0139, 0.0457, -0.00957, -0.0196, 0.053, -0.0316, -0.0573, 0.0262, -0.0607, -0.0208, -0.0454, -0.0422, -0.0393, ..., -0.0534, 0.0348, -0.051, 0.0505, -0.0459, -0.0405, 0.0175, 0.0582, -0.0408, 0.061, -0.0632, 0.016, -0.00403, -0.0195, 0.038, 0.0499, -0.0316, -0.0298, -0.0592, -0.00404, 0.00334, 0.0325, 0.0145, 0.0183, -0.0099, -0.0222, -0.0668, -0.0456, 0.0213, -0.000443],\n",
       "       [0.0193, -0.0307, -0.0206, 0.0507, 0.0231, -0.00189, -0.0268, 0.0345, 0.00208, 0.0233, 0.0116, 0.00497, -0.00395, 0.0067, 0.00626, -0.0124, 0.0217, -0.017, 0.00852, -0.0715, 0.0486, 0.0258, -0.0519, -0.024, 0.0369, 0.0401, 0.055, 0.061, 0.0407, -0.0301, ..., 0.0278, -0.0489, 0.0594, -0.0456, -0.0556, 0.0356, 0.0053, 0.0197, -0.0366, 0.0111, -0.0521, -0.0216, 0.0169, 0.0299, 0.0464, -0.0364, -0.0296, 0.0652, -0.0698, 0.0171, 0.0383, 0.0488, -0.0399, 0.0432, 0.0295, -0.042, 0.0531, -0.0122, -0.0486, -0.013],\n",
       "       [0.0613, 0.0486, -0.0517, 0.0136, -0.0353, 0.0164, -0.0045, -0.0415, 0.0428, -0.0499, -0.0567, -0.0513, -0.0126, 0.0426, 0.0596, -0.0647, -0.0571, -0.056, -0.00771, -0.0555, -6.46e-05, -0.0532, 0.0106, -0.00685, -0.031, 0.00546, 0.0153, 0.00672, -0.0394, -0.067, ..., 0.0562, -0.0662, -0.0619, -0.0138, -0.062, -0.0529, -0.0383, -0.0628, -0.0367, -0.0659, 0.00262, 0.0388, 0.00584, -0.0181, 0.0469, -0.0263, -0.068, 0.0554, -0.0131, 0.0192, -0.0377, -0.0212, 0.0276, -0.0633, 0.0342, -0.0334, -0.0387, -0.054, 0.0335, 0.00755],\n",
       "       [-0.0249, -0.0492, -0.0636, 0.0409, -0.0418, -0.0204, -0.0453, 0.0151, 0.0587, -0.0365, 0.0641, -0.0236, 0.0489, -0.0341, -0.0345, -0.0685, 0.0635, -0.00667, -0.0438, 0.0237, 0.000252, 0.00354, -0.0311, -0.0376, -0.0177, -0.0561, 0.0502, 0.0385, 0.0128, 0.0365, ..., -0.0326, 0.0266, 0.0292, -0.0108, 0.0375, -0.0231, -0.0244, 0.0439, 0.0631, 0.0429, -0.00357, 0.0385, 0.0457, -0.0382, -0.0643, 0.0241, 0.0374, 0.0703, 0.0619, 0.0145, -0.0645, -0.0476, 0.0586, 0.0388, 0.0197, -0.0665, -0.0312, -0.0222, -0.0558, 0.0251],\n",
       "       [0.069, -0.0353, 0.0522, -0.0674, -0.000424, 0.0133, 0.000587, 0.065, 0.0519, -0.0256, 0.0419, -0.0566, -0.0166, 0.0345, -0.0241, 0.000356, -0.0445, 0.0279, -0.0194, -0.046, 0.0391, -0.00443, -0.0306, 0.0613, -0.0109, -0.0379, -0.0243, -0.0168, 0.0841, 0.00113, ..., 0.0608, 0.0405, -0.0712, 0.052, 0.0535, 0.0642, 0.0886, 0.00611, -0.034, 0.0789, -0.0247, -0.0191, -0.0636, 0.0153, -0.0198, 0.0704, -0.0387, 0.00432, -0.0538, -0.0606, 0.0314, -0.00739, -0.0049, 0.0397, 0.0578, -0.0178, 0.0378, 0.0562, 0.0628, 0.0285],\n",
       "       [0.029, -0.00328, -0.0205, -0.0123, -0.0114, 0.0549, 0.0133, 0.0346, 0.0166, -0.0552, 0.0773, -0.0207, 0.0193, -0.0571, 0.0079, 0.0067, -0.0289, -0.0011, 0.0192, -0.0326, -0.0613, -0.0541, -0.0699, 0.0459, 0.0201, 0.0248, 0.0385, -0.00244, 0.0421, 0.0432, ..., -0.0177, -0.0298, 0.0308, 0.0536, -0.069, -0.0572, 0.0693, -0.025, -0.0605, 0.0486, -0.0317, 0.045, 0.0486, 0.0237, -0.00403, -0.00873, 0.0257, 0.0595, 0.0044, 0.0476, -0.0203, -0.00194, -0.0363, -0.028, -0.0279, -0.00152, 0.0346, -0.0163, -0.0152, 0.0292],\n",
       "       [-0.062, -0.00356, -0.0287, 0.0456, -0.000366, -0.0286, -0.0363, 0.0373, -0.0185, 0.053, -0.053, -0.0344, 0.0541, 0.0562, -0.0089, -0.0663, 0.0403, 0.0259, 0.0488, -0.0142, -0.0181, 0.00957, 0.0363, 0.0343, -0.0316, 0.0376, 0.00975, 0.0478, -0.0526, -0.0486, ..., 0.0331, 0.0419, 0.000104, -0.0368, 0.0149, 0.000151, -0.0278, 0.0338, 0.0133, 0.0705, -0.0235, 0.0466, 0.0577, -0.0191, -0.034, -0.0275, -0.00667, 0.0117, -0.0482, 0.0245, -0.0424, -0.062, -0.0599, 0.055, -0.0484, -0.0373, 0.0164, 0.0422, -0.0176, -0.00333],\n",
       "       [-0.0318, 0.0632, 0.00705, -0.0345, -0.0192, 0.0108, 0.0236, -0.0215, -0.015, 0.0254, -0.0496, -0.0661, 0.0182, -0.0297, 0.0453, -0.0138, 0.0531, -0.0456, -0.00334, 0.0413, 0.0567, 0.0493, 0.0327, 0.00415, 0.0411, -0.011, 0.0404, 0.0314, 0.0614, 0.0157, ..., -0.00661, 0.00779, 0.0655, 0.064, -0.0245, 0.0124, 0.0049, -0.0218, 0.0146, -0.0126, -0.0362, -0.0387, -0.0241, -0.0584, -0.0429, 0.0167, -0.0145, -0.0563, 0.0401, -0.0552, -0.0185, 0.0254, -0.00274, 0.0354, 0.00586, 0.065, -0.0647, 0.0286, -0.0478, -0.0569],\n",
       "       [-0.0124, 0.0137, 0.0665, -0.0084, 0.0549, -0.0219, -0.012, -0.0472, 0.00899, -0.0648, -0.00813, -0.0396, -0.0461, -0.028, -0.0124, -0.0271, 0.0165, -0.0261, -0.0361, 0.0251, 0.0446, -0.0678, 0.0175, -0.0193, 0.0328, -0.0223, 0.0368, -0.0158, -0.0509, -0.0611, ..., 0.0033, 0.0252, -0.0539, -0.0585, -0.0645, 0.0373, 0.0477, 0.0407, 0.0477, 0.0589, -0.0217, 0.0225, -0.0288, 0.0469, 0.00427, 0.0337, -0.038, -0.0178, 0.0336, -0.0636, -0.0068, -0.0136, -0.0055, 0.0439, 0.0561, 0.00443, 0.0621, -0.0278, 0.0575, -0.0642],\n",
       "       [0.057, -0.0385, -0.0519, 0.0274, 0.0327, 0.0576, 0.0201, 0.0101, 0.0596, -0.0643, 0.0465, -0.0451, -0.0346, -0.0323, -0.0584, 0.0226, -0.00896, -0.046, -0.0566, -0.0111, -0.043, 0.0449, 0.00639, -0.00555, 0.0669, 0.0201, 0.0576, 0.0553, -0.0391, 0.0623, ..., 0.066, -0.0185, 0.00759, -0.0333, -0.0385, -0.00704, -0.00934, 0.00806, -0.0315, -0.0627, 0.0435, 0.0567, 0.00085, -0.0183, 0.0039, 0.065, -0.0693, -0.018, 0.0111, -0.0596, -0.0484, 0.0171, -0.0533, -0.0394, 0.00666, 0.033, -0.0555, -0.0249, 0.0291, -0.0645],\n",
       "       [-0.0429, 0.039, 0.0542, -0.016, 0.0549, 0.0206, -0.044, -0.0657, -0.044, 0.00228, 0.0464, -0.0234, 0.0474, -0.00394, -0.0219, -0.0387, -0.0494, -0.00516, -0.00536, 0.0685, 0.00807, -0.0341, -0.000326, 0.0186, -0.0227, 0.0296, -0.0332, 0.0539, 0.0565, -0.0106, ..., -0.068, -0.0146, 0.0598, 0.0119, -0.0514, -0.0349, -0.00576, -0.0145, -0.0567, 0.0156, 0.0357, -0.0133, 0.0198, -0.0271, -0.0325, 0.042, 0.0347, -0.0443, 0.0628, -0.0397, -0.0319, 0.039, -0.053, -0.0175, 0.0318, 0.0572, 0.0355, -0.0153, 0.0287, 0.011],\n",
       "       [-0.0119, 0.0237, 0.0642, 0.0255, 0.0523, 0.0648, 0.0289, -0.0521, 0.0605, 0.0649, -0.00897, -0.0554, 0.0624, -0.0394, -0.00907, 0.0622, -0.0425, -0.0338, 0.00177, -0.053, -0.0143, 0.00464, 0.0506, -0.0546, 0.0508, -0.0237, 0.0406, -0.0297, 0.0478, -0.0427, ..., 0.0405, 0.0627, 0.0219, -0.00256, -0.0226, 0.0196, -0.000228, 0.0427, -0.00537, -0.00197, -0.0108, 0.0528, 0.0303, 0.0628, -0.0328, -0.0128, 0.0108, -0.0453, -0.0233, -0.00671, 0.00361, -0.0592, -0.0238, 0.00967, -0.0522, -0.0158, 0.0605, -0.00557, -0.0415, -0.0532],\n",
       "       [-0.0521, -0.000547, -0.0381, -0.0639, 0.00539, -0.0482, 0.0202, -0.0802, -0.042, -0.0276, 0.0568, 0.0548, -0.0297, -0.0323, -0.0656, 0.0298, -0.0139, 0.0361, -0.049, -0.0391, -0.0316, 0.0296, 0.0479, 0.0489, -0.0283, 0.0505, 0.0176, 0.054, -0.00195, 0.0617, ..., 0.0485, -0.0232, -0.0626, -0.0254, -0.0575, 0.0112, 0.0446, 0.00439, 0.00446, 0.0272, -0.00521, -0.0318, -0.0579, -0.0262, -0.0183, -0.03, 0.0425, -0.0151, 0.035, 0.055, 0.0451, 0.0105, -0.0571, 0.0482, 0.0227, -0.0196, 0.0428, 0.0389, -0.0482, 0.0163],\n",
       "       [-0.0106, 0.00331, -0.0375, 0.00815, -0.037, -0.0545, -0.00826, -0.0665, -0.0191, 0.00956, 0.0232, 0.0273, 0.0189, -0.0274, 0.0105, -0.0379, -0.0207, 0.0584, -0.0293, -0.0623, -0.0145, -0.0348, -0.0222, -0.00472, 0.0459, 0.0574, -0.0474, -0.0532, 0.0204, 0.0576, ..., 0.0066, -0.00544, -0.0629, -0.0211, -0.0527, -4.73e-05, 0.0504, 0.0169, 0.0484, -0.0364, 0.0186, -0.0222, -0.0223, -0.00955, -0.0382, 0.0406, -0.0219, -0.0415, 0.0513, -0.0197, -0.0531, 0.0306, -0.0452, 0.0128, -0.0139, 0.0151, 0.0233, -0.0345, 0.0235, 0.0648],\n",
       "       [0.0578, -0.0209, 0.0551, -0.00171, 0.00371, 0.0381, -0.0518, 0.0243, 0.0605, -0.0391, 0.00583, -0.00539, -0.0218, -0.0491, -0.0275, -0.0509, 0.0632, 0.0392, -0.0601, 0.0149, -0.0533, 0.000952, -0.023, 0.0113, 0.0486, 0.0361, -0.0571, 0.038, 0.0116, -0.0311, ..., -0.00635, 0.0546, 0.0402, 0.0513, 0.0528, -0.0474, -0.00227, -0.0165, 0.0376, -0.0186, 0.0677, -0.0176, 0.0476, -0.0194, -0.0253, 0.0375, 0.0254, 0.036, -0.00254, -0.0165, -0.0708, -0.0378, -0.0052, -0.0604, 0.0531, -0.0354, 0.0422, -0.0571, 0.0219, -0.0655],\n",
       "       [-0.0132, -0.0135, 0.0158, 0.0208, 0.0257, -0.0524, -0.0214, 0.0648, 0.0637, -0.0467, -0.0205, -0.068, 0.0284, 0.036, -0.029, -0.0216, -0.00655, 0.02, 0.0596, 0.000957, -0.0318, 0.007, -0.058, -0.0435, 0.00293, -0.0519, 0.0047, 0.0306, 0.0118, -0.0599, ..., -0.0455, 0.0249, -0.0304, 0.0612, -0.0574, -0.0256, 0.0655, 0.0615, -0.000818, 0.0516, 0.0389, 0.0605, -0.0608, 0.0577, 0.05, 0.0205, -0.067, 0.0554, 0.0363, -0.0579, -0.000736, -0.0589, -0.0344, 0.0452, -0.0283, 0.0149, -0.0311, 0.017, 0.0446, -0.0562],\n",
       "       [0.0468, -0.0064, -0.0611, -0.00377, 0.0543, 0.0215, -0.0314, 0.0146, 0.0497, 0.0138, -0.038, -0.0265, -0.0254, -0.0234, -0.023, -0.00888, 0.0523, 0.0506, -0.0422, 0.0476, 0.0675, -0.0422, -0.00474, 0.0548, 0.0652, -0.0654, 0.0267, 0.00931, -0.0475, 0.0295, ..., 0.0188, 0.0271, 0.045, -0.0467, -0.0263, -0.0168, 0.0658, -0.0286, -0.0344, -0.0529, 0.0305, 0.0537, -0.01, -0.063, -0.0262, -0.0375, -0.0498, -0.0641, 0.0133, 0.00108, -0.0119, -0.0572, 0.0565, -0.0142, 0.000535, 0.0275, -0.021, -0.0108, 0.0291, 0.061],\n",
       "       [0.0626, -0.00355, 0.0248, -0.0553, 0.0506, -0.0543, -0.0335, 0.00257, 0.00515, -0.0606, 0.0574, -0.0618, -0.0359, -0.048, 0.0587, -0.0485, 0.0236, 0.000241, -0.0536, -0.0405, 0.0375, -0.0194, 0.0217, -0.0132, -0.0543, 0.0236, 0.0348, 0.00275, 0.00395, -0.0402, ..., 0.021, -0.0237, 0.0162, 0.0568, -0.0655, 0.00358, -0.0577, 0.0557, -0.000787, -0.0366, -0.0369, -0.0516, -0.0337, -0.0594, -0.0317, -0.00462, 0.00594, -0.0454, -0.0383, -0.0428, 0.0257, -0.0288, -0.0315, -0.0407, -0.00525, -0.0249, 0.0345, 0.053, 0.0662, -0.0664],\n",
       "       [0.0175, 0.00609, -0.0557, -0.018, 0.000793, 0.0398, -0.0469, -0.00375, 0.0637, -0.0534, 0.0122, -0.043, 0.0265, 0.0216, 0.0667, 0.0192, 0.0598, -0.0129, 0.0119, -0.0425, -0.000177, 0.0252, 0.0148, -0.00776, -0.0311, 0.0126, 0.0661, 0.0137, 0.0662, -0.0466, ..., 0.0543, 0.0577, 0.0646, 0.0483, 0.0329, 0.00517, -0.019, 0.029, -0.0441, -0.0297, 0.0447, -0.0203, 0.0455, 0.0233, -0.0292, -0.0622, 0.0283, -0.0669, -0.0269, -0.00358, 0.0123, 0.0187, 0.00948, 0.0504, 0.0162, 0.0621, -0.000774, -0.0512, -0.0545, -0.000523]], dtype=float32)>"
      ]
     },
     "execution_count": 47,
     "metadata": {},
     "output_type": "execute_result"
    }
   ],
   "source": [
    "# (28*28)*512 + 512 = 401920\n",
    "# Kernel\n",
    "model.layers[0].weights[0]"
   ]
  },
  {
   "cell_type": "code",
   "execution_count": 48,
   "metadata": {
    "colab": {
     "base_uri": "https://localhost:8080/"
    },
    "id": "u4wEhOUYb8tq",
    "outputId": "9065c92f-1ac5-4752-d768-5ed542a6afe2"
   },
   "outputs": [
    {
     "name": "stdout",
     "output_type": "stream",
     "text": [
      "<tf.Variable 'module_wrapper/dense_2/bias:0' shape=(512,) dtype=float32, numpy=array([0.0309, 0.026, -0.0302, 0.0303, -0.0184, -0.00934, -0.0138, 0.0594, -0.0218, -0.0101, -0.00277, -0.000771, 0.033, -0.0154, -0.021, 0.00733, 0.00901, -0.0325, 0.0139, -0.0681, 0.108, 0.0285, -0.0425, -0.037, -0.0404, -0.0199, 0.0225, 0.031, 0.0528, -0.0187, 0.0514, 0.0338, -0.0149, -0.0414, 0.023, -0.0395, 0.0597, 0.00268, -0.0426, -0.019, -0.0319, -0.0288, 0.0251, 0.0169, 0.042, -0.0143, -0.0934, 0.0154, 0.0276, 0.0171, 0.0106, 0.0096, 0.0335, 0.0597, 0.0548, 0.0153, -0.017, -0.0219, -0.0105, -0.00833, -0.049, 0.0109, 0.00634, 0.0202, 0.0643, -0.0262, -0.0321, -0.0109, -0.0156, -0.0184, -0.0238, 0.00239, 0.0348, -0.0574, -0.041, -0.0376, 0.00817, 0.0269, 0.0579, 0.0146, -0.0935, -0.0149, -0.0206, -0.00646, 0.0122, -0.0163, -0.0197, 0.0455, 0.00942, -0.0569, -0.0333, 0.0482, 0.00751, -0.0178, 0.0621, -0.00913, 0.104, 0.029, 0.031, -0.0571, -0.0176, 0.00551, -0.0236, 0.03, 0.0062, 0.0711, -0.00471, 0.0718, 0.0148, 0.0107, 0.024, 0.0354, -0.0145, 0.0246, 0.0143, 0.00845, -0.00604, 0.0245, 0.0472, -0.0231, 0.028, -0.0292, 0.0268, 0.0364, -0.0211, -0.0245, -0.0312, 0.0377, -0.00661, 0.0378, 0.0345, -0.0238, 0.0417, 0.00957, 0.13, 0.0332, 0.0275, 0.0389, -0.0113, 0.00953, -0.0398, -0.0208, 0.0353, 0.00075, -0.0409, -0.0189, 0.0168, -0.0198, 0.0177, 0.0153, -0.0417, -0.00616, -0.0537, -0.0221, 0.0378, 0.025, -0.00966, 0.0146, -0.00507, 0.0642, 0.0363, -0.00252, 0.0988, -0.00848, -0.0169, -0.000584, -0.00877, 0.0195, 0.00523, -0.00568, -0.076, -0.00395, 0.00235, 0.0586, 0.0148, 0.0694, 0.00154, 0.0441, -0.000195, 0.0119, -0.00342, -0.0304, 0.0263, 0.0177, 0.00612, 0.0231, 0.0192, 0.0379, -0.0332, -0.0332, 0.00807, 0.0212, 0.00355, 0.0196, 0.0348, -0.0362, 0.0289, 0.00913, -0.0233, -0.00363, 0.0427, 0.0159, -0.00037, 0.0139, 0.0594, 0.0353, 0.0103, -0.0328, 0.0475, 0.00656, -0.00168, 0.0198, -0.0398, -0.017, 0.0128, 0.0927, -0.0633, -0.0215, 0.0184, 0.0898, -0.0268, -0.00301, -0.0549, 0.0199, 0.0247, -0.0587, 0.0478, 0.0416, 0.036, 0.00459, -0.00619, 0.0411, -0.0524, 0.0257, 0.00462, 0.00375, 0.0195, 0.0805, -0.0026, 0.0175, -0.0663, 0.067, 0.0292, 0.00738, 0.0287, -0.0199, 0.0284, 0.0276, 0.00564, -0.0176, 0.0667, 0.0336, 0.00423, -0.00407, 0.0108, 0.0617, 0.0329, 0.0196, 0.0326, -0.0763, 0.0666, -0.0381, 0.0533, -0.0435, 0.0236, 0.0176, 0.0824, 0.00597, -0.00136, -0.0265, 0.0312, 3.32e-05, 0.0528, 0.014, 0.0618, -0.0405, -0.0585, 0.0287, -0.00889, -0.0189, 0.0272, -0.058, -0.048, 0.0933, 0.0679, 0.0707, -0.0167, -0.0235, 0.00733, 0.0804, -0.0464, -0.0063, -0.0221, 0.0339, 0.108, 0.0153, -0.0622, 0.0404, -0.0537, 0.0427, -9e-05, 0.103, 0.0234, 0.0172, 0.0427, -0.086, 0.031, -0.00964, -0.0618, -0.0542, 0.0418, 0.00864, -0.0534, -0.0592, -0.00563, 0.0526, 0.0183, -0.00631, -0.0526, 0.029, -0.00384, -0.0371, 0.0881, 0.0355, -0.0436, -0.0264, 0.0469, 0.0153, -0.0566, 0.0112, -0.032, 0.0278, -0.02, 0.0215, -0.0101, 0.0623, 0.0552, -0.0501, 0.0153, -0.0162, 0.051, -0.038, -0.0256, -0.00785, 0.00708, -0.0431, -0.0075, 0.0162, -0.0134, -0.0173, 0.0177, 0.034, 0.0248, -0.0154, 0.0258, -0.0134, 0.0068, -0.000685, 0.00562, 0.00722, 0.0147, -0.0139, -0.00287, -0.0353, 0.0446, -0.0197, 0.0219, -0.0174, 0.00915, 0.0468, -0.0151, 0.018, -0.0173, -0.00962, 0.0363, -0.0758, 0.024, 0.00898, -0.00419, -0.0403, -0.0217, 0.0218, 0.0271, 0.0212, 0.0306, -0.00371, -0.0276, -0.0121, 0.078, -0.0268, 0.0453, -0.0353, 0.00585, 0.00965, -0.00211, 0.0214, 0.0407, -0.00694, 0.0226, 0.0723, 0.0985, -0.000671, 0.00963, 0.08, -0.0584, 0.00783, 0.0467, 0.0213, -0.0516, 0.0408, -0.0045, 0.041, 0.0044, 0.0318, 0.00963, 0.0398, 0.0264, 0.0095, -0.0321, 0.0215, 0.0838, 0.136, 0.000989, 0.0163, 0.0095, -0.00432, 0.0394, 0.0339, 0.0179, 0.0329, -0.0567, 0.0518, 0.0485, -0.0147, -0.00437, 0.0311, 0.0218, -0.00673, 0.0544, -0.00468, 0.109, -0.0216, -0.0151, -0.0381, 0.0865, -0.00365, 0.0119, -0.0387, -0.035, 0.0141, 0.0713, -0.0269, 0.0627, 0.00104, 0.0326, -0.0564, -0.0344, 0.0233, 0.00857, -0.0226, 0.0253, -0.0278, -0.0151, -0.0533, -0.0206, -0.00191, 0.0172, 0.00617, 0.00361, -0.0182, -0.0379, 0.0523, 0.0442, -0.00466, 0.0492, -0.00958, 0.0383, 0.0298, 0.0171, -0.0638, 0.0354, 0.0425, -0.0375, -0.0346, -0.000222, -0.0477, -0.00871, -0.0391, 0.0118, 0.0617, -0.0547, -0.0261, 0.0396, -0.0184, -0.0223, 0.0134, -0.0103, -0.0376, 0.0104, -0.0474, -0.02, -0.0506, -0.0108, -0.05, -0.0387, -0.0117, 0.00669, -0.0281, 0.0231, 0.032, 0.000729, -0.0502], dtype=float32)>\n"
     ]
    },
    {
     "data": {
      "text/plain": [
       "<tf.Tensor: shape=(20,), dtype=float32, numpy=array([0.0309, 0.026, -0.0302, 0.0303, -0.0184, -0.00934, -0.0138, 0.0594, -0.0218, -0.0101, -0.00277, -0.000771, 0.033, -0.0154, -0.021, 0.00733, 0.00901, -0.0325, 0.0139, -0.0681], dtype=float32)>"
      ]
     },
     "execution_count": 48,
     "metadata": {},
     "output_type": "execute_result"
    }
   ],
   "source": [
    "# Bias\n",
    "print((model.layers[0].weights[1]))\n",
    "model.layers[0].weights[1][:20]"
   ]
  },
  {
   "cell_type": "code",
   "execution_count": 49,
   "metadata": {
    "colab": {
     "base_uri": "https://localhost:8080/"
    },
    "id": "8_5ONNAGUx5q",
    "outputId": "edc7c72a-4f40-40ca-f474-7c71404d1dca"
   },
   "outputs": [
    {
     "data": {
      "text/plain": [
       "<tf.Variable 'module_wrapper_1/dense_3/kernel:0' shape=(512, 10) dtype=float32, numpy=\n",
       "array([[-0.0898, -0.022, -0.0749, -0.251, 0.191, 0.00315, -0.392, 0.171, -0.215, -0.0853],\n",
       "       [0.083, 0.0206, 0.0366, -0.164, 0.186, 0.0818, 0.027, -0.15, -0.0805, -0.185],\n",
       "       [0.2, -0.202, 0.137, -0.139, 0.105, -0.306, -0.155, -0.0532, -0.258, 0.109],\n",
       "       [0.0225, -0.147, -0.0348, 0.0271, 0.0597, 0.0193, 0.027, -0.142, 0.0954, -0.0244],\n",
       "       [0.0957, -0.239, -0.0828, 0.123, -0.28, -0.073, -0.11, 0.115, 0.147, -0.117],\n",
       "       [-0.0785, 0.0355, 0.059, -0.149, -0.125, -0.132, -0.288, 0.0899, 0.0719, -0.168],\n",
       "       [-0.0367, -0.0549, -0.0573, -0.104, 0.0947, -0.00652, 0.0684, -0.0709, 0.0925, -0.0977],\n",
       "       [-0.0689, 0.163, -0.41, -0.151, 0.167, 0.115, 0.144, -0.381, -0.0327, -0.244],\n",
       "       [-0.238, 0.0619, 0.0691, 0.166, 0.237, -0.426, -0.107, 0.0645, -0.112, -0.115],\n",
       "       [0.12, 0.0508, -0.111, -0.204, 0.0924, 0.152, -0.224, 0.00926, -0.357, 0.0378],\n",
       "       [-0.106, -0.183, -0.291, -0.176, 0.0773, -0.261, -0.0323, 0.0761, -0.379, 0.161],\n",
       "       [-0.0423, 0.0115, -0.0812, 0.0197, 0.029, -0.0771, 0.0164, -0.000557, 0.0067, -0.0958],\n",
       "       [-0.294, 0.0911, -0.11, -0.0252, -0.162, 0.0727, -0.125, -0.126, 0.119, 0.0515],\n",
       "       [-0.331, -0.0797, 0.152, -0.00476, -0.25, -0.181, -0.22, 0.126, -0.0165, -0.115],\n",
       "       [0.00582, 0.0502, -0.0397, -0.152, 0.118, -0.344, -0.00518, -0.0153, 0.0479, 0.141],\n",
       "       [-0.092, 0.000691, -0.0144, 0.0634, -0.0818, 0.075, -0.129, -0.257, 0.0714, -0.0754],\n",
       "       [-0.0116, -0.0763, 0.115, -0.25, -0.221, -0.0893, 0.182, -0.174, 0.164, -0.142],\n",
       "       [-0.277, 0.0678, -0.0602, 0.08, 0.139, -0.336, -0.255, 0.141, 0.0297, 0.0222],\n",
       "       [0.0495, -0.101, -0.146, -0.189, 0.0769, 0.000345, 0.0721, -0.164, -0.0328, -0.107],\n",
       "       [0.0992, 0.0525, 0.068, 0.0483, 0.0189, -0.0938, 0.0978, -0.057, 0.0878, 0.0299],\n",
       "       [-0.239, 0.237, -0.36, -0.557, 0.0158, 0.249, -0.397, 0.0438, -0.415, 0.169],\n",
       "       [-0.0367, 0.146, 0.235, -0.215, -0.0597, -0.0658, -0.246, -0.0252, -0.171, -0.128],\n",
       "       [-0.126, 0.205, -0.347, -0.307, 0.0994, -0.217, 0.0829, -0.116, -0.192, -0.296],\n",
       "       [0.0187, -0.0347, -0.0588, -0.0651, -0.0153, -0.13, 0.0121, 0.00288, 0.106, 0.056],\n",
       "       [-0.0173, -0.364, -0.0865, -0.114, -0.0547, -0.0809, -0.0266, -0.182, 0.0243, 0.0396],\n",
       "       [-0.0222, 0.12, 0.14, -0.344, 0.0839, -0.109, 0.0555, -0.211, -0.268, -0.0401],\n",
       "       [-0.00796, -0.0946, -0.257, -0.0324, -0.1, 0.0135, 0.0974, -0.276, 0.107, 0.113],\n",
       "       [0.0832, -0.119, 0.129, -0.31, -0.116, -0.173, 0.132, 0.0106, 0.111, -0.316],\n",
       "       [-0.24, 0.275, -0.2, -0.123, -0.326, -0.0308, -0.0173, 0.15, -0.0874, -0.225],\n",
       "       [0.0833, -0.206, 0.0267, 0.09, -0.421, -0.152, -0.301, 0.161, -0.00291, -0.188],\n",
       "       ...,\n",
       "       [0.153, -0.237, 0.0729, -0.0205, -0.585, -0.0105, -0.112, -0.122, -0.0318, -0.119],\n",
       "       [0.0139, 0.0444, 0.11, 0.0651, -0.28, -0.361, 0.108, 0.0813, 0.107, -0.0268],\n",
       "       [-0.11, -0.198, 0.0341, -0.122, -0.0275, -0.0915, 0.0299, -0.266, 0.00852, -0.0112],\n",
       "       [-0.281, 0.105, -0.303, 0.24, 0.124, -0.333, -0.143, -0.0502, -0.124, -0.042],\n",
       "       [-0.301, -0.192, 0.0266, -0.167, 0.0859, -0.129, -0.177, 0.074, 0.0622, -0.163],\n",
       "       [0.0441, -0.137, 0.0868, 0.0839, -0.498, 0.0823, -0.196, -0.0239, 0.00675, -0.108],\n",
       "       [0.111, 0.185, -0.294, 0.0675, -0.0115, -0.0735, 0.0914, 0.219, -0.238, -0.221],\n",
       "       [-0.0771, -0.241, 0.0277, -0.276, -0.295, 0.34, -0.22, 0.191, -0.203, -0.0774],\n",
       "       [0.0391, 0.00978, 0.123, 0.109, -0.431, -0.0911, -0.173, 0.0309, 0.0694, 0.0224],\n",
       "       [-0.188, -0.207, -0.138, 0.188, -0.151, -0.239, 0.122, 0.0794, 0.128, 0.0531],\n",
       "       [-0.0587, -0.0626, -0.376, 0.0313, -0.117, 0.11, 0.109, 0.0684, 0.127, 0.0521],\n",
       "       [-0.0845, 0.0693, -0.249, 0.19, -0.226, 0.132, -0.204, 0.0378, -0.185, 0.0937],\n",
       "       [-0.192, 0.0879, -0.346, 0.0585, -0.244, -0.0549, -0.0208, -0.0503, -0.0566, 0.161],\n",
       "       [-0.27, 0.134, -0.427, 0.112, 0.112, -0.46, -0.228, -0.0621, -0.307, 0.129],\n",
       "       [-0.192, -0.176, 0.142, -0.031, -0.204, -0.243, -0.126, 0.207, -0.108, -0.127],\n",
       "       [-0.0628, -0.145, -0.00124, -0.0982, -0.48, 0.205, 0.121, 0.0714, -0.0595, 0.022],\n",
       "       [-0.237, 0.0632, -0.012, 0.171, -0.256, 0.18, -0.0337, -0.262, -0.103, -0.0743],\n",
       "       [-0.0343, -0.294, -0.177, -0.0145, -0.0144, 0.0899, 0.0572, -0.265, 0.198, 0.0893],\n",
       "       [0.108, -0.238, -0.114, 0.0781, -0.205, 0.0728, -0.077, -0.0417, -0.0576, 0.138],\n",
       "       [-0.0697, 0.148, -0.00686, 0.0799, 0.107, -0.278, -0.377, -0.0676, -0.026, 0.084],\n",
       "       [0.113, -0.41, 0.0232, -0.184, 0.0974, 0.0653, 0.000302, -0.254, 0.137, 0.125],\n",
       "       [0.0956, 0.143, -0.328, -0.0282, 0.154, -0.212, 0.164, -0.114, -0.00465, -0.294],\n",
       "       [0.121, -0.135, 0.118, -0.102, -0.0837, -0.151, -0.0251, -0.214, 0.101, 0.0275],\n",
       "       [0.0973, -0.0574, 0.0948, -0.0527, 0.22, -0.476, -0.227, 0.133, -0.0859, -0.0198],\n",
       "       [-0.132, 0.117, 0.134, -0.279, -0.0155, 0.0734, -0.18, 0.0506, -0.182, 0.135],\n",
       "       [-0.217, 0.138, -0.279, 0.13, -0.0369, -0.367, -0.134, 0.0902, -0.0648, 0.0443],\n",
       "       [-0.269, -0.258, -0.334, 0.132, 0.0155, 0.138, -0.213, -0.16, -0.128, 0.136],\n",
       "       [-0.121, 0.0521, 0.0681, -0.248, -0.0373, -0.125, 0.165, -0.0919, -0.249, -0.403],\n",
       "       [-0.104, -0.273, -0.00431, 0.224, -0.357, -0.0225, -0.107, 0.103, -0.132, -0.0874],\n",
       "       [-0.0131, 0.128, -0.296, -0.0831, 0.0899, -0.105, -0.376, 0.167, -0.232, -0.0521]], dtype=float32)>"
      ]
     },
     "execution_count": 49,
     "metadata": {},
     "output_type": "execute_result"
    }
   ],
   "source": [
    "model.layers[1].weights[0]"
   ]
  },
  {
   "cell_type": "code",
   "execution_count": 50,
   "metadata": {
    "colab": {
     "base_uri": "https://localhost:8080/"
    },
    "id": "LkFpQViIU7AK",
    "outputId": "43e0863b-c8f9-45e2-937e-6f0000282448"
   },
   "outputs": [
    {
     "data": {
      "text/plain": [
       "<tf.Variable 'module_wrapper_1/dense_3/bias:0' shape=(10,) dtype=float32, numpy=array([-0.0551, -0.0336, -0.0209, -0.0287, 0.0174, 0.0541, -0.0298, -0.0109, 0.0851, -0.0121], dtype=float32)>"
      ]
     },
     "execution_count": 50,
     "metadata": {},
     "output_type": "execute_result"
    }
   ],
   "source": [
    "model.layers[1].weights[1]\n"
   ]
  },
  {
   "cell_type": "code",
   "execution_count": 50,
   "metadata": {
    "id": "wxo6-TgwWD6R"
   },
   "outputs": [],
   "source": [
    "Reference: BUAN 6382.SW1.S24 course by Dr Farid Khafizov at Naveen Jindal School to Management, UTDallas."
   ]
  }
 ],
 "metadata": {
  "accelerator": "GPU",
  "colab": {
   "include_colab_link": true,
   "provenance": []
  },
  "gpuClass": "standard",
  "kernelspec": {
   "display_name": "Python 3 (ipykernel)",
   "language": "python",
   "name": "python3"
  },
  "language_info": {
   "codemirror_mode": {
    "name": "ipython",
    "version": 3
   },
   "file_extension": ".py",
   "mimetype": "text/x-python",
   "name": "python",
   "nbconvert_exporter": "python",
   "pygments_lexer": "ipython3",
   "version": "3.11.5"
  }
 },
 "nbformat": 4,
 "nbformat_minor": 1
}
