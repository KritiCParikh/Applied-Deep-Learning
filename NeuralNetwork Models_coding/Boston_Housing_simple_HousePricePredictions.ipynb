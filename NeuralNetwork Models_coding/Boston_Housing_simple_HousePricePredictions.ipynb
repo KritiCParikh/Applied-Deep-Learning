{
 "cells": [
  {
   "cell_type": "markdown",
   "metadata": {
    "id": "4NzHgjPLplgu"
   },
   "source": [
    "# 2024-Spring-BUAN-6382, Applied Deep Learning\n",
    "\n",
    "2024.01.29\n",
    "\n",
    "SIMPLE REGRESSION MODEL\n",
    "\n",
    "boston_housing_simple.ipynb\n",
    "\n",
    "# 4.3 Predicting house prices: A regression example."
   ]
  },
  {
   "cell_type": "code",
   "execution_count": null,
   "metadata": {
    "colab": {
     "base_uri": "https://localhost:8080/"
    },
    "id": "00hkht8Ejc6-",
    "outputId": "7c9bfdf2-4b11-4fa2-96bd-cd63dc09cbd0"
   },
   "outputs": [],
   "source": [
    "# 4.3 Predicting house prices: A regression example.\n",
    "# https://www.manning.com/books/deep-learning-with-python-second-edition\n",
    "\n",
    "# see also the 1st Edition of the same book:\n",
    "# Ch 3.6 # https://livebook.manning.com/book/deep-learning-with-python/chapter-3/285\n",
    "\n",
    "\n",
    "# 2022.10.24\n",
    "# https://github.com/ftk1000/TF_examples/blob/master/BOOK_Choolet/Ch03/house_pricing.ipynb\n",
    "\n",
    "\n",
    "# !pip install tensorflow --upgrade\n",
    "# !pip install grpcio>=1.24.3\n",
    "# Get housing data from cloud storage\n",
    "# # boston hosing price data set\n",
    "\n",
    "import tensorflow as tf\n",
    "import pandas as pd\n",
    "from tensorflow import keras\n",
    "from tensorflow.keras import layers\n",
    "# import keras\n",
    "from keras.datasets import boston_housing\n",
    "import numpy as np\n",
    "print(f'np.__version__ = {np.__version__}')\n",
    "print(f'tf.__version__ = {tf.__version__}')\n",
    "# print(f'keras.__version__ = {keras.__version__}')\n"
   ]
  },
  {
   "cell_type": "markdown",
   "metadata": {
    "id": "R900upDlWv1s"
   },
   "source": [
    "# Load data and do simple EDA"
   ]
  },
  {
   "cell_type": "code",
   "execution_count": null,
   "metadata": {
    "colab": {
     "base_uri": "https://localhost:8080/"
    },
    "id": "XjEpGbyId2wO",
    "outputId": "a4012d96-315f-4a4e-fabc-54fddd41144f"
   },
   "outputs": [],
   "source": [
    "(train_data, train_targets), (test_data, test_targets) =boston_housing.load_data()\n",
    "print(f'train_data.shape = {train_data.shape}')\n",
    "print(f'train_targets.shape = {train_targets.shape}')\n",
    "\n",
    "print(f'test_data.shape = {test_data.shape}')\n",
    "print(f'test_targets.shape = {test_targets.shape}')"
   ]
  },
  {
   "cell_type": "code",
   "execution_count": null,
   "metadata": {
    "colab": {
     "base_uri": "https://localhost:8080/"
    },
    "id": "vQe-nLES9YMN",
    "outputId": "d1888d7a-aada-411a-a96d-3474bd1f2cdd"
   },
   "outputs": [],
   "source": [
    "print(f'train_data[0,:] = {train_data[0,:]}')\n",
    "print(f'train_targets[0] = {train_targets[0]}')"
   ]
  },
  {
   "cell_type": "code",
   "execution_count": null,
   "metadata": {
    "colab": {
     "base_uri": "https://localhost:8080/"
    },
    "id": "eknhbxz69k-0",
    "outputId": "862b0b24-801f-4f06-fd99-ed4d6a9c05cc"
   },
   "outputs": [],
   "source": [
    "print(f'test_data[0,:] = {test_data[0,:]}')\n",
    "print(f'test_dtest_targetsata[0] = {test_targets[0]}')"
   ]
  },
  {
   "cell_type": "code",
   "execution_count": null,
   "metadata": {
    "colab": {
     "base_uri": "https://localhost:8080/",
     "height": 363
    },
    "id": "SYhmpsm_-kbO",
    "outputId": "d732d285-c2fa-43f6-ee16-27cc459dad8b"
   },
   "outputs": [],
   "source": [
    "df=pd.DataFrame(data=train_data[:10,:])\n",
    "df"
   ]
  },
  {
   "cell_type": "code",
   "execution_count": null,
   "metadata": {
    "colab": {
     "base_uri": "https://localhost:8080/",
     "height": 1000
    },
    "id": "597rM98oW7NR",
    "outputId": "a477c7ad-9700-46cd-aa58-4d381b8dea02"
   },
   "outputs": [],
   "source": [
    "# # Seaborn visualization library\n",
    "# import seaborn as sns\n",
    "# # Create the default pairplot\n",
    "# sns.pairplot(df)\n",
    "# train_data[0,:]\n",
    "\n",
    "feature_number =  3\n",
    "x = train_data[:,feature_number]\n",
    "y = train_targets\n",
    "import matplotlib.pyplot as plt\n",
    "plt.scatter(x, y)\n",
    "plt.xlabel(f'x (feature_number={feature_number})')\n",
    "plt.ylabel('train_target')\n",
    "plt.title('House price vs fetaure #5')\n",
    "plt.grid()\n",
    "plt.show()\n",
    "\n",
    "\n",
    "feature_number =  5\n",
    "x = train_data[:,feature_number]\n",
    "y = train_targets\n",
    "import matplotlib.pyplot as plt\n",
    "plt.scatter(x, y)\n",
    "plt.xlabel(f'x (feature_number={feature_number})')\n",
    "plt.ylabel('train_target')\n",
    "plt.title('House price vs fetaure #5')\n",
    "plt.grid()\n",
    "plt.show()\n",
    "\n",
    "\n",
    "feature_number =  9\n",
    "x = train_data[:,feature_number]\n",
    "y = train_targets\n",
    "import matplotlib.pyplot as plt\n",
    "plt.scatter(x, y)\n",
    "plt.xlabel(f'x (feature_number={feature_number})')\n",
    "plt.ylabel('train_target')\n",
    "plt.title('House price vs fetaure #9')\n",
    "plt.grid()\n",
    "plt.show()"
   ]
  },
  {
   "cell_type": "code",
   "execution_count": null,
   "metadata": {
    "colab": {
     "base_uri": "https://localhost:8080/"
    },
    "id": "YkC8NMsg_yxg",
    "outputId": "35c709a2-53d4-42e9-aeaa-2a92b5684896"
   },
   "outputs": [],
   "source": [
    "indices = np.random.permutation(train_data.shape[0])\n",
    "LENGTH_VAL_SET = 100\n",
    "training_idx, val_idx = indices[LENGTH_VAL_SET:], indices[:LENGTH_VAL_SET]\n",
    "\n",
    "train_data2,    val_data    = train_data[training_idx,:],    train_data[val_idx,:]\n",
    "train_targets2, val_targets = train_targets[training_idx], train_targets[val_idx]\n",
    "\n",
    "print(f'train_data2.shape = {train_data2.shape}')\n",
    "print(f'train_targets2.shape = {train_targets2.shape}')\n",
    "\n",
    "print(f'val_data.shape = {val_data.shape}')\n",
    "print(f'val_targets.shape = {val_targets.shape}')"
   ]
  },
  {
   "cell_type": "markdown",
   "metadata": {
    "id": "2jUbgYszC1T6"
   },
   "source": [
    "# Build a NN model\n",
    "* [The Sequential model](https://keras.io/guides/sequential_model/)\n",
    "* [API overview: a first end-to-end example](https://keras.io/guides/training_with_built_in_methods/)\n"
   ]
  },
  {
   "cell_type": "code",
   "execution_count": null,
   "metadata": {
    "id": "_DI5tL_mkw0n"
   },
   "outputs": [],
   "source": [
    "model = keras.Sequential([\n",
    "        layers.Dense(64, activation=\"relu\"),\n",
    "        layers.Dense(64, activation=\"relu\"),\n",
    "        layers.Dense(1)\n",
    "    ])\n",
    "\n",
    "# model.compile(\n",
    "#     optimizer=keras.optimizers.RMSprop(),  # Optimizer\n",
    "#     # Loss function to minimize\n",
    "#     loss=keras.losses.mse(),\n",
    "#     # loss=keras.losses.SparseCategoricalCrossentropy(),\n",
    "#     # List of metrics to monitor\n",
    "#     metrics=[\"mae\"],\n",
    "#     # metrics=[keras.metrics.SparseCategoricalAccuracy()],\n",
    "# )\n",
    "\n",
    "\n",
    "model.compile( optimizer=\"rmsprop\",\n",
    "              loss=\"mse\",\n",
    "              metrics=[\"mae\",\"accuracy\"])\n",
    "\n",
    "def get_stats(x):\n",
    "  return np.min(x),  np.mean(x), np.median(x), np.max(x)"
   ]
  },
  {
   "cell_type": "code",
   "execution_count": null,
   "metadata": {
    "colab": {
     "base_uri": "https://localhost:8080/"
    },
    "id": "pwJ7_T8_AJsv",
    "outputId": "f8f5f2c6-9153-4e6e-ae08-338166bc6635"
   },
   "outputs": [],
   "source": [
    "%%time\n",
    "num_epochs = 1000\n",
    "num_epochs = 10\n",
    "history = model.fit(train_data2, train_targets2,\n",
    "                    validation_data=(val_data, val_targets),\n",
    "                    epochs=num_epochs, batch_size=16, verbose=0)"
   ]
  },
  {
   "cell_type": "markdown",
   "metadata": {
    "id": "NodNQgGQRNY-"
   },
   "source": [
    "# Examine Graphs of three perfromance characteristics we collected (loss=mse, MAE, ACCURACY) for train and validation sets.\n",
    "# Explain the trends you see"
   ]
  },
  {
   "cell_type": "code",
   "execution_count": null,
   "metadata": {
    "colab": {
     "base_uri": "https://localhost:8080/"
    },
    "id": "WXDdHTPYAyF0",
    "outputId": "85970b7c-0173-4e98-f1da-97362c81e0b2"
   },
   "outputs": [],
   "source": [
    "history.history.keys()"
   ]
  },
  {
   "cell_type": "code",
   "execution_count": null,
   "metadata": {
    "colab": {
     "base_uri": "https://localhost:8080/",
     "height": 472
    },
    "id": "pa0Ku-uGqmMW",
    "outputId": "cc9e9fe6-da9b-4a41-a9b4-3042da3ef3f3"
   },
   "outputs": [],
   "source": [
    "# history = history.history[\"val_loss\"]\n",
    "import matplotlib.pyplot as plt\n",
    "x=np.linspace(1,num_epochs,num_epochs).astype(int)\n",
    "plt.plot(x, history.history[\"val_loss\"], c='red', label='val_loss')\n",
    "plt.plot(x, history.history[\"loss\"], c='blue', label='train_loss')\n",
    "plt.xlabel(\"Epochs\")\n",
    "plt.ylabel(\"LOSS\")\n",
    "plt.title('LOSS vs epoch')\n",
    "plt.legend()\n",
    "plt.show()"
   ]
  },
  {
   "cell_type": "code",
   "execution_count": null,
   "metadata": {
    "id": "CtB4CJ2iqpSV"
   },
   "outputs": [],
   "source": [
    "# below are plots for 1000 epochs"
   ]
  },
  {
   "cell_type": "code",
   "execution_count": null,
   "metadata": {
    "colab": {
     "base_uri": "https://localhost:8080/",
     "height": 295
    },
    "id": "aK6VXyqEAfp8",
    "outputId": "d34fcc37-0b16-4964-96d5-4a88d40ccf2a"
   },
   "outputs": [],
   "source": [
    "# history = history.history[\"val_loss\"]\n",
    "import matplotlib.pyplot as plt\n",
    "x=np.linspace(1,num_epochs,num_epochs).astype(int)\n",
    "plt.plot(x, history.history[\"val_loss\"], c='red', label='val_loss')\n",
    "plt.plot(x, history.history[\"loss\"], c='blue', label='train_loss')\n",
    "plt.xlabel(\"Epochs\")\n",
    "plt.ylabel(\"LOSS\")\n",
    "plt.title('LOSS vs epoch')\n",
    "plt.legend()\n",
    "plt.show()"
   ]
  },
  {
   "cell_type": "code",
   "execution_count": null,
   "metadata": {
    "colab": {
     "base_uri": "https://localhost:8080/",
     "height": 295
    },
    "id": "1rZRFa8CAf6G",
    "outputId": "4b191cce-8473-4c28-d498-b53fa84cfdd2"
   },
   "outputs": [],
   "source": [
    "import matplotlib.pyplot as plt\n",
    "x=np.linspace(1,num_epochs,num_epochs).astype(int)\n",
    "plt.plot(x, history.history[\"val_mae\"], c='red', label='val_mae')\n",
    "plt.plot(x, history.history[\"mae\"], c='blue', label='train_mae')\n",
    "plt.xlabel(\"Epochs\")\n",
    "plt.ylabel(\"MAE\")\n",
    "plt.title('MAE vs epoch')\n",
    "plt.legend()\n",
    "plt.show()"
   ]
  },
  {
   "cell_type": "code",
   "execution_count": null,
   "metadata": {
    "colab": {
     "base_uri": "https://localhost:8080/",
     "height": 295
    },
    "id": "ukggMng3L9lz",
    "outputId": "0dcb91f0-db25-47e3-cdd6-912d5b06ab8a"
   },
   "outputs": [],
   "source": [
    "import matplotlib.pyplot as plt\n",
    "x=np.linspace(1,num_epochs,num_epochs).astype(int)\n",
    "plt.plot(x, history.history[\"val_accuracy\"], c='red', label='val_accuracy')\n",
    "plt.plot(x, history.history[\"accuracy\"], c='blue', label='train_accuracy')\n",
    "plt.xlabel(\"Epochs\")\n",
    "plt.ylabel(\"accuracy\")\n",
    "plt.title('accuracy vs epoch')\n",
    "plt.legend()\n",
    "plt.show()"
   ]
  },
  {
   "cell_type": "markdown",
   "metadata": {
    "id": "tL9C2Ilroi8D"
   },
   "source": [
    "## Listing 4.31 Training the final model"
   ]
  },
  {
   "cell_type": "code",
   "execution_count": null,
   "metadata": {
    "id": "17vebWySNONr"
   },
   "outputs": [],
   "source": [
    "# %%time\n",
    "# ENOUGH_EPOCHS = 200\n",
    "# model = build_model()\n",
    "# model.fit(train_data, train_targets,\n",
    "#           epochs=ENOUGH_EPOCHS, batch_size=16, verbose=0)"
   ]
  },
  {
   "cell_type": "code",
   "execution_count": null,
   "metadata": {
    "colab": {
     "base_uri": "https://localhost:8080/"
    },
    "id": "XTrUv7frNuhM",
    "outputId": "9ce29ac3-4424-4b58-aa07-378e0f7a012b"
   },
   "outputs": [],
   "source": [
    "# Evaluate the model on the test data using `evaluate`\n",
    "print(\"Evaluate on test data\")\n",
    "results = model.evaluate(test_data, test_targets, batch_size=16)\n",
    "print(\"results:\", results)"
   ]
  },
  {
   "cell_type": "code",
   "execution_count": null,
   "metadata": {
    "colab": {
     "base_uri": "https://localhost:8080/"
    },
    "id": "N4PXdaDJpUhw",
    "outputId": "6edcf010-ae25-4c33-ce07-fb55e78bc6f9"
   },
   "outputs": [],
   "source": [
    "print(f'test_data_loss = {results[0]}')\n",
    "print(f'test_data_mse = {results[1]}')\n",
    "print(f'test_data_accuracy = {results[2]}')\n"
   ]
  },
  {
   "cell_type": "markdown",
   "metadata": {
    "id": "qE7KzdTRW7ek"
   },
   "source": [
    "# Use NN model to predict house values for test_data.\n",
    "# Compute RMSE using test_targets"
   ]
  },
  {
   "cell_type": "code",
   "execution_count": null,
   "metadata": {
    "id": "Ag1wf5WFX_3U"
   },
   "outputs": [],
   "source": [
    "def get_rmse(x1,x2):\n",
    "  return np.sqrt(np.mean((x1-x2)**2))"
   ]
  },
  {
   "cell_type": "code",
   "execution_count": null,
   "metadata": {
    "colab": {
     "base_uri": "https://localhost:8080/"
    },
    "id": "rSksBbvRWZKS",
    "outputId": "82370d29-4a38-4e74-c902-9c159ff3ec68"
   },
   "outputs": [],
   "source": [
    "Y_predNN = model.predict(test_data).flatten()\n",
    "Y_predNN[:5]\n",
    "get_rmse(Y_predNN, test_targets)"
   ]
  },
  {
   "cell_type": "code",
   "execution_count": null,
   "metadata": {
    "colab": {
     "base_uri": "https://localhost:8080/"
    },
    "id": "aI18RfrDpde1",
    "outputId": "cd0a9e4d-dce9-4334-d374-3a289eb204e2"
   },
   "outputs": [],
   "source": [
    "model.summary(line_length=120,\n",
    "    positions=None,\n",
    "    print_fn=None,\n",
    "    expand_nested=False,\n",
    "    show_trainable=True,\n",
    "    # layer_range=None\n",
    "    )\n"
   ]
  },
  {
   "cell_type": "markdown",
   "metadata": {
    "id": "mnDLuZ0nVnH7"
   },
   "source": [
    "# Use Normal Equation for the same regression problem"
   ]
  },
  {
   "cell_type": "code",
   "execution_count": null,
   "metadata": {
    "colab": {
     "base_uri": "https://localhost:8080/"
    },
    "id": "RHcact5yQIUp",
    "outputId": "7a3a031f-6170-4a3d-f2d5-0bca05503ee3"
   },
   "outputs": [],
   "source": [
    "train_data"
   ]
  },
  {
   "cell_type": "code",
   "execution_count": null,
   "metadata": {
    "colab": {
     "base_uri": "https://localhost:8080/"
    },
    "id": "H2-q1I_9QSTu",
    "outputId": "0abffbef-5483-4aa3-a235-2c7c4167b291"
   },
   "outputs": [],
   "source": [
    "train_data[:2,:]"
   ]
  },
  {
   "cell_type": "code",
   "execution_count": null,
   "metadata": {
    "colab": {
     "base_uri": "https://localhost:8080/"
    },
    "id": "_P-2CWPhQchg",
    "outputId": "1927ad04-c8ca-474d-f36c-5923fe383d56"
   },
   "outputs": [],
   "source": [
    "train_data.shape"
   ]
  },
  {
   "cell_type": "code",
   "execution_count": null,
   "metadata": {
    "colab": {
     "base_uri": "https://localhost:8080/"
    },
    "id": "yc0XQ7kjQfMh",
    "outputId": "384565de-e3ad-4c14-97ed-80b8dadf7593"
   },
   "outputs": [],
   "source": [
    "\n",
    "np.insert(train_data[:2,:], 0, 1, axis=1)"
   ]
  },
  {
   "cell_type": "code",
   "execution_count": null,
   "metadata": {
    "colab": {
     "base_uri": "https://localhost:8080/"
    },
    "id": "wQQVEBAJQlkY",
    "outputId": "5dde3a1a-15a3-45ce-bf8d-834e895b89cd"
   },
   "outputs": [],
   "source": [
    "# Insert '1' in each row of X\n",
    "X_train_data = np.insert(train_data, 0, 1, axis=1)\n",
    "print(f'X_train_data.shape={X_train_data.shape}')\n",
    "X_train_data[:2,:]"
   ]
  },
  {
   "cell_type": "code",
   "execution_count": null,
   "metadata": {
    "colab": {
     "base_uri": "https://localhost:8080/"
    },
    "id": "C-BlvLffQstB",
    "outputId": "2dafe45a-4976-4ed9-edf9-420b13244a5a"
   },
   "outputs": [],
   "source": [
    "Y=train_targets\n",
    "Y.shape"
   ]
  },
  {
   "cell_type": "markdown",
   "metadata": {
    "id": "lJgSq4ENPIj-"
   },
   "source": [
    "# COMPUTE REGRESSION PARAMETERS USING THE NORMAL EQUATION\n",
    "\n",
    "REGRESSION MODEL: $HousePrice = \\hat{w} \\ XtrainData^t$"
   ]
  },
  {
   "cell_type": "code",
   "execution_count": null,
   "metadata": {
    "id": "jL_3M07sT0RN"
   },
   "outputs": [],
   "source": [
    "def normal_equation(X,Y):\n",
    "  XtX_inv = np.linalg.inv(np.matmul((X.T),X))\n",
    "  tmp = np.matmul(XtX_inv, X.T)\n",
    "  w_hat = np.matmul(tmp, y)\n",
    "  return w_hat"
   ]
  },
  {
   "cell_type": "code",
   "execution_count": null,
   "metadata": {
    "colab": {
     "base_uri": "https://localhost:8080/"
    },
    "id": "H92Ky9P6T9R9",
    "outputId": "a6ff2d5b-790d-471e-cd4d-8ffde6acf470"
   },
   "outputs": [],
   "source": [
    "w_hat = normal_equation(X=X_train_data,\n",
    "                        Y=train_targets)\n",
    "print(w_hat.shape)\n",
    "w_hat"
   ]
  },
  {
   "cell_type": "markdown",
   "metadata": {
    "id": "0rpDZwOTPQbv"
   },
   "source": [
    "# PREDICT HOUSE PRICES FOR TEST DATA USING THE NORMAL EQUATION MODEL"
   ]
  },
  {
   "cell_type": "code",
   "execution_count": null,
   "metadata": {
    "colab": {
     "base_uri": "https://localhost:8080/"
    },
    "id": "-2h7nJJyUH84",
    "outputId": "9f3f7774-3aca-426d-a600-feb3a1900136"
   },
   "outputs": [],
   "source": [
    "test_data"
   ]
  },
  {
   "cell_type": "code",
   "execution_count": null,
   "metadata": {
    "colab": {
     "base_uri": "https://localhost:8080/"
    },
    "id": "OBi-MQeRU97L",
    "outputId": "05b4701c-db03-435f-e35e-d5ed82c0e8bc"
   },
   "outputs": [],
   "source": [
    "# Insert '1' in each row of test_data\n",
    "Xtest = np.insert(test_data, 0, 1, axis=1)\n",
    "print(f'Xtest.shape={Xtest.shape}')\n",
    "Xtest[:2,:]"
   ]
  },
  {
   "cell_type": "code",
   "execution_count": null,
   "metadata": {
    "colab": {
     "base_uri": "https://localhost:8080/"
    },
    "id": "M31ItpvpVUFr",
    "outputId": "ba9f81e3-6c23-4e32-a0bc-9dcb7fd137d8"
   },
   "outputs": [],
   "source": [
    "Y_pred = np.matmul(Xtest, w_hat)\n",
    "Y_pred"
   ]
  },
  {
   "cell_type": "code",
   "execution_count": null,
   "metadata": {
    "colab": {
     "base_uri": "https://localhost:8080/"
    },
    "id": "ktVEWp93VgV_",
    "outputId": "ab259598-0a6e-4a1c-9578-a56306817c97"
   },
   "outputs": [],
   "source": [
    "Ytest=test_targets\n",
    "Ytest"
   ]
  },
  {
   "cell_type": "markdown",
   "metadata": {
    "id": "Gpz3axXKO7CY"
   },
   "source": [
    "# COMPARE PREDICTION RESULTS OF NN model and Normal Equation model"
   ]
  },
  {
   "cell_type": "code",
   "execution_count": null,
   "metadata": {
    "colab": {
     "base_uri": "https://localhost:8080/"
    },
    "id": "d-rItEEHWEPe",
    "outputId": "6c6664a0-eb4a-4522-891e-50009246866f"
   },
   "outputs": [],
   "source": [
    "rmse_ne = get_rmse(Y_pred,Ytest)\n",
    "rmse_nn = get_rmse(Y_predNN, test_targets)\n",
    "print(f'NN prediction RMSE        = {rmse_nn}')\n",
    "print(f'Normal Eq prediction RMSE = {rmse_ne}')"
   ]
  },
  {
   "cell_type": "markdown",
   "metadata": {
    "id": "_OuEuvmsQolp"
   },
   "source": [
    "# IN THIS EXAMPLE WE SEE THAT THE NORMAL EQ Model performs better than NN model\n",
    "\n",
    "## See boston_housing_v2 code to see how to improve NN model"
   ]
  },
  {
   "cell_type": "code",
   "execution_count": null,
   "metadata": {
    "id": "8xMKG916X8QM"
   },
   "outputs": [],
   "source": [
    "Reference: BUAN 6382.SW1.S24 course by Dr Farid Khafizov at Naveen Jindal School to Management, UTDallas."
   ]
  }
 ],
 "metadata": {
  "colab": {
   "authorship_tag": "ABX9TyNJ+k9ESK8Nz5V+NlSIT6dp",
   "include_colab_link": true,
   "provenance": []
  },
  "kernelspec": {
   "display_name": "Python 3 (ipykernel)",
   "language": "python",
   "name": "python3"
  },
  "language_info": {
   "codemirror_mode": {
    "name": "ipython",
    "version": 3
   },
   "file_extension": ".py",
   "mimetype": "text/x-python",
   "name": "python",
   "nbconvert_exporter": "python",
   "pygments_lexer": "ipython3",
   "version": "3.11.5"
  }
 },
 "nbformat": 4,
 "nbformat_minor": 1
}
