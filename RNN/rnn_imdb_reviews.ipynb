{
  "cells": [
    {
      "cell_type": "markdown",
      "metadata": {
        "colab_type": "text",
        "id": "view-in-github"
      },
      "source": [
        "<a href=\"https://colab.research.google.com/github/ftk1000/1_deep_learn_class/blob/main/rnn_imdb_reviews.ipynb\" target=\"_parent\"><img src=\"https://colab.research.google.com/assets/colab-badge.svg\" alt=\"Open In Colab\"/></a>"
      ]
    },
    {
      "cell_type": "code",
      "execution_count": 1,
      "metadata": {
        "colab": {
          "base_uri": "https://localhost:8080/"
        },
        "id": "iApyWABYalEw",
        "outputId": "b898817a-8680-4e02-8309-bc5f04bcf28d"
      },
      "outputs": [
        {
          "name": "stdout",
          "output_type": "stream",
          "text": [
            "Mon Mar 18 21:15:01 2024       \n",
            "+---------------------------------------------------------------------------------------+\n",
            "| NVIDIA-SMI 535.104.05             Driver Version: 535.104.05   CUDA Version: 12.2     |\n",
            "|-----------------------------------------+----------------------+----------------------+\n",
            "| GPU  Name                 Persistence-M | Bus-Id        Disp.A | Volatile Uncorr. ECC |\n",
            "| Fan  Temp   Perf          Pwr:Usage/Cap |         Memory-Usage | GPU-Util  Compute M. |\n",
            "|                                         |                      |               MIG M. |\n",
            "|=========================================+======================+======================|\n",
            "|   0  Tesla T4                       Off | 00000000:00:04.0 Off |                    0 |\n",
            "| N/A   43C    P8               9W /  70W |      0MiB / 15360MiB |      0%      Default |\n",
            "|                                         |                      |                  N/A |\n",
            "+-----------------------------------------+----------------------+----------------------+\n",
            "                                                                                         \n",
            "+---------------------------------------------------------------------------------------+\n",
            "| Processes:                                                                            |\n",
            "|  GPU   GI   CI        PID   Type   Process name                            GPU Memory |\n",
            "|        ID   ID                                                             Usage      |\n",
            "|=======================================================================================|\n",
            "|  No running processes found                                                           |\n",
            "+---------------------------------------------------------------------------------------+\n"
          ]
        }
      ],
      "source": [
        "!nvidia-smi"
      ]
    },
    {
      "cell_type": "markdown",
      "metadata": {
        "id": "hX4n9TsbGw-f"
      },
      "source": [
        "2023.03.05\n",
        "\n",
        "rnn_imdb_reviews.ipynb\n",
        "\n",
        "# 2023-Spring-BUAN-6382.501, Applied Deep Learning\n",
        "\n",
        "Modified from the original source:\n",
        "\n",
        "Ref: https://colab.research.google.com/github/tensorflow/text/blob/master/docs/tutorials/text_classification_rnn.ipynb#scrollTo=hX4n9TsbGw-f"
      ]
    },
    {
      "cell_type": "code",
      "execution_count": 2,
      "metadata": {
        "id": "0nbI5DtDGw-i"
      },
      "outputs": [],
      "source": [
        "#@title Licensed under the Apache License, Version 2.0 (the \"License\");\n",
        "# you may not use this file except in compliance with the License.\n",
        "# You may obtain a copy of the License at\n",
        "#\n",
        "# https://www.apache.org/licenses/LICENSE-2.0\n",
        "#\n",
        "# Unless required by applicable law or agreed to in writing, software\n",
        "# distributed under the License is distributed on an \"AS IS\" BASIS,\n",
        "# WITHOUT WARRANTIES OR CONDITIONS OF ANY KIND, either express or implied.\n",
        "# See the License for the specific language governing permissions and\n",
        "# limitations under the License."
      ]
    },
    {
      "cell_type": "markdown",
      "metadata": {
        "id": "9TnJztDZGw-n"
      },
      "source": [
        "# Text classification with an RNN"
      ]
    },
    {
      "cell_type": "markdown",
      "metadata": {
        "id": "AfN3bMR5Gw-o"
      },
      "source": [
        "<table class=\"tfo-notebook-buttons\" align=\"left\">\n",
        "  <td>\n",
        "    <a target=\"_blank\" href=\"https://www.tensorflow.org/text/tutorials/text_classification_rnn\"><img src=\"https://www.tensorflow.org/images/tf_logo_32px.png\" />View on TensorFlow.org</a>\n",
        "  </td>\n",
        "  <td>\n",
        "    <a target=\"_blank\" href=\"https://colab.research.google.com/github/tensorflow/text/blob/master/docs/tutorials/text_classification_rnn.ipynb\"><img src=\"https://www.tensorflow.org/images/colab_logo_32px.png\" />Run in Google Colab</a>\n",
        "  </td>\n",
        "  <td>\n",
        "    <a target=\"_blank\" href=\"https://github.com/tensorflow/text/blob/master/docs/tutorials/text_classification_rnn.ipynb\"><img src=\"https://www.tensorflow.org/images/GitHub-Mark-32px.png\" />View source on GitHub</a>\n",
        "  </td>\n",
        "  <td>\n",
        "    <a href=\"https://storage.googleapis.com/tensorflow_docs/text/docs/tutorials/text_classification_rnn.ipynb\"><img src=\"https://www.tensorflow.org/images/download_logo_32px.png\" />Download notebook</a>\n",
        "  </td>\n",
        "</table>"
      ]
    },
    {
      "cell_type": "markdown",
      "metadata": {
        "id": "lUWearf0Gw-p"
      },
      "source": [
        "This text classification tutorial trains a [recurrent neural network](https://developers.google.com/machine-learning/glossary/#recurrent_neural_network) on the [IMDB large movie review dataset](http://ai.stanford.edu/~amaas/data/sentiment/) for sentiment analysis."
      ]
    },
    {
      "cell_type": "markdown",
      "metadata": {
        "id": "_2VQo4bajwUU"
      },
      "source": [
        "## Setup"
      ]
    },
    {
      "cell_type": "code",
      "execution_count": 3,
      "metadata": {
        "id": "z682XYsrjkY9"
      },
      "outputs": [],
      "source": [
        "import numpy as np\n",
        "\n",
        "import tensorflow_datasets as tfds\n",
        "import tensorflow as tf\n",
        "\n",
        "tfds.disable_progress_bar()\n",
        "\n",
        "def sigmoid(z):\n",
        "    return 1/(1 + np.exp(-z))"
      ]
    },
    {
      "cell_type": "markdown",
      "metadata": {
        "id": "1rXHa-w9JZhb"
      },
      "source": [
        "Import `matplotlib` and create a helper function to plot graphs:"
      ]
    },
    {
      "cell_type": "code",
      "execution_count": 4,
      "metadata": {
        "id": "Mp1Z7P9pYRSK"
      },
      "outputs": [],
      "source": [
        "import matplotlib.pyplot as plt\n",
        "\n",
        "\n",
        "def plot_graphs(history, metric):\n",
        "  plt.plot(history.history[metric])\n",
        "  plt.plot(history.history['val_'+metric], '')\n",
        "  plt.xlabel(\"Epochs\")\n",
        "  plt.ylabel(metric)\n",
        "  plt.legend([metric, 'val_'+metric])"
      ]
    },
    {
      "cell_type": "markdown",
      "metadata": {
        "id": "pRmMubr0jrE2"
      },
      "source": [
        "## Setup input pipeline\n",
        "\n",
        "\n",
        "The IMDB large movie review dataset is a *binary classification* dataset—all the reviews have either a *positive* or *negative* sentiment.\n",
        "\n",
        "Download the dataset using [TFDS](https://www.tensorflow.org/datasets). See the [loading text tutorial](https://www.tensorflow.org/tutorials/load_data/text) for details on how to load this sort of data manually.\n"
      ]
    },
    {
      "cell_type": "code",
      "execution_count": 5,
      "metadata": {
        "colab": {
          "base_uri": "https://localhost:8080/"
        },
        "id": "SHRwRoP2nVHX",
        "outputId": "13c2dc19-c69c-4908-e302-12125a9af943"
      },
      "outputs": [
        {
          "name": "stdout",
          "output_type": "stream",
          "text": [
            "Downloading and preparing dataset 80.23 MiB (download: 80.23 MiB, generated: Unknown size, total: 80.23 MiB) to /root/tensorflow_datasets/imdb_reviews/plain_text/1.0.0...\n",
            "Dataset imdb_reviews downloaded and prepared to /root/tensorflow_datasets/imdb_reviews/plain_text/1.0.0. Subsequent calls will reuse this data.\n"
          ]
        },
        {
          "data": {
            "text/plain": [
              "(TensorSpec(shape=(), dtype=tf.string, name=None),\n",
              " TensorSpec(shape=(), dtype=tf.int64, name=None))"
            ]
          },
          "execution_count": 5,
          "metadata": {},
          "output_type": "execute_result"
        }
      ],
      "source": [
        "dataset, info = tfds.load('imdb_reviews', with_info=True,\n",
        "                          as_supervised=True)\n",
        "train_dataset, test_dataset = dataset['train'], dataset['test']\n",
        "\n",
        "train_dataset.element_spec"
      ]
    },
    {
      "cell_type": "markdown",
      "metadata": {
        "id": "nWA4c2ir7g6p"
      },
      "source": [
        "Initially this returns a dataset of (text, label pairs):"
      ]
    },
    {
      "cell_type": "code",
      "execution_count": 6,
      "metadata": {
        "colab": {
          "base_uri": "https://localhost:8080/"
        },
        "id": "vd4_BGKyurao",
        "outputId": "31c8e21e-88d4-4033-e81f-48d48a4e78dd"
      },
      "outputs": [
        {
          "name": "stdout",
          "output_type": "stream",
          "text": [
            "text:  b\"This was an absolutely terrible movie. Don't be lured in by Christopher Walken or Michael Ironside. Both are great actors, but this must simply be their worst role in history. Even their great acting could not redeem this movie's ridiculous storyline. This movie is an early nineties US propaganda piece. The most pathetic scenes were those when the Columbian rebels were making their cases for revolutions. Maria Conchita Alonso appeared phony, and her pseudo-love affair with Walken was nothing but a pathetic emotional plug in a movie that was devoid of any real meaning. I am disappointed that there are movies like this, ruining actor's like Christopher Walken's good name. I could barely sit through it.\"\n",
            "label:  0\n"
          ]
        }
      ],
      "source": [
        "for example, label in train_dataset.take(1):\n",
        "  print('text: ', example.numpy())\n",
        "  print('label: ', label.numpy())"
      ]
    },
    {
      "cell_type": "markdown",
      "metadata": {
        "id": "z2qVJzcEluH_"
      },
      "source": [
        "Next shuffle the data for training and create batches of these `(text, label)` pairs:"
      ]
    },
    {
      "cell_type": "code",
      "execution_count": 7,
      "metadata": {
        "id": "dDsCaZCDYZgm"
      },
      "outputs": [],
      "source": [
        "BUFFER_SIZE = 10000\n",
        "BATCH_SIZE = 64"
      ]
    },
    {
      "cell_type": "code",
      "execution_count": 8,
      "metadata": {
        "colab": {
          "base_uri": "https://localhost:8080/"
        },
        "id": "VznrltNOnUc5",
        "outputId": "d1c45ddb-b81e-4bf0-86cb-8ee88fa633a0"
      },
      "outputs": [
        {
          "name": "stdout",
          "output_type": "stream",
          "text": [
            "CPU times: user 11.9 ms, sys: 1.04 ms, total: 12.9 ms\n",
            "Wall time: 14.4 ms\n"
          ]
        }
      ],
      "source": [
        "%%time\n",
        "train_dataset = train_dataset.shuffle(BUFFER_SIZE).batch(BATCH_SIZE).prefetch(tf.data.AUTOTUNE)\n",
        "test_dataset = test_dataset.batch(BATCH_SIZE).prefetch(tf.data.AUTOTUNE)"
      ]
    },
    {
      "cell_type": "code",
      "execution_count": 9,
      "metadata": {
        "colab": {
          "base_uri": "https://localhost:8080/"
        },
        "id": "jqkvdcFv41wC",
        "outputId": "ba689568-0b67-467e-d9c1-2fa78f3a493a"
      },
      "outputs": [
        {
          "name": "stdout",
          "output_type": "stream",
          "text": [
            "texts:  [b'Ok - I admit. I think Kenny Doughty looks amazing in this movie - but beyond his good looks, the movie is carried by a sometimes predictable, but reasonable plot.<br /><br />Starting out, we\\'re introduced to the three lead females of the movie. One a headmistress - very concerned about her image and never married. A police officer - with child and a bad ex to go on about. The third - a power & status hungry doctor with a desire for recognition and three ex\\'s.<br /><br />They are almost the \"First Wives Club\", and indeed there is much verbal bashing of ex\\'s involved as well as some \"he left the credit card\" behaviour. Characters set - the movie continues.<br /><br />McDowell\\'s character, the headmistress, arrives late at a funeral - where a young organist, filling in for the regular player (Doughty) catches her eye. What will her two friends say about the ensuing mischief? Will they live happily ever after?<br /><br />A tissue or two recommended if you\\'re the teary type - the end uplifting, but maybe not what you\\'d expect. All in all a great movie which stands out amongst the current choices of action, special effects and schlock horror.'\n",
            " b'This movie which was released directly on video should carry a warning label that it is dangerous to human health and may subject the viewer to terminal boredom. It is yet another thinly veiled, evangalizing \"rapture\" religious movie with the good guys (the believers) suddenly vanishing and the bad guys (the non-believers)left behind. It\\'s an interesting concept, especially since we see it happen on a flight captained by a non-believer who is having a sinful affair with a stewardess aboard (needless to say that sinner doesn\\'t disappear either!). Unhappily, with all the pilots being non-believers, the plane did not crash or the movie would have been mercifully over. Though this could have be interesting without the heavy religious browbeating, as a whole the plodding movie makes one gag, the acting is horrible and the obviously computer-generated simulations are very fake looking. Plus it\\'s yet another movie shot in Canada that purports to be New York City. Spare me...I\\'ll just read the Bible.'\n",
            " b\"Dig! I would say to anyone even if you don't like Metallica to see 'some kind of monster' it is a spinal tap type documentary about one of the biggest bands in the world acting like mental kids during a breakdown of sorts. It's fun and fascinating. Along the same lines comes dig! A film about 'the Dandy Warhol's' and 'the Brian Jonestown massacre' two Portland bands who start off a kind of music scene in there home town only for one of the bands to become huge and one to fall by the wayside into the musical history books. Right from the start the two bands pull in opposite directions just on their ability to make decisions whether good or bad. Filmed over seven years and at times painful to watch we see the dandy's meteoric rise to fame (thanks to that vodaphone ad!) and the Jonestown seminal fall from scene instigators to bickering wannabes. As the bands become more disjointed the friendships are stretched tension tight and at several points snap into arguments and even on stage fights. All of this is half funny and half tragic and believe it or not is perversely watch able. Like I said at the beginning you can watch the Metallica film even if you have no interest in the band. Dig! on the other hand is slightly different and is more enjoyable and a whole lot easier to watch if you have a passing interest in either band. Still a good film and more a testament to not be in a band than encouraging that as a career path. Dig! Is a mad ride on rock and roll's coat tails and a fine example of the pitfalls and pleasures of being or wanting to be famous.\"]\n",
            "\n",
            "labels:  [1 0 1]\n"
          ]
        }
      ],
      "source": [
        "for example, label in train_dataset.take(1):\n",
        "  print('texts: ', example.numpy()[:3])\n",
        "  print()\n",
        "  print('labels: ', label.numpy()[:3])"
      ]
    },
    {
      "cell_type": "markdown",
      "metadata": {
        "id": "s5eWCo88voPY"
      },
      "source": [
        "## Create the text encoder"
      ]
    },
    {
      "cell_type": "markdown",
      "metadata": {
        "id": "TFevcItw15P_"
      },
      "source": [
        "The raw text loaded by `tfds` needs to be processed before it can be used in a model. The simplest way to process text for training is using the `TextVectorization` layer. This layer has many capabilities, but this tutorial sticks to the default behavior.\n",
        "\n",
        "Create the layer, and pass the dataset's text to the layer's `.adapt` method:"
      ]
    },
    {
      "cell_type": "code",
      "execution_count": 10,
      "metadata": {
        "id": "uC25Lu1Yvuqy"
      },
      "outputs": [],
      "source": [
        "VOCAB_SIZE = 1000\n",
        "encoder = tf.keras.layers.TextVectorization(\n",
        "    max_tokens=VOCAB_SIZE)\n",
        "encoder.adapt(train_dataset.map(lambda text, label: text))"
      ]
    },
    {
      "cell_type": "markdown",
      "metadata": {
        "id": "IuQzVBbe3Ldu"
      },
      "source": [
        "The `.adapt` method sets the layer's vocabulary. Here are the first 20 tokens. After the padding and unknown tokens they're sorted by frequency:"
      ]
    },
    {
      "cell_type": "code",
      "execution_count": 11,
      "metadata": {
        "colab": {
          "base_uri": "https://localhost:8080/"
        },
        "id": "tBoyjjWg0Ac9",
        "outputId": "dc2ee5d9-b8f8-4ad7-c493-b6edb5b0c8d2"
      },
      "outputs": [
        {
          "data": {
            "text/plain": [
              "array(['', '[UNK]', 'the', 'and', 'a', 'of', 'to', 'is', 'in', 'it', 'i',\n",
              "       'this', 'that', 'br', 'was', 'as', 'for', 'with', 'movie', 'but'],\n",
              "      dtype='<U14')"
            ]
          },
          "execution_count": 11,
          "metadata": {},
          "output_type": "execute_result"
        }
      ],
      "source": [
        "vocab = np.array(encoder.get_vocabulary())\n",
        "vocab[:20]"
      ]
    },
    {
      "cell_type": "markdown",
      "metadata": {
        "id": "mjId5pua3jHQ"
      },
      "source": [
        "Once the vocabulary is set, the layer can encode text into indices. The tensors of indices are 0-padded to the longest sequence in the batch (unless you set a fixed `output_sequence_length`):"
      ]
    },
    {
      "cell_type": "code",
      "execution_count": 12,
      "metadata": {
        "colab": {
          "base_uri": "https://localhost:8080/"
        },
        "id": "RGc7C9WiwRWs",
        "outputId": "bfdf5906-8702-44dd-c440-35914e90d885"
      },
      "outputs": [
        {
          "data": {
            "text/plain": [
              "array([[597,  10, 934, ...,   0,   0,   0],\n",
              "       [ 11,  18,  60, ...,   0,   0,   0],\n",
              "       [  1,  10,  59, ...,   0,   0,   0]])"
            ]
          },
          "execution_count": 12,
          "metadata": {},
          "output_type": "execute_result"
        }
      ],
      "source": [
        "encoded_example = encoder(example)[:3].numpy()\n",
        "encoded_example"
      ]
    },
    {
      "cell_type": "markdown",
      "metadata": {
        "id": "F5cjz0bS39IN"
      },
      "source": [
        "With the default settings, the process is not completely reversible. There are three main reasons for that:\n",
        "\n",
        "1. The default value for `preprocessing.TextVectorization`'s `standardize` argument is `\"lower_and_strip_punctuation\"`.\n",
        "2. The limited vocabulary size and lack of character-based fallback results in some unknown tokens."
      ]
    },
    {
      "cell_type": "code",
      "execution_count": 13,
      "metadata": {
        "colab": {
          "base_uri": "https://localhost:8080/"
        },
        "id": "N_tD0QY5wXaK",
        "outputId": "084313a3-4b2f-42d7-fd92-52b94766f699"
      },
      "outputs": [
        {
          "name": "stdout",
          "output_type": "stream",
          "text": [
            "Original:  b'Ok - I admit. I think Kenny Doughty looks amazing in this movie - but beyond his good looks, the movie is carried by a sometimes predictable, but reasonable plot.<br /><br />Starting out, we\\'re introduced to the three lead females of the movie. One a headmistress - very concerned about her image and never married. A police officer - with child and a bad ex to go on about. The third - a power & status hungry doctor with a desire for recognition and three ex\\'s.<br /><br />They are almost the \"First Wives Club\", and indeed there is much verbal bashing of ex\\'s involved as well as some \"he left the credit card\" behaviour. Characters set - the movie continues.<br /><br />McDowell\\'s character, the headmistress, arrives late at a funeral - where a young organist, filling in for the regular player (Doughty) catches her eye. What will her two friends say about the ensuing mischief? Will they live happily ever after?<br /><br />A tissue or two recommended if you\\'re the teary type - the end uplifting, but maybe not what you\\'d expect. All in all a great movie which stands out amongst the current choices of action, special effects and schlock horror.'\n",
            "Round-trip:  ok i admit i think [UNK] [UNK] looks amazing in this movie but beyond his good looks the movie is [UNK] by a sometimes predictable but [UNK] [UNK] br [UNK] out were [UNK] to the three lead [UNK] of the movie one a [UNK] very [UNK] about her [UNK] and never [UNK] a police [UNK] with child and a bad [UNK] to go on about the third a power [UNK] [UNK] [UNK] with a [UNK] for [UNK] and three [UNK] br they are almost the first [UNK] [UNK] and indeed there is much [UNK] [UNK] of [UNK] involved as well as some he left the [UNK] [UNK] [UNK] characters set the movie [UNK] br [UNK] character the [UNK] [UNK] late at a [UNK] where a young [UNK] [UNK] in for the [UNK] [UNK] [UNK] [UNK] her eye what will her two friends say about the [UNK] [UNK] will they live [UNK] ever [UNK] br a [UNK] or two [UNK] if youre the [UNK] type the end [UNK] but maybe not what [UNK] expect all in all a great movie which [UNK] out [UNK] the [UNK] [UNK] of action special effects and [UNK] horror                                                                                                                                                                                                                                                                                                                                                                                                                                                                                                                                                                                                                                                                                                                                                                                                                                                 \n",
            "\n",
            "Original:  b'This movie which was released directly on video should carry a warning label that it is dangerous to human health and may subject the viewer to terminal boredom. It is yet another thinly veiled, evangalizing \"rapture\" religious movie with the good guys (the believers) suddenly vanishing and the bad guys (the non-believers)left behind. It\\'s an interesting concept, especially since we see it happen on a flight captained by a non-believer who is having a sinful affair with a stewardess aboard (needless to say that sinner doesn\\'t disappear either!). Unhappily, with all the pilots being non-believers, the plane did not crash or the movie would have been mercifully over. Though this could have be interesting without the heavy religious browbeating, as a whole the plodding movie makes one gag, the acting is horrible and the obviously computer-generated simulations are very fake looking. Plus it\\'s yet another movie shot in Canada that purports to be New York City. Spare me...I\\'ll just read the Bible.'\n",
            "Round-trip:  this movie which was released [UNK] on video should [UNK] a [UNK] [UNK] that it is [UNK] to human [UNK] and may subject the viewer to [UNK] [UNK] it is yet another [UNK] [UNK] [UNK] [UNK] [UNK] movie with the good guys the [UNK] [UNK] [UNK] and the bad guys the [UNK] behind its an interesting [UNK] especially since we see it happen on a [UNK] [UNK] by a [UNK] who is having a [UNK] [UNK] with a [UNK] [UNK] [UNK] to say that [UNK] doesnt [UNK] either [UNK] with all the [UNK] being [UNK] the [UNK] did not [UNK] or the movie would have been [UNK] over though this could have be interesting without the [UNK] [UNK] [UNK] as a whole the [UNK] movie makes one [UNK] the acting is horrible and the obviously [UNK] [UNK] are very [UNK] looking plus its yet another movie shot in [UNK] that [UNK] to be new york city [UNK] [UNK] just read the [UNK]                                                                                                                                                                                                                                                                                                                                                                                                                                                                                                                                                                                                                                                                                                                                                                                                                                                                                \n",
            "\n",
            "Original:  b\"Dig! I would say to anyone even if you don't like Metallica to see 'some kind of monster' it is a spinal tap type documentary about one of the biggest bands in the world acting like mental kids during a breakdown of sorts. It's fun and fascinating. Along the same lines comes dig! A film about 'the Dandy Warhol's' and 'the Brian Jonestown massacre' two Portland bands who start off a kind of music scene in there home town only for one of the bands to become huge and one to fall by the wayside into the musical history books. Right from the start the two bands pull in opposite directions just on their ability to make decisions whether good or bad. Filmed over seven years and at times painful to watch we see the dandy's meteoric rise to fame (thanks to that vodaphone ad!) and the Jonestown seminal fall from scene instigators to bickering wannabes. As the bands become more disjointed the friendships are stretched tension tight and at several points snap into arguments and even on stage fights. All of this is half funny and half tragic and believe it or not is perversely watch able. Like I said at the beginning you can watch the Metallica film even if you have no interest in the band. Dig! on the other hand is slightly different and is more enjoyable and a whole lot easier to watch if you have a passing interest in either band. Still a good film and more a testament to not be in a band than encouraging that as a career path. Dig! Is a mad ride on rock and roll's coat tails and a fine example of the pitfalls and pleasures of being or wanting to be famous.\"\n",
            "Round-trip:  [UNK] i would say to anyone even if you dont like [UNK] to see some kind of monster it is a [UNK] [UNK] type documentary about one of the [UNK] [UNK] in the world acting like [UNK] kids during a [UNK] of [UNK] its fun and [UNK] along the same lines comes [UNK] a film about the [UNK] [UNK] and the [UNK] [UNK] [UNK] two [UNK] [UNK] who start off a kind of music scene in there home town only for one of the [UNK] to become huge and one to fall by the [UNK] into the musical history [UNK] right from the start the two [UNK] [UNK] in [UNK] [UNK] just on their [UNK] to make [UNK] whether good or bad filmed over [UNK] years and at times [UNK] to watch we see the [UNK] [UNK] [UNK] to [UNK] [UNK] to that [UNK] [UNK] and the [UNK] [UNK] fall from scene [UNK] to [UNK] [UNK] as the [UNK] become more [UNK] the [UNK] are [UNK] [UNK] [UNK] and at several points [UNK] into [UNK] and even on stage [UNK] all of this is half funny and half [UNK] and believe it or not is [UNK] watch able like i said at the beginning you can watch the [UNK] film even if you have no interest in the [UNK] [UNK] on the other hand is [UNK] different and is more enjoyable and a whole lot [UNK] to watch if you have a [UNK] interest in either [UNK] still a good film and more a [UNK] to not be in a [UNK] than [UNK] that as a career [UNK] [UNK] is a [UNK] [UNK] on rock and [UNK] [UNK] [UNK] and a fine example of the [UNK] and [UNK] of being or [UNK] to be famous                                                                                                                                                                                                                                                                                                                                                                                                                                                                                                                                                                                                                                                                                                                                           \n",
            "\n"
          ]
        }
      ],
      "source": [
        "for n in range(3):\n",
        "  print(\"Original: \", example[n].numpy())\n",
        "  print(\"Round-trip: \", \" \".join(vocab[encoded_example[n]]))\n",
        "  print()"
      ]
    },
    {
      "cell_type": "markdown",
      "metadata": {
        "id": "bjUqGVBxGw-t"
      },
      "source": [
        "## Create the model"
      ]
    },
    {
      "cell_type": "markdown",
      "metadata": {
        "id": "W7zsmInBOCPO"
      },
      "source": [
        "![A drawing of the information flow in the model](https://github.com/tensorflow/text/blob/master/docs/tutorials/images/bidirectional.png?raw=1)"
      ]
    },
    {
      "cell_type": "markdown",
      "metadata": {
        "id": "bgs6nnSTGw-t"
      },
      "source": [
        "Above is a diagram of the model.\n",
        "\n",
        "1. This model can be build as a `tf.keras.Sequential`.\n",
        "\n",
        "2. The first layer is the `encoder`, which converts the text to a sequence of token indices.\n",
        "\n",
        "3. After the encoder is an embedding layer. An embedding layer stores one vector per word. When called, it converts the sequences of word indices to sequences of vectors. These vectors are trainable. After training (on enough data), words with similar meanings often have similar vectors.\n",
        "\n",
        "  This index-lookup is much more efficient than the equivalent operation of passing a one-hot encoded vector through a `tf.keras.layers.Dense` layer.\n",
        "\n",
        "4. A recurrent neural network (RNN) processes sequence input by iterating through the elements. RNNs pass the outputs from one timestep to their input on the next timestep.\n",
        "\n",
        "  The `tf.keras.layers.Bidirectional` wrapper can also be used with an RNN layer. This propagates the input forward and backwards through the RNN layer and then concatenates the final output.\n",
        "\n",
        "  * The main advantage of a bidirectional RNN is that the signal from the beginning of the input doesn't need to be processed all the way through every timestep to affect the output.  \n",
        "\n",
        "  * The main disadvantage of a bidirectional RNN is that you can't efficiently stream predictions as words are being added to the end.\n",
        "\n",
        "5. After the RNN has converted the sequence to a single vector the two `layers.Dense` do some final processing, and convert from this vector representation to a single logit as the classification output.\n"
      ]
    },
    {
      "cell_type": "markdown",
      "metadata": {
        "id": "V4fodCI7soQi"
      },
      "source": [
        "The code to implement this is below:"
      ]
    },
    {
      "cell_type": "code",
      "execution_count": 16,
      "metadata": {
        "id": "-KxX0pEfbYJI"
      },
      "outputs": [],
      "source": [
        "# tf.keras.layers.Embedding(\n",
        "#     input_dim=len(encoder.get_vocabulary()),\n",
        "#     output_dim=64,\n",
        "#     # Use masking to handle the variable sequence lengths\n",
        "#     mask_zero=True)"
      ]
    },
    {
      "cell_type": "code",
      "execution_count": 17,
      "metadata": {
        "id": "LwfoBkmRYcP3"
      },
      "outputs": [],
      "source": [
        "model = tf.keras.Sequential([\n",
        "    encoder,\n",
        "    tf.keras.layers.Embedding(\n",
        "        input_dim=len(encoder.get_vocabulary()),\n",
        "        output_dim=64,\n",
        "        # Use masking to handle the variable sequence lengths\n",
        "        mask_zero=True),\n",
        "    tf.keras.layers.Bidirectional(tf.keras.layers.LSTM(64)),\n",
        "    tf.keras.layers.Dense(64, activation='relu'),\n",
        "    tf.keras.layers.Dense(1, activation='sigmoid')\n",
        "])"
      ]
    },
    {
      "cell_type": "markdown",
      "metadata": {
        "id": "QIGmIGkkouUb"
      },
      "source": [
        "Please note that Keras sequential model is used here since all the layers in the model only have single input and produce single output. In case you want to use stateful RNN layer, you might want to build your model with Keras functional API or model subclassing so that you can retrieve and reuse the RNN layer states. Please check [Keras RNN guide](https://www.tensorflow.org/guide/keras/rnn#rnn_state_reuse) for more details."
      ]
    },
    {
      "cell_type": "markdown",
      "metadata": {
        "id": "kF-PsCk1LwjY"
      },
      "source": [
        "The embedding layer [uses masking](https://www.tensorflow.org/guide/keras/masking_and_padding) to handle the varying sequence-lengths. All the layers after the `Embedding` support masking:"
      ]
    },
    {
      "cell_type": "code",
      "execution_count": 18,
      "metadata": {
        "colab": {
          "base_uri": "https://localhost:8080/"
        },
        "id": "87a8-CwfKebw",
        "outputId": "f35a57c1-5ee7-4a6b-c822-f04a7564bece"
      },
      "outputs": [
        {
          "name": "stdout",
          "output_type": "stream",
          "text": [
            "[False, True, True, True, True]\n"
          ]
        }
      ],
      "source": [
        "print([layer.supports_masking for layer in model.layers])"
      ]
    },
    {
      "cell_type": "markdown",
      "metadata": {
        "id": "ZlS0iaUIWLpI"
      },
      "source": [
        "To confirm that this works as expected, evaluate a sentence twice. First, alone so there's no padding to mask:"
      ]
    },
    {
      "cell_type": "code",
      "execution_count": 21,
      "metadata": {
        "colab": {
          "base_uri": "https://localhost:8080/"
        },
        "id": "O41gw3KfWHus",
        "outputId": "c2ca3442-af3d-4584-f33e-bcb3db1f48de"
      },
      "outputs": [
        {
          "name": "stdout",
          "output_type": "stream",
          "text": [
            "1/1 [==============================] - 0s 19ms/step\n",
            "[0.50106925]\n"
          ]
        }
      ],
      "source": [
        "# predict on a sample text without padding.\n",
        "\n",
        "sample_text = ('The movie was cool. The animation and the graphics '\n",
        "               'were out of this world. I would recommend this movie.')\n",
        "\n",
        "sample_text = ('The movie was terrible. I do not recommend this movie.')\n",
        "\n",
        "predictions = model.predict(np.array([sample_text]))\n",
        "\n",
        "\n",
        "print(predictions[0])"
      ]
    },
    {
      "cell_type": "markdown",
      "metadata": {
        "id": "K0VQmGnEWcuz"
      },
      "source": [
        "Now, evaluate it again in a batch with a longer sentence. The result should be identical:"
      ]
    },
    {
      "cell_type": "code",
      "execution_count": 22,
      "metadata": {
        "colab": {
          "base_uri": "https://localhost:8080/"
        },
        "id": "UIgpuTeFNDzq",
        "outputId": "1f576e4b-bbf3-4a89-9885-2b9e90e2142f"
      },
      "outputs": [
        {
          "name": "stdout",
          "output_type": "stream",
          "text": [
            "padded_sample_text= ['The movie was terrible. I do not recommend this movie.'\n",
            " 'the the the the the the the the the the the the the the the the the the the the the the the the the the the the the the the the the the the the the the the the the the the the the the the the the the the the the the the the the the the the the the the the the the the the the the the the the the the the the the the the the the the the the the the the the the the the the the the the the the the the the the the the the the the the the the the the the the the the the the the the the the the the the the the the the the the the the the the the the the the the the the the the the the the the the the the the the the the the the the the the the the the the the the the the the the the the the the the the the the the the the the the the the the the the the the the the the the the the the the the the the the the the the the the the the the the the the the the the the the the the the the the the the the the the the the the the the the the the the the the the the the the the the the the the the the the the the the the the the the the the the the the the the the the the the the the the the the the the the the the the the the the the the the the the the the the the the the the the the the the the the the the the the the the the the the the the the the the the the the the the the the the the the the the the the the the the the the the the the the the the the the the the the the the the the the the the the the the the the the the the the the the the the the the the the the the the the the the the the the the the the the the the the the the the the the the the the the the the the the the the the the the the the the the the the the the the the the the the the the the the the the the the the the the the the the the the the the the the the the the the the the the the the the the the the the the the the the the the the the the the the the the the the the the the the the the the the the the the the the the the the the the the the the the the the the the the the the the the the the the the the the the the the the the the the the the the the the the the the the the the the the the the the the the the the the the the the the the the the the the the the the the the the the the the the the the the the the the the the the the the the the the the the the the the the the the the the the the the the the the the the the the the the the the the the the the the the the the the the the the the the the the the the the the the the the the the the the the the the the the the the the the the the the the the the the the the the the the the the the the the the the the the the the the the the the the the the the the the the the the the the the the the the the the the the the the the the the the the the the the the the the the the the the the the the the the the the the the the the the the the the the the the the the the the the the the the the the the the the the the the the the the the the the the the the the the the the the the the the the the the the the the the the the the the the the the the the the the the the the the the the the the the the the the the the the the the the the the the the the the the the the the the the the the the the the the the the the the the the the the the the the the the the the the the the the the the the the the the the the the the the the the the the the the the the the the the the the the the the the the the the the the the the the the the the the the the the the the the the the the the the the the the the the the the the the the the the the the the the the the the the the the the the the the the the the the the the the the the the the the the the the the the the the the the the the the the the the the the the the the the the the the the the the the the the the the the the the the the the the the the the the the the the the the the the the the the the the the the the the the the the the the the the the the the the the the the the the the the the the the the the the the the the the the the the the the the the the the the the the the the the the the the the the the the the the the the the the the the the the the the the the the the the the the the the the the the the the the the the the the the the the the the the the the the the the the the the the the the the the the the the the the the the the the the the the the the the the the the the the the the the the the the the the the the the the the the the the the the the the the the the the the the the the the the the the the the the the the the the the the the the the the the the the the the the the the the the the the the the the the the the the the the the the the the the the the the the the the the the the the the the the the the the the the the the the the the the the the the the the the the the the the the the the the the the the the the the the the the the the the the the the the the the the the the the the the the the the the the the the the the the the the the the the the the the the the the the the the the the the the the the the the the the the the the the the the the the the the the the the the the the the the the the the the the the the the the the the the the the the the the the the the the the the the the the the the the the the the the the the the the the the the the the the the the the the the the the the the the the the the the the the the the the the the the the the the the the the the the the the the the the the the the the the the the the the the the the the the the the the the the the the the the the the the the the the the the the the the the the the the the the the the the the the the the the the the the the the the the the the the the the the the the the the the the the the the the the the the the the the the the the the the the the the the the the the the the the the the the the the the the the the the the the the the the the the the the the the the the the the the the the the the the the the the the the the the the the the the the the the the the the the the the the the the the the the the the the the the the the the the the the the the the the the the the the the the the the the the the the the the the the the the the the the the the the the the the the the the the the the the the the the the the the the the the the the the the the the the the the the the the the the the the the the the the the the the the the the the the the the the the the the the the the the the the the the the the the the the the the the the the the the the the the the the the the the the the the the the the the the the the the the the the the the the the the the the the the the the the the the the the the the the the the the the the the the the the the the the the the the the the the the the the the the the the the the the the the the the the the the the the the the the the the the the the the the the the the the the the the the the the the the the the the the the the the the the the the the the the the the the the the the the the the the the the the the the the the the the the the the the the the the the the the the the the the the the the the the the the the the the the the the the the the the the the the the the the the the the the the the the the the the the the the the the the the the the the the the the the the the the the the the the the the the the the the the the the the the the the the the the the the the the the the the the the the the the the the the the the the the the the the the the the the the the the the the the the the the the the the the the the the the the the the the the the the the the the the the the the the the the the the the the the the the the the the the the the the the the the the the the the the the the the the the the the the the the the the the the the the the the the the the the the the the the the the the the the the the the the the the the the the the the the the the the the the the the the the the the the the the the the the the the the the the the the the the the the the the the the the the the the the the the the the the the the the the the the the the the the the the the the ']\n",
            "run prediction ...\n",
            "1/1 [==============================] - 0s 93ms/step\n",
            "[0.50106925]\n"
          ]
        }
      ],
      "source": [
        "# predict on a sample text with padding\n",
        "\n",
        "padding = \"the \" * 2000\n",
        "padded_sample_text = np.array([sample_text, padding])\n",
        "print(f'padded_sample_text= {padded_sample_text}')\n",
        "\n",
        "print('run prediction ...')\n",
        "predictions = model.predict(padded_sample_text)\n",
        "print(predictions[0])"
      ]
    },
    {
      "cell_type": "code",
      "execution_count": 23,
      "metadata": {
        "colab": {
          "base_uri": "https://localhost:8080/"
        },
        "id": "mj11vA9ND_j_",
        "outputId": "a3050fca-e590-404d-834a-3dce1b9ce4db"
      },
      "outputs": [
        {
          "data": {
            "text/plain": [
              "array([[0.50106925],\n",
              "       [0.5017001 ]], dtype=float32)"
            ]
          },
          "execution_count": 23,
          "metadata": {},
          "output_type": "execute_result"
        }
      ],
      "source": [
        "predictions"
      ]
    },
    {
      "cell_type": "code",
      "execution_count": 24,
      "metadata": {
        "colab": {
          "base_uri": "https://localhost:8080/"
        },
        "id": "CsN44joPDHV3",
        "outputId": "c3871d48-ea16-432e-8b75-c61aaa01b029"
      },
      "outputs": [
        {
          "data": {
            "text/plain": [
              "array([[0.6227106 ],\n",
              "       [0.62285876]], dtype=float32)"
            ]
          },
          "execution_count": 24,
          "metadata": {},
          "output_type": "execute_result"
        }
      ],
      "source": [
        "sigmoid(predictions)"
      ]
    },
    {
      "cell_type": "markdown",
      "metadata": {
        "id": "sRI776ZcH3Tf"
      },
      "source": [
        "Compile the Keras model to configure the training process:"
      ]
    },
    {
      "cell_type": "code",
      "execution_count": 25,
      "metadata": {
        "id": "kj2xei41YZjC"
      },
      "outputs": [],
      "source": [
        "model.compile(loss=tf.keras.losses.BinaryCrossentropy(from_logits=True),\n",
        "              optimizer=tf.keras.optimizers.Adam(1e-4),\n",
        "              metrics=['accuracy'])"
      ]
    },
    {
      "cell_type": "markdown",
      "metadata": {
        "id": "zIwH3nto596k"
      },
      "source": [
        "## Train the model"
      ]
    },
    {
      "cell_type": "code",
      "execution_count": 26,
      "metadata": {
        "colab": {
          "base_uri": "https://localhost:8080/"
        },
        "id": "hw86wWS4YgR2",
        "outputId": "b521c7bd-4fa9-43b2-964c-1e2879cd27d9"
      },
      "outputs": [
        {
          "name": "stdout",
          "output_type": "stream",
          "text": [
            "Epoch 1/10\n"
          ]
        },
        {
          "name": "stderr",
          "output_type": "stream",
          "text": [
            "/usr/local/lib/python3.10/dist-packages/keras/src/backend.py:5818: UserWarning: \"`binary_crossentropy` received `from_logits=True`, but the `output` argument was produced by a Sigmoid activation and thus does not represent logits. Was this intended?\n",
            "  output, from_logits = _get_logits(\n"
          ]
        },
        {
          "name": "stdout",
          "output_type": "stream",
          "text": [
            "391/391 [==============================] - 50s 104ms/step - loss: 0.6491 - accuracy: 0.6197 - val_loss: 0.4871 - val_accuracy: 0.7870\n",
            "Epoch 2/10\n",
            "391/391 [==============================] - 27s 68ms/step - loss: 0.4038 - accuracy: 0.8272 - val_loss: 0.3659 - val_accuracy: 0.8448\n",
            "Epoch 3/10\n",
            "391/391 [==============================] - 25s 63ms/step - loss: 0.3422 - accuracy: 0.8558 - val_loss: 0.3490 - val_accuracy: 0.8516\n",
            "Epoch 4/10\n",
            "391/391 [==============================] - 26s 65ms/step - loss: 0.3253 - accuracy: 0.8644 - val_loss: 0.3479 - val_accuracy: 0.8516\n",
            "Epoch 5/10\n",
            "391/391 [==============================] - 25s 63ms/step - loss: 0.3157 - accuracy: 0.8679 - val_loss: 0.3341 - val_accuracy: 0.8547\n",
            "Epoch 6/10\n",
            "391/391 [==============================] - 25s 64ms/step - loss: 0.3097 - accuracy: 0.8726 - val_loss: 0.3605 - val_accuracy: 0.8484\n",
            "Epoch 7/10\n",
            "391/391 [==============================] - 25s 63ms/step - loss: 0.3061 - accuracy: 0.8726 - val_loss: 0.3235 - val_accuracy: 0.8641\n",
            "Epoch 8/10\n",
            "391/391 [==============================] - 25s 64ms/step - loss: 0.3045 - accuracy: 0.8726 - val_loss: 0.3210 - val_accuracy: 0.8609\n",
            "Epoch 9/10\n",
            "391/391 [==============================] - 25s 63ms/step - loss: 0.3011 - accuracy: 0.8754 - val_loss: 0.3377 - val_accuracy: 0.8589\n",
            "Epoch 10/10\n",
            "391/391 [==============================] - 25s 63ms/step - loss: 0.2990 - accuracy: 0.8751 - val_loss: 0.3243 - val_accuracy: 0.8615\n",
            "CPU times: user 4min 48s, sys: 10.8 s, total: 4min 59s\n",
            "Wall time: 7min 7s\n"
          ]
        }
      ],
      "source": [
        "%%time\n",
        "history = model.fit(train_dataset, epochs=10,\n",
        "                    validation_data=test_dataset,\n",
        "                    validation_steps=30)"
      ]
    },
    {
      "cell_type": "code",
      "execution_count": null,
      "metadata": {
        "colab": {
          "base_uri": "https://localhost:8080/",
          "height": 696
        },
        "id": "xqS41LJ3ou7J",
        "outputId": "ea39a677-c8c5-484b-db75-aa4013abaa7e"
      },
      "outputs": [
        {
          "data": {
            "image/png": "[encoded data removed]",
            "text/plain": [
              "<Figure size 1600x800 with 2 Axes>"
            ]
          },
          "metadata": {},
          "output_type": "display_data"
        }
      ],
      "source": [
        "plt.figure(figsize=(16, 8))\n",
        "plt.subplot(1, 2, 1)\n",
        "plot_graphs(history, 'accuracy')\n",
        "# plt.ylim(None, 1)\n",
        "plt.subplot(1, 2, 2)\n",
        "plot_graphs(history, 'loss')\n",
        "# plt.ylim(0, None)"
      ]
    },
    {
      "cell_type": "code",
      "execution_count": null,
      "metadata": {
        "colab": {
          "base_uri": "https://localhost:8080/"
        },
        "id": "BaNbXi43YgUT",
        "outputId": "fa6983d2-2fcd-4b77-e4c3-57c86ff60f52"
      },
      "outputs": [
        {
          "name": "stdout",
          "output_type": "stream",
          "text": [
            "391/391 [==============================] - 12s 30ms/step - loss: 0.3181 - accuracy: 0.8623\n",
            "Test Loss: 0.3181302547454834\n",
            "Test Accuracy: 0.8623200058937073\n"
          ]
        }
      ],
      "source": [
        "test_loss, test_acc = model.evaluate(test_dataset)\n",
        "\n",
        "print('Test Loss:', test_loss)\n",
        "print('Test Accuracy:', test_acc)"
      ]
    },
    {
      "cell_type": "code",
      "execution_count": null,
      "metadata": {
        "id": "OZmwt_mzaQJk"
      },
      "outputs": [],
      "source": []
    },
    {
      "cell_type": "markdown",
      "metadata": {
        "id": "DwSE_386uhxD"
      },
      "source": [
        "Run a prediction on a new sentence:\n",
        "\n",
        "If the prediction is >= 0.0, it is positive else it is negative."
      ]
    },
    {
      "cell_type": "code",
      "execution_count": null,
      "metadata": {
        "colab": {
          "base_uri": "https://localhost:8080/"
        },
        "id": "ZXgfQSgRW6zU",
        "outputId": "7fe21564-ddb1-49c1-8eef-ab6109884638"
      },
      "outputs": [
        {
          "name": "stdout",
          "output_type": "stream",
          "text": [
            "1/1 [==============================] - 2s 2s/step\n"
          ]
        }
      ],
      "source": [
        "sample_text = ('The movie was cool. The animation and the graphics '\n",
        "               'were out of this world. I would recommend this movie.')\n",
        "predictions = model.predict(np.array([sample_text]))"
      ]
    },
    {
      "cell_type": "code",
      "execution_count": null,
      "metadata": {
        "colab": {
          "base_uri": "https://localhost:8080/"
        },
        "id": "IMx-dlI39dQo",
        "outputId": "df444615-371e-4f10-b103-65fcf2356231"
      },
      "outputs": [
        {
          "data": {
            "text/plain": [
              "array([[0.6972294]], dtype=float32)"
            ]
          },
          "execution_count": 23,
          "metadata": {},
          "output_type": "execute_result"
        }
      ],
      "source": [
        "predictions"
      ]
    },
    {
      "cell_type": "markdown",
      "metadata": {
        "id": "7g1evcaRpTKm"
      },
      "source": [
        "## Stack two or more LSTM layers\n",
        "\n",
        "Keras recurrent layers have two available modes that are controlled by the `return_sequences` constructor argument:\n",
        "\n",
        "* If `False` it returns only the last output for each input sequence (a 2D tensor of shape (batch_size, output_features)). This is the default, used in the previous model.\n",
        "\n",
        "* If `True` the full sequences of successive outputs for each timestep is returned (a 3D tensor of shape `(batch_size, timesteps, output_features)`).\n",
        "\n",
        "Here is what the flow of information looks like with `return_sequences=True`:\n",
        "\n",
        "![layered_bidirectional](https://github.com/tensorflow/text/blob/master/docs/tutorials/images/layered_bidirectional.png?raw=1)"
      ]
    },
    {
      "cell_type": "markdown",
      "metadata": {
        "id": "wbSClCrG1z8l"
      },
      "source": [
        "The interesting thing about using an `RNN` with `return_sequences=True` is that the output still has 3-axes, like the input, so it can be passed to another RNN layer, like this:"
      ]
    },
    {
      "cell_type": "code",
      "execution_count": null,
      "metadata": {
        "id": "jo1jjO3vn0jo"
      },
      "outputs": [],
      "source": [
        "model = tf.keras.Sequential([\n",
        "    encoder,\n",
        "    tf.keras.layers.Embedding(len(encoder.get_vocabulary()), 64, mask_zero=True),\n",
        "    tf.keras.layers.Bidirectional(tf.keras.layers.LSTM(64,  return_sequences=True)),\n",
        "    tf.keras.layers.Bidirectional(tf.keras.layers.LSTM(32)),\n",
        "    tf.keras.layers.Dense(64, activation='relu'),\n",
        "    tf.keras.layers.Dropout(0.5),\n",
        "    tf.keras.layers.Dense(1, activation='sigmoid')\n",
        "])"
      ]
    },
    {
      "cell_type": "code",
      "execution_count": null,
      "metadata": {
        "id": "hEPV5jVGp-is"
      },
      "outputs": [],
      "source": [
        "model.compile(loss=tf.keras.losses.BinaryCrossentropy(from_logits=True),\n",
        "              optimizer=tf.keras.optimizers.Adam(1e-4),\n",
        "              metrics=['accuracy'])"
      ]
    },
    {
      "cell_type": "code",
      "execution_count": null,
      "metadata": {
        "colab": {
          "base_uri": "https://localhost:8080/"
        },
        "id": "LeSE-YjdqAeN",
        "outputId": "63a0e5e2-bc69-4a61-c041-97d84d2a3251"
      },
      "outputs": [
        {
          "name": "stdout",
          "output_type": "stream",
          "text": [
            "Epoch 1/20\n",
            "391/391 [==============================] - 83s 157ms/step - loss: 0.6115 - accuracy: 0.6528 - val_loss: 0.4195 - val_accuracy: 0.8214\n",
            "Epoch 2/20\n",
            "391/391 [==============================] - 47s 120ms/step - loss: 0.3867 - accuracy: 0.8377 - val_loss: 0.3485 - val_accuracy: 0.8510\n",
            "Epoch 3/20\n",
            "391/391 [==============================] - 48s 122ms/step - loss: 0.3357 - accuracy: 0.8619 - val_loss: 0.3316 - val_accuracy: 0.8667\n",
            "Epoch 4/20\n",
            "391/391 [==============================] - 47s 120ms/step - loss: 0.3165 - accuracy: 0.8702 - val_loss: 0.3174 - val_accuracy: 0.8667\n",
            "Epoch 5/20\n",
            "391/391 [==============================] - 46s 117ms/step - loss: 0.3101 - accuracy: 0.8725 - val_loss: 0.3181 - val_accuracy: 0.8656\n",
            "Epoch 6/20\n",
            "391/391 [==============================] - 46s 118ms/step - loss: 0.3070 - accuracy: 0.8735 - val_loss: 0.3161 - val_accuracy: 0.8625\n",
            "Epoch 7/20\n",
            "391/391 [==============================] - 47s 119ms/step - loss: 0.3031 - accuracy: 0.8749 - val_loss: 0.3187 - val_accuracy: 0.8604\n",
            "Epoch 8/20\n",
            "391/391 [==============================] - 48s 121ms/step - loss: 0.3013 - accuracy: 0.8754 - val_loss: 0.3351 - val_accuracy: 0.8635\n",
            "Epoch 9/20\n",
            "391/391 [==============================] - 47s 120ms/step - loss: 0.2977 - accuracy: 0.8784 - val_loss: 0.3253 - val_accuracy: 0.8641\n",
            "Epoch 10/20\n",
            "391/391 [==============================] - 48s 121ms/step - loss: 0.2966 - accuracy: 0.8785 - val_loss: 0.3189 - val_accuracy: 0.8646\n",
            "Epoch 11/20\n",
            "391/391 [==============================] - 48s 121ms/step - loss: 0.2919 - accuracy: 0.8806 - val_loss: 0.3259 - val_accuracy: 0.8568\n",
            "Epoch 12/20\n",
            "391/391 [==============================] - 48s 122ms/step - loss: 0.2991 - accuracy: 0.8786 - val_loss: 0.3303 - val_accuracy: 0.8573\n",
            "Epoch 13/20\n",
            "391/391 [==============================] - 48s 122ms/step - loss: 0.2947 - accuracy: 0.8784 - val_loss: 0.3327 - val_accuracy: 0.8625\n",
            "Epoch 14/20\n",
            "391/391 [==============================] - 46s 117ms/step - loss: 0.2908 - accuracy: 0.8806 - val_loss: 0.3226 - val_accuracy: 0.8604\n",
            "Epoch 15/20\n",
            "391/391 [==============================] - 47s 120ms/step - loss: 0.2885 - accuracy: 0.8832 - val_loss: 0.3242 - val_accuracy: 0.8594\n",
            "Epoch 16/20\n",
            "391/391 [==============================] - 48s 122ms/step - loss: 0.2862 - accuracy: 0.8838 - val_loss: 0.3269 - val_accuracy: 0.8625\n",
            "Epoch 17/20\n",
            "391/391 [==============================] - 48s 122ms/step - loss: 0.2843 - accuracy: 0.8848 - val_loss: 0.3348 - val_accuracy: 0.8557\n",
            "Epoch 18/20\n",
            "391/391 [==============================] - 48s 122ms/step - loss: 0.2837 - accuracy: 0.8836 - val_loss: 0.3299 - val_accuracy: 0.8542\n",
            "Epoch 19/20\n",
            "391/391 [==============================] - 48s 121ms/step - loss: 0.2811 - accuracy: 0.8863 - val_loss: 0.3313 - val_accuracy: 0.8594\n",
            "Epoch 20/20\n",
            "391/391 [==============================] - 48s 123ms/step - loss: 0.2812 - accuracy: 0.8858 - val_loss: 0.3285 - val_accuracy: 0.8589\n",
            "CPU times: user 17min 55s, sys: 33.3 s, total: 18min 29s\n",
            "Wall time: 21min 32s\n"
          ]
        }
      ],
      "source": [
        "%%time\n",
        "history = model.fit(train_dataset, epochs=20,\n",
        "                    validation_data=test_dataset,\n",
        "                    validation_steps=30)"
      ]
    },
    {
      "cell_type": "code",
      "execution_count": 27,
      "metadata": {
        "colab": {
          "base_uri": "https://localhost:8080/"
        },
        "id": "_LdwilM1qPM3",
        "outputId": "c7a70c09-f4df-4a75-c3a7-feca5677d2d2"
      },
      "outputs": [
        {
          "name": "stdout",
          "output_type": "stream",
          "text": [
            "391/391 [==============================] - 13s 33ms/step - loss: 0.3217 - accuracy: 0.8619\n",
            "Test Loss: 0.32172244787216187\n",
            "Test Accuracy: 0.8619199991226196\n"
          ]
        }
      ],
      "source": [
        "test_loss, test_acc = model.evaluate(test_dataset)\n",
        "\n",
        "print('Test Loss:', test_loss)\n",
        "print('Test Accuracy:', test_acc)"
      ]
    },
    {
      "cell_type": "code",
      "execution_count": null,
      "metadata": {
        "colab": {
          "base_uri": "https://localhost:8080/"
        },
        "id": "ykUKnAoqbycW",
        "outputId": "bd071da7-976f-4d23-f87d-4c4d14025282"
      },
      "outputs": [
        {
          "name": "stdout",
          "output_type": "stream",
          "text": [
            "1/1 [==============================] - 0s 27ms/step\n",
            "[[0.1076759]]\n"
          ]
        }
      ],
      "source": [
        "# predict on a sample text without padding.\n",
        "\n",
        "sample_text = ('The movie was not good. The animation and the graphics '\n",
        "               'were terrible. I would not recommend this movie.')\n",
        "predictions = model.predict(np.array([sample_text]))\n",
        "print(predictions)"
      ]
    },
    {
      "cell_type": "code",
      "execution_count": null,
      "metadata": {
        "colab": {
          "base_uri": "https://localhost:8080/",
          "height": 388
        },
        "id": "_YYub0EDtwCu",
        "outputId": "03fffe10-c233-42f6-e42e-d1ba5d31b218"
      },
      "outputs": [
        {
          "data": {
            "image/png": "[encoded data removed]",
            "text/plain": [
              "<Figure size 1152x432 with 2 Axes>"
            ]
          },
          "metadata": {
            "needs_background": "light"
          },
          "output_type": "display_data"
        }
      ],
      "source": [
        "plt.figure(figsize=(16, 6))\n",
        "plt.subplot(1, 2, 1)\n",
        "plot_graphs(history, 'accuracy')\n",
        "plt.subplot(1, 2, 2)\n",
        "plot_graphs(history, 'loss')"
      ]
    },
    {
      "cell_type": "markdown",
      "metadata": {
        "id": "9xvpE3BaGw_V"
      },
      "source": [
        "Check out other existing recurrent layers such as [GRU layers](https://www.tensorflow.org/api_docs/python/tf/keras/layers/GRU).\n",
        "\n",
        "If you're interested in building custom RNNs, see the [Keras RNN Guide](https://www.tensorflow.org/guide/keras/rnn).\n"
      ]
    },
    {
      "cell_type": "code",
      "execution_count": null,
      "metadata": {},
      "outputs": [],
      "source": [
        "Reference: BUAN 6382.SW1.S24 course by Dr Farid Khafizov at Naveen Jindal School to Management, UTDallas."
      ]
    }
  ],
  "metadata": {
    "accelerator": "GPU",
    "colab": {
      "gpuType": "T4",
      "include_colab_link": true,
      "provenance": []
    },
    "kernelspec": {
      "display_name": "Python 3",
      "name": "python3"
    },
    "language_info": {
      "codemirror_mode": {
        "name": "ipython",
        "version": 3
      },
      "file_extension": ".py",
      "mimetype": "text/x-python",
      "name": "python",
      "nbconvert_exporter": "python",
      "pygments_lexer": "ipython3",
      "version": "3.7.4"
    }
  },
  "nbformat": 4,
  "nbformat_minor": 0
}
