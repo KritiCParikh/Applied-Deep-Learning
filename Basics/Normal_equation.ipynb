{
 "cells": [
  {
   "cell_type": "code",
   "execution_count": 2,
   "id": "7f4d95ee",
   "metadata": {
    "colab": {
     "base_uri": "https://localhost:8080/",
     "height": 52
    },
    "id": "7f4d95ee",
    "outputId": "9aa85282-1cf7-48e8-ca32-a2185c1bb8a7"
   },
   "outputs": [
    {
     "name": "stdout",
     "output_type": "stream",
     "text": [
      "np.__version__ =1.23.5\n",
      "pd.__version__ =1.5.3\n"
     ]
    },
    {
     "data": {
      "text/html": [
       "<style>.container { width:100% !important; }</style>"
      ],
      "text/plain": [
       "<IPython.core.display.HTML object>"
      ]
     },
     "metadata": {},
     "output_type": "display_data"
    }
   ],
   "source": [
    "# 2023.08.04\n",
    "# normal_eq.ipynb\n",
    "\n",
    "import numpy as np\n",
    "print(f'np.__version__ ={np.__version__}')\n",
    "import pandas as pd\n",
    "print(f'pd.__version__ ={pd.__version__}')\n",
    "\n",
    "np.set_printoptions(linewidth=160)\n",
    "\n",
    "from IPython.display import display, HTML\n",
    "display(HTML(\"<style>.container { width:100% !important; }</style>\"))"
   ]
  },
  {
   "cell_type": "code",
   "execution_count": 3,
   "id": "cc65ff56",
   "metadata": {
    "id": "cc65ff56"
   },
   "outputs": [],
   "source": [
    "import matplotlib.pyplot as plt"
   ]
  },
  {
   "cell_type": "markdown",
   "id": "45423d7d",
   "metadata": {
    "id": "45423d7d"
   },
   "source": [
    "Experimental data : $(\\bar{x}_i,y_i)$ , $i=1,2,\\dots,m$, consists of $m$ values. Suppose we have $m=6$ data points.\n",
    "\n",
    "\n",
    "Suppose we identified   $n=2$ feaures $f_1$ and $f_2$ that we  \n",
    "use to compute $y=w_0 +w_1f_1+w_2f_2 = [1,f_1,f_2][w_0,w_1,w_2]^T = [1,f_1,f_2]\\bar{w}^T$.\n",
    "\n",
    "If $\\bar{x}_i=[1,f_{i1}, f_{i2}]$, then $y_i\\approx \\bar{x}_i\\bar{w}^T$\n",
    "\n",
    "Let\n",
    "$\\bf{X}=\n",
    "\\displaystyle\\begin{bmatrix}\n",
    "1,f_{11}, f_{12} \\\\\n",
    "1,f_{21}, f_{22} \\\\\n",
    "1,f_{31}, f_{32} \\\\\n",
    "1,f_{41}, f_{42} \\\\\n",
    "1,f_{51}, f_{52} \\\\\n",
    "1,f_{61}, f_{62} \\\\\n",
    "\\end{bmatrix}$.\n",
    "Then\n",
    "$\\bar{y}=\\displaystyle\\begin{bmatrix}\n",
    "y_1\\\\\n",
    "y_2\\\\\n",
    "y_3\\\\\n",
    "y_4\\\\\n",
    "y_5\\\\\n",
    "y_6\\\\\n",
    "\\end{bmatrix} \\approx\n",
    "\\begin{bmatrix}\n",
    "1,f_{11}, f_{12} \\\\\n",
    "1,f_{21}, f_{22} \\\\\n",
    "1,f_{31}, f_{32} \\\\\n",
    "1,f_{41}, f_{42} \\\\\n",
    "1,f_{51}, f_{52} \\\\\n",
    "1,f_{61}, f_{62} \\\\\n",
    "\\end{bmatrix}\n",
    "\\begin{bmatrix}\n",
    "w_0\\\\\n",
    "w_1\\\\\n",
    "w_2\\\\\n",
    "\\end{bmatrix} =\n",
    "{\\bf{X}}\\bar{w}$.\n",
    "\n",
    "\n"
   ]
  },
  {
   "cell_type": "code",
   "execution_count": 4,
   "id": "3327e980",
   "metadata": {
    "id": "3327e980"
   },
   "outputs": [],
   "source": [
    "#Problem statements"
   ]
  },
  {
   "cell_type": "markdown",
   "id": "2fa00e7a",
   "metadata": {
    "id": "2fa00e7a"
   },
   "source": [
    "### [Normal Equation Solution](http://mlwiki.org/index.php/Normal_Equation)\n",
    "\n",
    "\n",
    "We want to find\n",
    "$\\bar{w}^*=\\displaystyle\\begin{bmatrix} w_0^* \\\\ w_1^*\\\\ w_2^*\\end{bmatrix}$\n",
    "such that\n",
    "$\\bar{y}^*:={\\bf{X}}\\bar{w}^*$ is as close to $\\bar{y}$ as possible.\n",
    "\n",
    "It follows that $\\bar{y}^*$ must be a projection of $\\bar{y}$ onto the hyperplane formed by a\n",
    "span of column vectors of $\\bf{X}$.\n",
    "\n",
    "Then $(\\bar{y}^* - \\bar{y}) = ({\\bf{X}}\\bar{w}^* -\\bar{y}) $ must be perpendicular to each column vector of $\\bf{X}$, hence\n",
    "\n",
    "$$\\begin{align}\n",
    "&{\\bf{X}}^T({\\bf{X}}\\bar{w}^*   - \\bar{y} ) = 0 \\\\\n",
    "&{\\bf{X}}^T{\\bf{X}}\\bar{w}^*   =   {\\bf{X}}^T \\bar{y}  \\\\\n",
    "&\\bar{w}^*   =  ({\\bf{X}}^T{\\bf{X}})^{-1} {\\bf{X}}^T \\bar{y}  \\\\\n",
    "\\end{align}\n",
    "$$\n",
    "\n"
   ]
  },
  {
   "cell_type": "markdown",
   "id": "NBEdWRxqxUl9",
   "metadata": {
    "id": "NBEdWRxqxUl9"
   },
   "source": [
    "# What is the Normal Equation ?\n",
    "\n",
    "The normal equation is a method used to solve for the parameters of a linear regression model. It provides an analytical solution to find the parameter vector that minimizes the cost function.Given a matrix \\( X \\) of feature values (with each row representing an instance and each column a feature) and a vector \\( y \\) of target values, the linear regression model predicts the target as \\( \\hat{y} = X\\theta \\), where \\( \\theta \\) is the parameter vector. For linear regression, the cost function \\( J(\\theta) \\) (mean squared error) that needs to be minimized is:\n",
    "\n",
    "This equation gives the optimal values of \\( \\theta \\) without the need for any iterative optimization algorithm, like gradient descent. However, it's important to note that the computational complexity of calculating the inverse can be high, especially when \\( X \\) has a large number of features. Thus, for very large datasets or for datasets where \\( X^T X \\) is non-invertible (singular/degenerate), the normal equation may not be the best method, and other optimization methods like gradient descent might be preferred.\n",
    "\n",
    "\n",
    "\n",
    "\n"
   ]
  },
  {
   "cell_type": "code",
   "execution_count": 5,
   "id": "hwFcY_PZxSRB",
   "metadata": {
    "colab": {
     "base_uri": "https://localhost:8080/"
    },
    "id": "hwFcY_PZxSRB",
    "outputId": "ebc55637-9c3a-42c5-cd09-43840bc39c29"
   },
   "outputs": [
    {
     "name": "stdout",
     "output_type": "stream",
     "text": [
      "\n",
      "The normal equation is a method used to solve for the parameters of a linear regression model.\n",
      "It provides an analytical solution to find the parameter vector that minimizes the cost function.\n",
      "Given a matrix $ X $ of feature values (with each row representing an instance and each column a feature) and a vector $ y $ of target values,\n",
      "the linear regression model predicts the target as $ \\hat{y} = X\\theta $, where $ \\theta $ is the parameter vector.\n",
      "For linear regression, the cost function $ J(\\theta) $ (mean squared error) that needs to be minimized is:\n",
      "\n",
      "This equation gives the optimal values of $ \\theta $ without the need for any iterative optimization algorithm, like gradient descent.\n",
      "However, it's important to note that the computational complexity of calculating the inverse can be high, especially when $ X $ has a large number of features.\n",
      "Thus, for very large datasets or for datasets where $ X^T X $ is non-invertible (singular/degenerate),\n",
      "the normal equation may not be the best method, and other optimization methods like gradient descent might be preferred.\n",
      "\n"
     ]
    }
   ],
   "source": [
    "t = r'''\n",
    "The normal equation is a method used to solve for the parameters of a linear regression model.\n",
    "It provides an analytical solution to find the parameter vector that minimizes the cost function.\n",
    "Given a matrix \\( X \\) of feature values (with each row representing an instance and each column a feature) and a vector \\( y \\) of target values,\n",
    "the linear regression model predicts the target as \\( \\hat{y} = X\\theta \\), where \\( \\theta \\) is the parameter vector.\n",
    "For linear regression, the cost function \\( J(\\theta) \\) (mean squared error) that needs to be minimized is:\n",
    "\n",
    "This equation gives the optimal values of \\( \\theta \\) without the need for any iterative optimization algorithm, like gradient descent.\n",
    "However, it's important to note that the computational complexity of calculating the inverse can be high, especially when \\( X \\) has a large number of features.\n",
    "Thus, for very large datasets or for datasets where \\( X^T X \\) is non-invertible (singular/degenerate),\n",
    "the normal equation may not be the best method, and other optimization methods like gradient descent might be preferred.\n",
    "'''\n",
    "\n",
    "def replace_latex_delimiters(text):\n",
    "    \"\"\"\n",
    "    Replace LaTeX inline math delimiters \\( and \\) with $.\n",
    "\n",
    "    Parameters:\n",
    "    - text (str): The input text with LaTeX delimiters.\n",
    "\n",
    "    Returns:\n",
    "    - str: The updated text with replaced delimiters.\n",
    "    \"\"\"\n",
    "    text = text.replace(r\"\\(\", \"$\")\n",
    "    text = text.replace(r\"\\)\", \"$\")\n",
    "    return text\n",
    "\n",
    "t2=replace_latex_delimiters(t)\n",
    "print(t2)"
   ]
  },
  {
   "cell_type": "markdown",
   "id": "4awOjdpjyYGm",
   "metadata": {
    "id": "4awOjdpjyYGm"
   },
   "source": []
  },
  {
   "cell_type": "markdown",
   "id": "YArdht0OyX9P",
   "metadata": {
    "id": "YArdht0OyX9P"
   },
   "source": [
    "The normal equation is a method used to solve for the parameters of a linear regression model.\n",
    "It provides an analytical solution to find the parameter vector that minimizes the cost function.\n",
    "Given a matrix $ X $ of feature values (with each row representing an instance and each column a feature) and a vector $ y $ of target values,\n",
    "the linear regression model predicts the target as $ \\hat{y} = X\\omega $, where $ \\omega $ is the parameter vector.\n",
    "For linear regression, the cost function $ L(\\omega) $  that needs to be minimized is root mean squared error (RMSE).\n",
    "\n",
    "This equation gives the optimal values of $ \\omega $ without the need for any iterative optimization algorithm, like gradient descent.\n",
    "However, it's important to note that the computational complexity of calculating the inverse can be high, especially when matrix $ X $ has a large number of features (columns) or rows.\n",
    "\n",
    "Thus, for very large datasets or for datasets where $ X^T X $ is non-invertible (singular/degenerate),\n",
    "the normal equation may not be the best method, and other optimization methods like gradient descent might be preferred."
   ]
  },
  {
   "cell_type": "markdown",
   "id": "AHnrl0C6yXel",
   "metadata": {
    "id": "AHnrl0C6yXel"
   },
   "source": []
  },
  {
   "cell_type": "code",
   "execution_count": 6,
   "id": "9f5cb231",
   "metadata": {
    "id": "9f5cb231"
   },
   "outputs": [],
   "source": [
    "def normal_equation(X,y):\n",
    "  XtX_inv = np.linalg.inv(np.matmul((X.T),X))\n",
    "  tmp = np.matmul(XtX_inv, X.T)\n",
    "  w_hat = np.matmul(tmp, y)\n",
    "  return w_hat"
   ]
  },
  {
   "cell_type": "code",
   "execution_count": 24,
   "id": "408098ad",
   "metadata": {
    "id": "408098ad"
   },
   "outputs": [],
   "source": [
    "# Examples\n",
    "def generate_data(w=[4,2] , N=10, addnoise=True, noise_scale=1):\n",
    "  ''' generate N values (x,y) for the regression model y = a + bx\n",
    "      input parameters w=[a,b], ie   a=w[0] and b=w[1] '''\n",
    "  # parameters\n",
    "\n",
    "  # Fixing random state for reproducibility\n",
    "  # np.random.seed(9)\n",
    "\n",
    "  # domain [2,10]\n",
    "  x = 2 + (10-2)*np.random.random_sample(size=N)\n",
    "  x = np.sort(x)\n",
    "\n",
    "  # values\n",
    "  a, b = w[0], w[1]\n",
    "  y = a + b*x\n",
    "  if addnoise:\n",
    "    noise = noise_scale*np.random.random_sample(size=N)\n",
    "    noise = - np.abs(noise)\n",
    "    y = y + noise\n",
    "\n",
    "  return x, y\n"
   ]
  },
  {
   "cell_type": "code",
   "execution_count": 25,
   "id": "4cf57722",
   "metadata": {
    "colab": {
     "base_uri": "https://localhost:8080/"
    },
    "id": "4cf57722",
    "outputId": "d8098ed3-91e4-4a59-cca6-8f4dc4323673"
   },
   "outputs": [
    {
     "name": "stdout",
     "output_type": "stream",
     "text": [
      "x=[2.1829356  3.59706663 4.13419502 4.74244183 5.0009821  5.55289836 5.87598764 7.58189108 8.40925145 9.27580967]\n",
      "y=[ 7.36959198 10.36544061 11.83987811 13.05160424 13.53734995 13.64762548 14.92013795 17.99598581 19.8298297  21.69152572]\n",
      "X.shape=(10, 2)     y.shape=(10,)\n",
      "w_hat=[3.3796286  1.95999828]\n"
     ]
    }
   ],
   "source": [
    "w_orig=[4,2]\n",
    "# x,y=generate_data(w=w_orig , N=10, addnoise=True, noise_scale=2)\n",
    "x,y=generate_data(w=w_orig , N=10, addnoise=True, noise_scale=2)\n",
    "\n",
    "print(f'x={x}')\n",
    "print(f'y={y}')\n",
    "\n",
    "# to use out normal_equation() function we must add a column of 1s to x:\n",
    "# X = [1,x]\n",
    "X = np.array([np.ones(len(x)), x]).T\n",
    "print(f'X.shape={X.shape}     y.shape={y.shape}')\n",
    "w_hat = normal_equation(X,y)\n",
    "print(f'w_hat={w_hat}')"
   ]
  },
  {
   "cell_type": "code",
   "execution_count": 26,
   "id": "e0b07ac1",
   "metadata": {
    "colab": {
     "base_uri": "https://localhost:8080/",
     "height": 556
    },
    "id": "e0b07ac1",
    "outputId": "fcba9f69-f727-4d45-8d97-8b35ffedb946"
   },
   "outputs": [
    {
     "data": {
      "image/png": "[encoded data removed]",
      "text/plain": [
       "<Figure size 600x600 with 1 Axes>"
      ]
     },
     "metadata": {},
     "output_type": "display_data"
    }
   ],
   "source": [
    "plt.rcParams[\"figure.figsize\"] = (6,6)\n",
    "# plt.scatter(x, y, s=100*noise, marker='o', c='red', alpha=0.5)\n",
    "plt.scatter(x, y, s=40, marker='s', c='red', alpha=0.5, label='experimental (noisy) data')\n",
    "\n",
    "a,b = w_orig[0], w_orig[1]\n",
    "plt.plot(x, (a+b*x), c='blue',label='ground truth (real dependency line)')\n",
    "\n",
    "ah,bh = w_hat[0], w_hat[1]\n",
    "plt.plot(x, (ah+bh*x), 'g--', label='Normal Equation prediction')\n",
    "\n",
    "plt.legend()\n",
    "plt.xlabel('x', size=20)\n",
    "plt.ylabel('y', size=20)\n",
    "plt.grid()"
   ]
  },
  {
   "cell_type": "code",
   "execution_count": null,
   "id": "8ae94c7c",
   "metadata": {
    "id": "8ae94c7c",
    "outputId": "8d26d892-199f-471d-b567-1444b4d42cd1"
   },
   "outputs": [
    {
     "data": {
      "text/plain": [
       "0.5516235061000139"
      ]
     },
     "execution_count": 62,
     "metadata": {},
     "output_type": "execute_result"
    }
   ],
   "source": [
    "# Loss Function: RMSE\n",
    "# np.mean((y-(ah+bh*x))**2)**(0.5)\n",
    "y_hat = np.matmul(X,w_hat)\n",
    "np.mean((y-y_hat)**2)**(0.5)"
   ]
  },
  {
   "cell_type": "markdown",
   "id": "3ba47280",
   "metadata": {
    "id": "3ba47280"
   },
   "source": [
    "### [Boston housing problem](https://www.kaggle.com/code/shreayan98c/boston-house-price-prediction)\n",
    "\n",
    "* More on Boston housing problem: https://www.geeksforgeeks.org/ml-boston-housing-kaggle-challenge-with-linear-regression/\n",
    "\n",
    "* data can be downloaded from here https://github.com/selva86/datasets/blob/master/BostonHousing.csv"
   ]
  },
  {
   "cell_type": "code",
   "execution_count": 27,
   "id": "37cae6e9",
   "metadata": {
    "colab": {
     "base_uri": "https://localhost:8080/"
    },
    "id": "37cae6e9",
    "outputId": "5d4e3a14-a6e8-4bb3-f4e3-619e0dbb46b4"
   },
   "outputs": [
    {
     "name": "stdout",
     "output_type": "stream",
     "text": [
      "d.shape=(506, 14)\n",
      "      crim    zn  indus  chas    nox     rm   age     dis  rad  tax  ptratio  \\\n",
      "0  0.00632  18.0   2.31     0  0.538  6.575  65.2  4.0900    1  296     15.3   \n",
      "1  0.02731   0.0   7.07     0  0.469  6.421  78.9  4.9671    2  242     17.8   \n",
      "\n",
      "       b  lstat  medv  \n",
      "0  396.9   4.98  24.0  \n",
      "1  396.9   9.14  21.6  \n"
     ]
    }
   ],
   "source": [
    "# url = \"https://github.com/selva86/datasets/blob/master/BostonHousing.csv\"\n",
    "url =\"https://raw.githubusercontent.com/selva86/datasets/master/BostonHousing.csv\"\n",
    "# d=pd.read_csv(url, nrows=30)\n",
    "d=pd.read_csv(url)\n",
    "\n",
    "print(f'd.shape={d.shape}')\n",
    "print(d.head(n=2))"
   ]
  },
  {
   "cell_type": "code",
   "execution_count": 28,
   "id": "56df120f",
   "metadata": {
    "colab": {
     "base_uri": "https://localhost:8080/",
     "height": 300
    },
    "id": "56df120f",
    "outputId": "dd4a0bb1-4f9d-4deb-8bcd-e95b32b669c2"
   },
   "outputs": [
    {
     "data": {
      "text/html": [
       "\n",
       "  <div id=\"df-55acf774-dcb6-4734-b0d3-61b8558e33fd\" class=\"colab-df-container\">\n",
       "    <div>\n",
       "<style scoped>\n",
       "    .dataframe tbody tr th:only-of-type {\n",
       "        vertical-align: middle;\n",
       "    }\n",
       "\n",
       "    .dataframe tbody tr th {\n",
       "        vertical-align: top;\n",
       "    }\n",
       "\n",
       "    .dataframe thead th {\n",
       "        text-align: right;\n",
       "    }\n",
       "</style>\n",
       "<table border=\"1\" class=\"dataframe\">\n",
       "  <thead>\n",
       "    <tr style=\"text-align: right;\">\n",
       "      <th></th>\n",
       "      <th>crim</th>\n",
       "      <th>zn</th>\n",
       "      <th>indus</th>\n",
       "      <th>chas</th>\n",
       "      <th>nox</th>\n",
       "      <th>rm</th>\n",
       "      <th>age</th>\n",
       "      <th>dis</th>\n",
       "      <th>rad</th>\n",
       "      <th>tax</th>\n",
       "      <th>ptratio</th>\n",
       "      <th>b</th>\n",
       "      <th>lstat</th>\n",
       "      <th>medv</th>\n",
       "    </tr>\n",
       "  </thead>\n",
       "  <tbody>\n",
       "    <tr>\n",
       "      <th>count</th>\n",
       "      <td>506.000000</td>\n",
       "      <td>506.000000</td>\n",
       "      <td>506.000000</td>\n",
       "      <td>506.000000</td>\n",
       "      <td>506.000000</td>\n",
       "      <td>506.000000</td>\n",
       "      <td>506.000000</td>\n",
       "      <td>506.000000</td>\n",
       "      <td>506.000000</td>\n",
       "      <td>506.000000</td>\n",
       "      <td>506.000000</td>\n",
       "      <td>506.000000</td>\n",
       "      <td>506.000000</td>\n",
       "      <td>506.000000</td>\n",
       "    </tr>\n",
       "    <tr>\n",
       "      <th>mean</th>\n",
       "      <td>3.613524</td>\n",
       "      <td>11.363636</td>\n",
       "      <td>11.136779</td>\n",
       "      <td>0.069170</td>\n",
       "      <td>0.554695</td>\n",
       "      <td>6.284634</td>\n",
       "      <td>68.574901</td>\n",
       "      <td>3.795043</td>\n",
       "      <td>9.549407</td>\n",
       "      <td>408.237154</td>\n",
       "      <td>18.455534</td>\n",
       "      <td>356.674032</td>\n",
       "      <td>12.653063</td>\n",
       "      <td>22.532806</td>\n",
       "    </tr>\n",
       "    <tr>\n",
       "      <th>std</th>\n",
       "      <td>8.601545</td>\n",
       "      <td>23.322453</td>\n",
       "      <td>6.860353</td>\n",
       "      <td>0.253994</td>\n",
       "      <td>0.115878</td>\n",
       "      <td>0.702617</td>\n",
       "      <td>28.148861</td>\n",
       "      <td>2.105710</td>\n",
       "      <td>8.707259</td>\n",
       "      <td>168.537116</td>\n",
       "      <td>2.164946</td>\n",
       "      <td>91.294864</td>\n",
       "      <td>7.141062</td>\n",
       "      <td>9.197104</td>\n",
       "    </tr>\n",
       "    <tr>\n",
       "      <th>min</th>\n",
       "      <td>0.006320</td>\n",
       "      <td>0.000000</td>\n",
       "      <td>0.460000</td>\n",
       "      <td>0.000000</td>\n",
       "      <td>0.385000</td>\n",
       "      <td>3.561000</td>\n",
       "      <td>2.900000</td>\n",
       "      <td>1.129600</td>\n",
       "      <td>1.000000</td>\n",
       "      <td>187.000000</td>\n",
       "      <td>12.600000</td>\n",
       "      <td>0.320000</td>\n",
       "      <td>1.730000</td>\n",
       "      <td>5.000000</td>\n",
       "    </tr>\n",
       "    <tr>\n",
       "      <th>25%</th>\n",
       "      <td>0.082045</td>\n",
       "      <td>0.000000</td>\n",
       "      <td>5.190000</td>\n",
       "      <td>0.000000</td>\n",
       "      <td>0.449000</td>\n",
       "      <td>5.885500</td>\n",
       "      <td>45.025000</td>\n",
       "      <td>2.100175</td>\n",
       "      <td>4.000000</td>\n",
       "      <td>279.000000</td>\n",
       "      <td>17.400000</td>\n",
       "      <td>375.377500</td>\n",
       "      <td>6.950000</td>\n",
       "      <td>17.025000</td>\n",
       "    </tr>\n",
       "    <tr>\n",
       "      <th>50%</th>\n",
       "      <td>0.256510</td>\n",
       "      <td>0.000000</td>\n",
       "      <td>9.690000</td>\n",
       "      <td>0.000000</td>\n",
       "      <td>0.538000</td>\n",
       "      <td>6.208500</td>\n",
       "      <td>77.500000</td>\n",
       "      <td>3.207450</td>\n",
       "      <td>5.000000</td>\n",
       "      <td>330.000000</td>\n",
       "      <td>19.050000</td>\n",
       "      <td>391.440000</td>\n",
       "      <td>11.360000</td>\n",
       "      <td>21.200000</td>\n",
       "    </tr>\n",
       "    <tr>\n",
       "      <th>75%</th>\n",
       "      <td>3.677083</td>\n",
       "      <td>12.500000</td>\n",
       "      <td>18.100000</td>\n",
       "      <td>0.000000</td>\n",
       "      <td>0.624000</td>\n",
       "      <td>6.623500</td>\n",
       "      <td>94.075000</td>\n",
       "      <td>5.188425</td>\n",
       "      <td>24.000000</td>\n",
       "      <td>666.000000</td>\n",
       "      <td>20.200000</td>\n",
       "      <td>396.225000</td>\n",
       "      <td>16.955000</td>\n",
       "      <td>25.000000</td>\n",
       "    </tr>\n",
       "    <tr>\n",
       "      <th>max</th>\n",
       "      <td>88.976200</td>\n",
       "      <td>100.000000</td>\n",
       "      <td>27.740000</td>\n",
       "      <td>1.000000</td>\n",
       "      <td>0.871000</td>\n",
       "      <td>8.780000</td>\n",
       "      <td>100.000000</td>\n",
       "      <td>12.126500</td>\n",
       "      <td>24.000000</td>\n",
       "      <td>711.000000</td>\n",
       "      <td>22.000000</td>\n",
       "      <td>396.900000</td>\n",
       "      <td>37.970000</td>\n",
       "      <td>50.000000</td>\n",
       "    </tr>\n",
       "  </tbody>\n",
       "</table>\n",
       "</div>\n",
       "    <div class=\"colab-df-buttons\">\n",
       "\n",
       "  <div class=\"colab-df-container\">\n",
       "    <button class=\"colab-df-convert\" onclick=\"convertToInteractive('df-55acf774-dcb6-4734-b0d3-61b8558e33fd')\"\n",
       "            title=\"Convert this dataframe to an interactive table.\"\n",
       "            style=\"display:none;\">\n",
       "\n",
       "  <svg xmlns=\"http://www.w3.org/2000/svg\" height=\"24px\" viewBox=\"0 -960 960 960\">\n",
       "    <path d=\"M120-120v-720h720v720H120Zm60-500h600v-160H180v160Zm220 220h160v-160H400v160Zm0 220h160v-160H400v160ZM180-400h160v-160H180v160Zm440 0h160v-160H620v160ZM180-180h160v-160H180v160Zm440 0h160v-160H620v160Z\"/>\n",
       "  </svg>\n",
       "    </button>\n",
       "\n",
       "  <style>\n",
       "    .colab-df-container {\n",
       "      display:flex;\n",
       "      gap: 12px;\n",
       "    }\n",
       "\n",
       "    .colab-df-convert {\n",
       "      background-color: #E8F0FE;\n",
       "      border: none;\n",
       "      border-radius: 50%;\n",
       "      cursor: pointer;\n",
       "      display: none;\n",
       "      fill: #1967D2;\n",
       "      height: 32px;\n",
       "      padding: 0 0 0 0;\n",
       "      width: 32px;\n",
       "    }\n",
       "\n",
       "    .colab-df-convert:hover {\n",
       "      background-color: #E2EBFA;\n",
       "      box-shadow: 0px 1px 2px rgba(60, 64, 67, 0.3), 0px 1px 3px 1px rgba(60, 64, 67, 0.15);\n",
       "      fill: #174EA6;\n",
       "    }\n",
       "\n",
       "    .colab-df-buttons div {\n",
       "      margin-bottom: 4px;\n",
       "    }\n",
       "\n",
       "    [theme=dark] .colab-df-convert {\n",
       "      background-color: #3B4455;\n",
       "      fill: #D2E3FC;\n",
       "    }\n",
       "\n",
       "    [theme=dark] .colab-df-convert:hover {\n",
       "      background-color: #434B5C;\n",
       "      box-shadow: 0px 1px 3px 1px rgba(0, 0, 0, 0.15);\n",
       "      filter: drop-shadow(0px 1px 2px rgba(0, 0, 0, 0.3));\n",
       "      fill: #FFFFFF;\n",
       "    }\n",
       "  </style>\n",
       "\n",
       "    <script>\n",
       "      const buttonEl =\n",
       "        document.querySelector('#df-55acf774-dcb6-4734-b0d3-61b8558e33fd button.colab-df-convert');\n",
       "      buttonEl.style.display =\n",
       "        google.colab.kernel.accessAllowed ? 'block' : 'none';\n",
       "\n",
       "      async function convertToInteractive(key) {\n",
       "        const element = document.querySelector('#df-55acf774-dcb6-4734-b0d3-61b8558e33fd');\n",
       "        const dataTable =\n",
       "          await google.colab.kernel.invokeFunction('convertToInteractive',\n",
       "                                                    [key], {});\n",
       "        if (!dataTable) return;\n",
       "\n",
       "        const docLinkHtml = 'Like what you see? Visit the ' +\n",
       "          '<a target=\"_blank\" href=https://colab.research.google.com/notebooks/data_table.ipynb>data table notebook</a>'\n",
       "          + ' to learn more about interactive tables.';\n",
       "        element.innerHTML = '';\n",
       "        dataTable['output_type'] = 'display_data';\n",
       "        await google.colab.output.renderOutput(dataTable, element);\n",
       "        const docLink = document.createElement('div');\n",
       "        docLink.innerHTML = docLinkHtml;\n",
       "        element.appendChild(docLink);\n",
       "      }\n",
       "    </script>\n",
       "  </div>\n",
       "\n",
       "\n",
       "<div id=\"df-4a168a38-9b87-43b4-9fcc-c6f84bf3386e\">\n",
       "  <button class=\"colab-df-quickchart\" onclick=\"quickchart('df-4a168a38-9b87-43b4-9fcc-c6f84bf3386e')\"\n",
       "            title=\"Suggest charts\"\n",
       "            style=\"display:none;\">\n",
       "\n",
       "<svg xmlns=\"http://www.w3.org/2000/svg\" height=\"24px\"viewBox=\"0 0 24 24\"\n",
       "     width=\"24px\">\n",
       "    <g>\n",
       "        <path d=\"M19 3H5c-1.1 0-2 .9-2 2v14c0 1.1.9 2 2 2h14c1.1 0 2-.9 2-2V5c0-1.1-.9-2-2-2zM9 17H7v-7h2v7zm4 0h-2V7h2v10zm4 0h-2v-4h2v4z\"/>\n",
       "    </g>\n",
       "</svg>\n",
       "  </button>\n",
       "\n",
       "<style>\n",
       "  .colab-df-quickchart {\n",
       "      --bg-color: #E8F0FE;\n",
       "      --fill-color: #1967D2;\n",
       "      --hover-bg-color: #E2EBFA;\n",
       "      --hover-fill-color: #174EA6;\n",
       "      --disabled-fill-color: #AAA;\n",
       "      --disabled-bg-color: #DDD;\n",
       "  }\n",
       "\n",
       "  [theme=dark] .colab-df-quickchart {\n",
       "      --bg-color: #3B4455;\n",
       "      --fill-color: #D2E3FC;\n",
       "      --hover-bg-color: #434B5C;\n",
       "      --hover-fill-color: #FFFFFF;\n",
       "      --disabled-bg-color: #3B4455;\n",
       "      --disabled-fill-color: #666;\n",
       "  }\n",
       "\n",
       "  .colab-df-quickchart {\n",
       "    background-color: var(--bg-color);\n",
       "    border: none;\n",
       "    border-radius: 50%;\n",
       "    cursor: pointer;\n",
       "    display: none;\n",
       "    fill: var(--fill-color);\n",
       "    height: 32px;\n",
       "    padding: 0;\n",
       "    width: 32px;\n",
       "  }\n",
       "\n",
       "  .colab-df-quickchart:hover {\n",
       "    background-color: var(--hover-bg-color);\n",
       "    box-shadow: 0 1px 2px rgba(60, 64, 67, 0.3), 0 1px 3px 1px rgba(60, 64, 67, 0.15);\n",
       "    fill: var(--button-hover-fill-color);\n",
       "  }\n",
       "\n",
       "  .colab-df-quickchart-complete:disabled,\n",
       "  .colab-df-quickchart-complete:disabled:hover {\n",
       "    background-color: var(--disabled-bg-color);\n",
       "    fill: var(--disabled-fill-color);\n",
       "    box-shadow: none;\n",
       "  }\n",
       "\n",
       "  .colab-df-spinner {\n",
       "    border: 2px solid var(--fill-color);\n",
       "    border-color: transparent;\n",
       "    border-bottom-color: var(--fill-color);\n",
       "    animation:\n",
       "      spin 1s steps(1) infinite;\n",
       "  }\n",
       "\n",
       "  @keyframes spin {\n",
       "    0% {\n",
       "      border-color: transparent;\n",
       "      border-bottom-color: var(--fill-color);\n",
       "      border-left-color: var(--fill-color);\n",
       "    }\n",
       "    20% {\n",
       "      border-color: transparent;\n",
       "      border-left-color: var(--fill-color);\n",
       "      border-top-color: var(--fill-color);\n",
       "    }\n",
       "    30% {\n",
       "      border-color: transparent;\n",
       "      border-left-color: var(--fill-color);\n",
       "      border-top-color: var(--fill-color);\n",
       "      border-right-color: var(--fill-color);\n",
       "    }\n",
       "    40% {\n",
       "      border-color: transparent;\n",
       "      border-right-color: var(--fill-color);\n",
       "      border-top-color: var(--fill-color);\n",
       "    }\n",
       "    60% {\n",
       "      border-color: transparent;\n",
       "      border-right-color: var(--fill-color);\n",
       "    }\n",
       "    80% {\n",
       "      border-color: transparent;\n",
       "      border-right-color: var(--fill-color);\n",
       "      border-bottom-color: var(--fill-color);\n",
       "    }\n",
       "    90% {\n",
       "      border-color: transparent;\n",
       "      border-bottom-color: var(--fill-color);\n",
       "    }\n",
       "  }\n",
       "</style>\n",
       "\n",
       "  <script>\n",
       "    async function quickchart(key) {\n",
       "      const quickchartButtonEl =\n",
       "        document.querySelector('#' + key + ' button');\n",
       "      quickchartButtonEl.disabled = true;  // To prevent multiple clicks.\n",
       "      quickchartButtonEl.classList.add('colab-df-spinner');\n",
       "      try {\n",
       "        const charts = await google.colab.kernel.invokeFunction(\n",
       "            'suggestCharts', [key], {});\n",
       "      } catch (error) {\n",
       "        console.error('Error during call to suggestCharts:', error);\n",
       "      }\n",
       "      quickchartButtonEl.classList.remove('colab-df-spinner');\n",
       "      quickchartButtonEl.classList.add('colab-df-quickchart-complete');\n",
       "    }\n",
       "    (() => {\n",
       "      let quickchartButtonEl =\n",
       "        document.querySelector('#df-4a168a38-9b87-43b4-9fcc-c6f84bf3386e button');\n",
       "      quickchartButtonEl.style.display =\n",
       "        google.colab.kernel.accessAllowed ? 'block' : 'none';\n",
       "    })();\n",
       "  </script>\n",
       "</div>\n",
       "\n",
       "    </div>\n",
       "  </div>\n"
      ],
      "text/plain": [
       "             crim          zn       indus        chas         nox          rm  \\\n",
       "count  506.000000  506.000000  506.000000  506.000000  506.000000  506.000000   \n",
       "mean     3.613524   11.363636   11.136779    0.069170    0.554695    6.284634   \n",
       "std      8.601545   23.322453    6.860353    0.253994    0.115878    0.702617   \n",
       "min      0.006320    0.000000    0.460000    0.000000    0.385000    3.561000   \n",
       "25%      0.082045    0.000000    5.190000    0.000000    0.449000    5.885500   \n",
       "50%      0.256510    0.000000    9.690000    0.000000    0.538000    6.208500   \n",
       "75%      3.677083   12.500000   18.100000    0.000000    0.624000    6.623500   \n",
       "max     88.976200  100.000000   27.740000    1.000000    0.871000    8.780000   \n",
       "\n",
       "              age         dis         rad         tax     ptratio           b  \\\n",
       "count  506.000000  506.000000  506.000000  506.000000  506.000000  506.000000   \n",
       "mean    68.574901    3.795043    9.549407  408.237154   18.455534  356.674032   \n",
       "std     28.148861    2.105710    8.707259  168.537116    2.164946   91.294864   \n",
       "min      2.900000    1.129600    1.000000  187.000000   12.600000    0.320000   \n",
       "25%     45.025000    2.100175    4.000000  279.000000   17.400000  375.377500   \n",
       "50%     77.500000    3.207450    5.000000  330.000000   19.050000  391.440000   \n",
       "75%     94.075000    5.188425   24.000000  666.000000   20.200000  396.225000   \n",
       "max    100.000000   12.126500   24.000000  711.000000   22.000000  396.900000   \n",
       "\n",
       "            lstat        medv  \n",
       "count  506.000000  506.000000  \n",
       "mean    12.653063   22.532806  \n",
       "std      7.141062    9.197104  \n",
       "min      1.730000    5.000000  \n",
       "25%      6.950000   17.025000  \n",
       "50%     11.360000   21.200000  \n",
       "75%     16.955000   25.000000  \n",
       "max     37.970000   50.000000  "
      ]
     },
     "execution_count": 28,
     "metadata": {},
     "output_type": "execute_result"
    }
   ],
   "source": [
    "d.describe()"
   ]
  },
  {
   "cell_type": "code",
   "execution_count": 29,
   "id": "ae9bb175",
   "metadata": {
    "colab": {
     "base_uri": "https://localhost:8080/"
    },
    "id": "ae9bb175",
    "outputId": "d36b3fe7-b1f2-45b2-f587-a0ca231f942d"
   },
   "outputs": [
    {
     "name": "stdout",
     "output_type": "stream",
     "text": [
      "10 values of y:  [24.  21.6 34.7 33.4 36.2 28.7 22.9 27.1 16.5 18.9]\n",
      "X.shape=(506, 13)\n",
      "2 rows of X: \n",
      "[[  0.  18.   2.   0.   1.   7.  65.   4.   1. 296.  15. 397.   5.]\n",
      " [  0.   0.   7.   0.   0.   6.  79.   5.   2. 242.  18. 397.   9.]]\n"
     ]
    }
   ],
   "source": [
    "y=np.array(d.medv)\n",
    "print(f'10 values of y:  {y[:10]}')\n",
    "\n",
    "X=np.array(d.iloc[:,:13])\n",
    "print(f'X.shape={X.shape}')\n",
    "print(f'2 rows of X: \\n{np.round(X[:2,:],0)}')"
   ]
  },
  {
   "cell_type": "code",
   "execution_count": 34,
   "id": "kMwTAxBFIr7d",
   "metadata": {
    "colab": {
     "base_uri": "https://localhost:8080/"
    },
    "id": "kMwTAxBFIr7d",
    "outputId": "0e354d2f-46d6-4059-f020-2ac78516b1e4"
   },
   "outputs": [
    {
     "data": {
      "text/plain": [
       "array([2.7310e-02, 0.0000e+00, 7.0700e+00, 0.0000e+00, 4.6900e-01, 6.4210e+00, 7.8900e+01, 4.9671e+00, 2.0000e+00, 2.4200e+02, 1.7800e+01, 3.9690e+02,\n",
       "       9.1400e+00])"
      ]
     },
     "execution_count": 34,
     "metadata": {},
     "output_type": "execute_result"
    }
   ],
   "source": [
    "X[1,:]"
   ]
  },
  {
   "cell_type": "code",
   "execution_count": 30,
   "id": "sYrPYW2FIm9u",
   "metadata": {
    "colab": {
     "base_uri": "https://localhost:8080/"
    },
    "id": "sYrPYW2FIm9u",
    "outputId": "848a9039-be16-456d-afb5-c3735738fd72"
   },
   "outputs": [
    {
     "data": {
      "text/plain": [
       "array([24. , 21.6, 34.7, 33.4, 36.2, 28.7, 22.9, 27.1, 16.5, 18.9, 15. , 18.9, 21.7, 20.4, 18.2, 19.9, 23.1, 17.5, 20.2, 18.2, 13.6, 19.6, 15.2, 14.5, 15.6,\n",
       "       13.9, 16.6, 14.8, 18.4, 21. , 12.7, 14.5, 13.2, 13.1, 13.5, 18.9, 20. , 21. , 24.7, 30.8, 34.9, 26.6, 25.3, 24.7, 21.2, 19.3, 20. , 16.6, 14.4, 19.4,\n",
       "       19.7, 20.5, 25. , 23.4, 18.9, 35.4, 24.7, 31.6, 23.3, 19.6, 18.7, 16. , 22.2, 25. , 33. , 23.5, 19.4, 22. , 17.4, 20.9, 24.2, 21.7, 22.8, 23.4, 24.1,\n",
       "       21.4, 20. , 20.8, 21.2, 20.3, 28. , 23.9, 24.8, 22.9, 23.9, 26.6, 22.5, 22.2, 23.6, 28.7, 22.6, 22. , 22.9, 25. , 20.6, 28.4, 21.4, 38.7, 43.8, 33.2,\n",
       "       27.5, 26.5, 18.6, 19.3, 20.1, 19.5, 19.5, 20.4, 19.8, 19.4, 21.7, 22.8, 18.8, 18.7, 18.5, 18.3, 21.2, 19.2, 20.4, 19.3, 22. , 20.3, 20.5, 17.3, 18.8,\n",
       "       21.4, 15.7, 16.2, 18. , 14.3, 19.2, 19.6, 23. , 18.4, 15.6, 18.1, 17.4, 17.1, 13.3, 17.8, 14. , 14.4, 13.4, 15.6, 11.8, 13.8, 15.6, 14.6, 17.8, 15.4,\n",
       "       21.5, 19.6, 15.3, 19.4, 17. , 15.6, 13.1, 41.3, 24.3, 23.3, 27. , 50. , 50. , 50. , 22.7, 25. , 50. , 23.8, 23.8, 22.3, 17.4, 19.1, 23.1, 23.6, 22.6,\n",
       "       29.4, 23.2, 24.6, 29.9, 37.2, 39.8, 36.2, 37.9, 32.5, 26.4, 29.6, 50. , 32. , 29.8, 34.9, 37. , 30.5, 36.4, 31.1, 29.1, 50. , 33.3, 30.3, 34.6, 34.9,\n",
       "       32.9, 24.1, 42.3, 48.5, 50. , 22.6, 24.4, 22.5, 24.4, 20. , 21.7, 19.3, 22.4, 28.1, 23.7, 25. , 23.3, 28.7, 21.5, 23. , 26.7, 21.7, 27.5, 30.1, 44.8,\n",
       "       50. , 37.6, 31.6, 46.7, 31.5, 24.3, 31.7, 41.7, 48.3, 29. , 24. , 25.1, 31.5, 23.7, 23.3, 22. , 20.1, 22.2, 23.7, 17.6, 18.5, 24.3, 20.5, 24.5, 26.2,\n",
       "       24.4, 24.8, 29.6, 42.8, 21.9, 20.9, 44. , 50. , 36. , 30.1, 33.8, 43.1, 48.8, 31. , 36.5, 22.8, 30.7, 50. , 43.5, 20.7, 21.1, 25.2, 24.4, 35.2, 32.4,\n",
       "       32. , 33.2, 33.1, 29.1, 35.1, 45.4, 35.4, 46. , 50. , 32.2, 22. , 20.1, 23.2, 22.3, 24.8, 28.5, 37.3, 27.9, 23.9, 21.7, 28.6, 27.1, 20.3, 22.5, 29. ,\n",
       "       24.8, 22. , 26.4, 33.1, 36.1, 28.4, 33.4, 28.2, 22.8, 20.3, 16.1, 22.1, 19.4, 21.6, 23.8, 16.2, 17.8, 19.8, 23.1, 21. , 23.8, 23.1, 20.4, 18.5, 25. ,\n",
       "       24.6, 23. , 22.2, 19.3, 22.6, 19.8, 17.1, 19.4, 22.2, 20.7, 21.1, 19.5, 18.5, 20.6, 19. , 18.7, 32.7, 16.5, 23.9, 31.2, 17.5, 17.2, 23.1, 24.5, 26.6,\n",
       "       22.9, 24.1, 18.6, 30.1, 18.2, 20.6, 17.8, 21.7, 22.7, 22.6, 25. , 19.9, 20.8, 16.8, 21.9, 27.5, 21.9, 23.1, 50. , 50. , 50. , 50. , 50. , 13.8, 13.8,\n",
       "       15. , 13.9, 13.3, 13.1, 10.2, 10.4, 10.9, 11.3, 12.3,  8.8,  7.2, 10.5,  7.4, 10.2, 11.5, 15.1, 23.2,  9.7, 13.8, 12.7, 13.1, 12.5,  8.5,  5. ,  6.3,\n",
       "        5.6,  7.2, 12.1,  8.3,  8.5,  5. , 11.9, 27.9, 17.2, 27.5, 15. , 17.2, 17.9, 16.3,  7. ,  7.2,  7.5, 10.4,  8.8,  8.4, 16.7, 14.2, 20.8, 13.4, 11.7,\n",
       "        8.3, 10.2, 10.9, 11. ,  9.5, 14.5, 14.1, 16.1, 14.3, 11.7, 13.4,  9.6,  8.7,  8.4, 12.8, 10.5, 17.1, 18.4, 15.4, 10.8, 11.8, 14.9, 12.6, 14.1, 13. ,\n",
       "       13.4, 15.2, 16.1, 17.8, 14.9, 14.1, 12.7, 13.5, 14.9, 20. , 16.4, 17.7, 19.5, 20.2, 21.4, 19.9, 19. , 19.1, 19.1, 20.1, 19.9, 19.6, 23.2, 29.8, 13.8,\n",
       "       13.3, 16.7, 12. , 14.6, 21.4, 23. , 23.7, 25. , 21.8, 20.6, 21.2, 19.1, 20.6, 15.2,  7. ,  8.1, 13.6, 20.1, 21.8, 24.5, 23.1, 19.7, 18.3, 21.2, 17.5,\n",
       "       16.8, 22.4, 20.6, 23.9, 22. , 11.9])"
      ]
     },
     "execution_count": 30,
     "metadata": {},
     "output_type": "execute_result"
    }
   ],
   "source": [
    "y"
   ]
  },
  {
   "cell_type": "code",
   "execution_count": 32,
   "id": "496832e0",
   "metadata": {
    "colab": {
     "base_uri": "https://localhost:8080/"
    },
    "id": "496832e0",
    "outputId": "641a75b9-6753-40f7-9bfb-c43b4eacbb9c"
   },
   "outputs": [
    {
     "name": "stdout",
     "output_type": "stream",
     "text": [
      "Xnew.shape=(506, 14)\n",
      "[[  1.   0.  18.   2.   0.   1.   7.  65.   4.   1. 296.  15. 397.   5.]\n",
      " [  1.   0.   0.   7.   0.   0.   6.  79.   5.   2. 242.  18. 397.   9.]]\n",
      "Xnew.shape=(506, 14)     y.shape=(506,)\n",
      "w_hat.shape = (14,)\n",
      "w_hat = [ 36.5  -0.1   0.    0.    2.7 -17.8   3.8   0.   -1.5   0.3  -0.   -1.    0.   -0.5]\n"
     ]
    }
   ],
   "source": [
    "# Use normal eq to solve a regression problem y=b+Xw=[1,X][b,w]\n",
    "# We can apply our normal_eq() to X=[1,X]\n",
    "# Hence we need to insert a column of 1s in the 0th position of X\n",
    "\n",
    "# Insert '1' in each row of X\n",
    "Xnew = np.insert(X, 0, 1, axis=1)\n",
    "print(f'Xnew.shape={Xnew.shape}')\n",
    "print(np.round(Xnew[:2,:],0))\n",
    "\n",
    "print(f'Xnew.shape={Xnew.shape}     y.shape={y.shape}')\n",
    "w_hat = normal_equation(Xnew,y)\n",
    "print(f'w_hat.shape = {w_hat.shape}')\n",
    "print(f'w_hat = {np.round(w_hat,1)}')"
   ]
  },
  {
   "cell_type": "code",
   "execution_count": 33,
   "id": "HPctZ51EI2VM",
   "metadata": {
    "colab": {
     "base_uri": "https://localhost:8080/"
    },
    "id": "HPctZ51EI2VM",
    "outputId": "64a3557c-b5c3-434f-c284-3cb3918a3db6"
   },
   "outputs": [
    {
     "data": {
      "text/plain": [
       "array([ 3.64594884e+01, -1.08011358e-01,  4.64204584e-02,  2.05586264e-02,  2.68673382e+00, -1.77666112e+01,  3.80986521e+00,  6.92224640e-04, -1.47556685e+00,\n",
       "        3.06049479e-01, -1.23345939e-02, -9.52747232e-01,  9.31168327e-03, -5.24758378e-01])"
      ]
     },
     "execution_count": 33,
     "metadata": {},
     "output_type": "execute_result"
    }
   ],
   "source": [
    "w_hat"
   ]
  },
  {
   "cell_type": "code",
   "execution_count": null,
   "id": "68590bfd",
   "metadata": {
    "id": "68590bfd",
    "outputId": "a6552222-fa4f-4994-b216-1da37f744de2"
   },
   "outputs": [
    {
     "data": {
      "text/plain": [
       "4.679191295697281"
      ]
     },
     "execution_count": 56,
     "metadata": {},
     "output_type": "execute_result"
    }
   ],
   "source": [
    "# predicted values of y\n",
    "y_hat = np.matmul(Xnew, w_hat)\n",
    "# loss value: RMSE\n",
    "np.mean((y-y_hat)**2)**(0.5)"
   ]
  },
  {
   "cell_type": "code",
   "execution_count": null,
   "id": "8ecf9e83",
   "metadata": {
    "id": "8ecf9e83"
   },
   "outputs": [],
   "source": [
    "Reference: BUAN 6382.SW1.S24 course by Dr Farid Khafizov at Naveen Jindal School to Management, UTDallas."
   ]
  }
 ],
 "metadata": {
  "colab": {
   "provenance": []
  },
  "kernelspec": {
   "display_name": "Python 3 (ipykernel)",
   "language": "python",
   "name": "python3"
  },
  "language_info": {
   "codemirror_mode": {
    "name": "ipython",
    "version": 3
   },
   "file_extension": ".py",
   "mimetype": "text/x-python",
   "name": "python",
   "nbconvert_exporter": "python",
   "pygments_lexer": "ipython3",
   "version": "3.11.5"
  }
 },
 "nbformat": 4,
 "nbformat_minor": 5
}
