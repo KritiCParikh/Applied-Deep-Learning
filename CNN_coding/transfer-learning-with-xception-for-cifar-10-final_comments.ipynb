{
 "cells": [
  {
   "cell_type": "markdown",
   "id": "f6550fc7",
   "metadata": {
    "papermill": {
     "duration": 0.021062,
     "end_time": "2022-03-01T14:57:49.327185",
     "exception": false,
     "start_time": "2022-03-01T14:57:49.306123",
     "status": "completed"
    },
    "tags": []
   },
   "source": [
    "# Introduction\n",
    "\n",
    "This notebook demonstrates how transfer learning can be applied with a pre-trained model. In this example, the chosen pre-trained model is Xception, and the chosen image dataset is CIFAR-10. The flow of this demo follows the guide provided by TensorFlow [[1](https://keras.io/guides/transfer_learning/#an-endtoend-example-finetuning-an-image-classification-model-on-a-cats-vs-dogs-dataset)].\n",
    "\n",
    "## Xception\n",
    "\n",
    "According to Chollet (2016) [[2](https://arxiv.org/abs/1610.02357)], \"We present an interpretation of Inception modules in convolutional neural networks as being an intermediate step in-between regular convolution and the depthwise separable convolution operation (a depthwise convolution followed by a pointwise convolution). In this light, a depthwise separable convolution can be understood as an Inception module with a maximally large number of towers. This observation leads us to propose a novel deep convolutional neural network architecture inspired by Inception, where Inception modules have been replaced with depthwise separable convolutions. We show that this architecture, dubbed Xception, slightly outperforms Inception V3 on the ImageNet dataset (which Inception V3 was designed for), and significantly outperforms Inception V3 on a larger image classification dataset comprising 350 million images and 17,000 classes. Since the Xception architecture has the same number of parameters as Inception V3, the performance gains are not due to increased capacity but rather to a more efficient use of model parameters.\"\n",
    "\n",
    "## CIFAR-10\n",
    "The CIFAR-10 dataset [[3](https://www.cs.toronto.edu/~kriz/cifar.html)] consists of 60,000 32x32 colour images in 10 classes, with 6000 images per class. There are 50,000 training images and 10,000 test images.\n",
    "\n",
    "The dataset is divided into five training batches and one test batch, each with 10,000 images. The test batch contains exactly 1,000 randomly-selected images from each class. The training batches contain the remaining images in random order, but some training batches may contain more images from one class than another. Between them, the training batches contain exactly 5000 images from each class."
   ]
  },
  {
   "cell_type": "markdown",
   "id": "0c8e19a7",
   "metadata": {},
   "source": [
    "# Why this?"
   ]
  },
  {
   "cell_type": "markdown",
   "id": "374a50cf",
   "metadata": {},
   "source": [
    "To solve the issue in the previous model (CNN_class_exercises file), we use this. We have multiple models in Deep Learning, and there has been a consistent observation across images, where they exhibit certain characteristics that overlap with each other. A concept called Transfer Learning involves leveraging pre-trained models, which were initially trained on large datasets, and fine-tuning them for our specific use case.\n",
    "\n",
    "Models like Timm (Pytorch) or VGG16 (Keras) are examples of architectures that perform exceptionally well with image data. Essentially, instead of experimenting with what kind of architectures work for our model, we can examine established ones like VGG, AlexNet, ResNet, InceptionNet, GoogLeNet, etc., to understand why they are effective and implement them in our use case.\n",
    "\n",
    "In this scenario, we've employed the same dataset, but our approach involves utilizing pre-trained models."
   ]
  },
  {
   "cell_type": "markdown",
   "id": "9bc75d6a",
   "metadata": {
    "papermill": {
     "duration": 0.019976,
     "end_time": "2022-03-01T14:57:49.368876",
     "exception": false,
     "start_time": "2022-03-01T14:57:49.348900",
     "status": "completed"
    },
    "tags": []
   },
   "source": [
    "# Load Required Modules"
   ]
  },
  {
   "cell_type": "code",
   "execution_count": 1,
   "id": "35efdd0f",
   "metadata": {
    "execution": {
     "iopub.execute_input": "2022-03-01T14:57:49.420015Z",
     "iopub.status.busy": "2022-03-01T14:57:49.419226Z",
     "iopub.status.idle": "2022-03-01T14:57:50.281488Z",
     "shell.execute_reply": "2022-03-01T14:57:50.280906Z",
     "shell.execute_reply.started": "2022-03-01T13:13:00.054524Z"
    },
    "papermill": {
     "duration": 0.892774,
     "end_time": "2022-03-01T14:57:50.281666",
     "exception": false,
     "start_time": "2022-03-01T14:57:49.388892",
     "status": "completed"
    },
    "tags": []
   },
   "outputs": [],
   "source": [
    "import matplotlib.pyplot as plt\n",
    "import seaborn as sns\n",
    "%matplotlib inline\n",
    "\n",
    "import numpy as np # linear algebra\n",
    "import pandas as pd # data processing, CSV file I/O (e.g. pd.read_csv)\n",
    "\n",
    "import warnings\n",
    "warnings.filterwarnings(\"ignore\")"
   ]
  },
  {
   "cell_type": "code",
   "execution_count": 2,
   "id": "7b2f5936",
   "metadata": {
    "_cell_guid": "79c7e3d0-c299-4dcb-8224-4455121ee9b0",
    "_uuid": "d629ff2d2480ee46fbb7e2d37f6b5fab8052498a",
    "execution": {
     "iopub.execute_input": "2022-03-01T14:57:50.327163Z",
     "iopub.status.busy": "2022-03-01T14:57:50.326493Z",
     "iopub.status.idle": "2022-03-01T14:57:55.253142Z",
     "shell.execute_reply": "2022-03-01T14:57:55.252512Z",
     "shell.execute_reply.started": "2022-03-01T13:13:00.064958Z"
    },
    "papermill": {
     "duration": 4.951285,
     "end_time": "2022-03-01T14:57:55.253290",
     "exception": false,
     "start_time": "2022-03-01T14:57:50.302005",
     "status": "completed"
    },
    "tags": []
   },
   "outputs": [
    {
     "name": "stdout",
     "output_type": "stream",
     "text": [
      "2.15.0\n"
     ]
    }
   ],
   "source": [
    "#Import keras functions\n",
    "\n",
    "import tensorflow as tf\n",
    "print(tf.__version__)\n",
    "\n",
    "from keras import Sequential\n",
    "from tensorflow.keras.utils import to_categorical\n",
    "from tensorflow.keras.optimizers import SGD,Adam\n",
    "from keras.callbacks import ReduceLROnPlateau\n",
    "from tensorflow.keras.applications import VGG19,Xception\n",
    "from tensorflow.keras.layers import Input,Flatten,Dense,BatchNormalization,Activation,Dropout,GlobalAveragePooling2D,MaxPooling2D,RandomFlip,RandomZoom,RandomRotation"
   ]
  },
  {
   "cell_type": "code",
   "execution_count": 3,
   "id": "293aeba1",
   "metadata": {
    "execution": {
     "iopub.execute_input": "2022-03-01T14:57:55.301355Z",
     "iopub.status.busy": "2022-03-01T14:57:55.299571Z",
     "iopub.status.idle": "2022-03-01T14:57:55.302023Z",
     "shell.execute_reply": "2022-03-01T14:57:55.302415Z",
     "shell.execute_reply.started": "2022-03-01T13:13:00.079963Z"
    },
    "papermill": {
     "duration": 0.027508,
     "end_time": "2022-03-01T14:57:55.302541",
     "exception": false,
     "start_time": "2022-03-01T14:57:55.275033",
     "status": "completed"
    },
    "tags": []
   },
   "outputs": [],
   "source": [
    "#Import the dataset\n",
    "\n",
    "from keras.datasets import cifar10"
   ]
  },
  {
   "cell_type": "markdown",
   "id": "a6ea1d8e",
   "metadata": {
    "papermill": {
     "duration": 0.02246,
     "end_time": "2022-03-01T14:57:55.345409",
     "exception": false,
     "start_time": "2022-03-01T14:57:55.322949",
     "status": "completed"
    },
    "tags": []
   },
   "source": [
    "# Load CIFAR-10"
   ]
  },
  {
   "cell_type": "code",
   "execution_count": 4,
   "id": "44700615",
   "metadata": {
    "execution": {
     "iopub.execute_input": "2022-03-01T14:57:55.391938Z",
     "iopub.status.busy": "2022-03-01T14:57:55.391146Z",
     "iopub.status.idle": "2022-03-01T14:58:05.692049Z",
     "shell.execute_reply": "2022-03-01T14:58:05.692782Z",
     "shell.execute_reply.started": "2022-03-01T13:13:00.087323Z"
    },
    "papermill": {
     "duration": 10.327101,
     "end_time": "2022-03-01T14:58:05.692949",
     "exception": false,
     "start_time": "2022-03-01T14:57:55.365848",
     "status": "completed"
    },
    "tags": []
   },
   "outputs": [
    {
     "name": "stdout",
     "output_type": "stream",
     "text": [
      "((50000, 32, 32, 3), (50000, 10))\n",
      "((10000, 32, 32, 3), (10000, 10))\n"
     ]
    }
   ],
   "source": [
    "(x_train, y_train), (x_val, y_val) = cifar10.load_data()\n",
    "\n",
    "# xception.preprocess_input(): the inputs pixel values are scaled between -1 and 1\n",
    "#x_train = tf.keras.applications.xception.preprocess_input(x_train)\n",
    "#x_val = tf.keras.applications.xception.preprocess_input(x_val)\n",
    "\n",
    "#One hot encoding - y variables\n",
    "y_train=to_categorical(y_train)\n",
    "y_val=to_categorical(y_val)\n",
    "\n",
    "print((x_train.shape, y_train.shape))\n",
    "print((x_val.shape, y_val.shape))"
   ]
  },
  {
   "cell_type": "markdown",
   "id": "6f5e3100",
   "metadata": {
    "papermill": {
     "duration": 0.06801,
     "end_time": "2022-03-01T14:58:05.829121",
     "exception": false,
     "start_time": "2022-03-01T14:58:05.761111",
     "status": "completed"
    },
    "tags": []
   },
   "source": [
    "# Xception"
   ]
  },
  {
   "cell_type": "code",
   "execution_count": 5,
   "id": "5a160b4a",
   "metadata": {
    "execution": {
     "iopub.execute_input": "2022-03-01T14:58:05.971384Z",
     "iopub.status.busy": "2022-03-01T14:58:05.970565Z",
     "iopub.status.idle": "2022-03-01T14:58:09.793469Z",
     "shell.execute_reply": "2022-03-01T14:58:09.792469Z",
     "shell.execute_reply.started": "2022-03-01T13:13:00.693303Z"
    },
    "papermill": {
     "duration": 3.897488,
     "end_time": "2022-03-01T14:58:09.793654",
     "exception": false,
     "start_time": "2022-03-01T14:58:05.896166",
     "status": "completed"
    },
    "tags": []
   },
   "outputs": [
    {
     "name": "stdout",
     "output_type": "stream",
     "text": [
      "Downloading data from https://storage.googleapis.com/tensorflow/keras-applications/xception/xception_weights_tf_dim_ordering_tf_kernels_notop.h5\n",
      "83683744/83683744 [==============================] - 3s 0us/step\n"
     ]
    }
   ],
   "source": [
    "#Called the model called Xception and it is a pretty deep layer of NN, that works well on images.\n",
    "base_model = Xception(include_top=False, weights='imagenet', input_shape=(224,224,3), classes=y_train.shape[1])\n",
    "#Imagenet is a huge dataset with around 1000 classes."
   ]
  },
  {
   "cell_type": "code",
   "execution_count": 6,
   "id": "96cfacab",
   "metadata": {},
   "outputs": [
    {
     "name": "stdout",
     "output_type": "stream",
     "text": [
      "Model: \"xception\"\n",
      "__________________________________________________________________________________________________\n",
      " Layer (type)                Output Shape                 Param #   Connected to                  \n",
      "==================================================================================================\n",
      " input_1 (InputLayer)        [(None, 224, 224, 3)]        0         []                            \n",
      "                                                                                                  \n",
      " block1_conv1 (Conv2D)       (None, 111, 111, 32)         864       ['input_1[0][0]']             \n",
      "                                                                                                  \n",
      " block1_conv1_bn (BatchNorm  (None, 111, 111, 32)         128       ['block1_conv1[0][0]']        \n",
      " alization)                                                                                       \n",
      "                                                                                                  \n",
      " block1_conv1_act (Activati  (None, 111, 111, 32)         0         ['block1_conv1_bn[0][0]']     \n",
      " on)                                                                                              \n",
      "                                                                                                  \n",
      " block1_conv2 (Conv2D)       (None, 109, 109, 64)         18432     ['block1_conv1_act[0][0]']    \n",
      "                                                                                                  \n",
      " block1_conv2_bn (BatchNorm  (None, 109, 109, 64)         256       ['block1_conv2[0][0]']        \n",
      " alization)                                                                                       \n",
      "                                                                                                  \n",
      " block1_conv2_act (Activati  (None, 109, 109, 64)         0         ['block1_conv2_bn[0][0]']     \n",
      " on)                                                                                              \n",
      "                                                                                                  \n",
      " block2_sepconv1 (Separable  (None, 109, 109, 128)        8768      ['block1_conv2_act[0][0]']    \n",
      " Conv2D)                                                                                          \n",
      "                                                                                                  \n",
      " block2_sepconv1_bn (BatchN  (None, 109, 109, 128)        512       ['block2_sepconv1[0][0]']     \n",
      " ormalization)                                                                                    \n",
      "                                                                                                  \n",
      " block2_sepconv2_act (Activ  (None, 109, 109, 128)        0         ['block2_sepconv1_bn[0][0]']  \n",
      " ation)                                                                                           \n",
      "                                                                                                  \n",
      " block2_sepconv2 (Separable  (None, 109, 109, 128)        17536     ['block2_sepconv2_act[0][0]'] \n",
      " Conv2D)                                                                                          \n",
      "                                                                                                  \n",
      " block2_sepconv2_bn (BatchN  (None, 109, 109, 128)        512       ['block2_sepconv2[0][0]']     \n",
      " ormalization)                                                                                    \n",
      "                                                                                                  \n",
      " conv2d (Conv2D)             (None, 55, 55, 128)          8192      ['block1_conv2_act[0][0]']    \n",
      "                                                                                                  \n",
      " block2_pool (MaxPooling2D)  (None, 55, 55, 128)          0         ['block2_sepconv2_bn[0][0]']  \n",
      "                                                                                                  \n",
      " batch_normalization (Batch  (None, 55, 55, 128)          512       ['conv2d[0][0]']              \n",
      " Normalization)                                                                                   \n",
      "                                                                                                  \n",
      " add (Add)                   (None, 55, 55, 128)          0         ['block2_pool[0][0]',         \n",
      "                                                                     'batch_normalization[0][0]'] \n",
      "                                                                                                  \n",
      " block3_sepconv1_act (Activ  (None, 55, 55, 128)          0         ['add[0][0]']                 \n",
      " ation)                                                                                           \n",
      "                                                                                                  \n",
      " block3_sepconv1 (Separable  (None, 55, 55, 256)          33920     ['block3_sepconv1_act[0][0]'] \n",
      " Conv2D)                                                                                          \n",
      "                                                                                                  \n",
      " block3_sepconv1_bn (BatchN  (None, 55, 55, 256)          1024      ['block3_sepconv1[0][0]']     \n",
      " ormalization)                                                                                    \n",
      "                                                                                                  \n",
      " block3_sepconv2_act (Activ  (None, 55, 55, 256)          0         ['block3_sepconv1_bn[0][0]']  \n",
      " ation)                                                                                           \n",
      "                                                                                                  \n",
      " block3_sepconv2 (Separable  (None, 55, 55, 256)          67840     ['block3_sepconv2_act[0][0]'] \n",
      " Conv2D)                                                                                          \n",
      "                                                                                                  \n",
      " block3_sepconv2_bn (BatchN  (None, 55, 55, 256)          1024      ['block3_sepconv2[0][0]']     \n",
      " ormalization)                                                                                    \n",
      "                                                                                                  \n",
      " conv2d_1 (Conv2D)           (None, 28, 28, 256)          32768     ['add[0][0]']                 \n",
      "                                                                                                  \n",
      " block3_pool (MaxPooling2D)  (None, 28, 28, 256)          0         ['block3_sepconv2_bn[0][0]']  \n",
      "                                                                                                  \n",
      " batch_normalization_1 (Bat  (None, 28, 28, 256)          1024      ['conv2d_1[0][0]']            \n",
      " chNormalization)                                                                                 \n",
      "                                                                                                  \n",
      " add_1 (Add)                 (None, 28, 28, 256)          0         ['block3_pool[0][0]',         \n",
      "                                                                     'batch_normalization_1[0][0]'\n",
      "                                                                    ]                             \n",
      "                                                                                                  \n",
      " block4_sepconv1_act (Activ  (None, 28, 28, 256)          0         ['add_1[0][0]']               \n",
      " ation)                                                                                           \n",
      "                                                                                                  \n",
      " block4_sepconv1 (Separable  (None, 28, 28, 728)          188672    ['block4_sepconv1_act[0][0]'] \n",
      " Conv2D)                                                                                          \n",
      "                                                                                                  \n",
      " block4_sepconv1_bn (BatchN  (None, 28, 28, 728)          2912      ['block4_sepconv1[0][0]']     \n",
      " ormalization)                                                                                    \n",
      "                                                                                                  \n",
      " block4_sepconv2_act (Activ  (None, 28, 28, 728)          0         ['block4_sepconv1_bn[0][0]']  \n",
      " ation)                                                                                           \n",
      "                                                                                                  \n",
      " block4_sepconv2 (Separable  (None, 28, 28, 728)          536536    ['block4_sepconv2_act[0][0]'] \n",
      " Conv2D)                                                                                          \n",
      "                                                                                                  \n",
      " block4_sepconv2_bn (BatchN  (None, 28, 28, 728)          2912      ['block4_sepconv2[0][0]']     \n",
      " ormalization)                                                                                    \n",
      "                                                                                                  \n",
      " conv2d_2 (Conv2D)           (None, 14, 14, 728)          186368    ['add_1[0][0]']               \n",
      "                                                                                                  \n",
      " block4_pool (MaxPooling2D)  (None, 14, 14, 728)          0         ['block4_sepconv2_bn[0][0]']  \n",
      "                                                                                                  \n",
      " batch_normalization_2 (Bat  (None, 14, 14, 728)          2912      ['conv2d_2[0][0]']            \n",
      " chNormalization)                                                                                 \n",
      "                                                                                                  \n",
      " add_2 (Add)                 (None, 14, 14, 728)          0         ['block4_pool[0][0]',         \n",
      "                                                                     'batch_normalization_2[0][0]'\n",
      "                                                                    ]                             \n",
      "                                                                                                  \n",
      " block5_sepconv1_act (Activ  (None, 14, 14, 728)          0         ['add_2[0][0]']               \n",
      " ation)                                                                                           \n",
      "                                                                                                  \n",
      " block5_sepconv1 (Separable  (None, 14, 14, 728)          536536    ['block5_sepconv1_act[0][0]'] \n",
      " Conv2D)                                                                                          \n",
      "                                                                                                  \n",
      " block5_sepconv1_bn (BatchN  (None, 14, 14, 728)          2912      ['block5_sepconv1[0][0]']     \n",
      " ormalization)                                                                                    \n",
      "                                                                                                  \n",
      " block5_sepconv2_act (Activ  (None, 14, 14, 728)          0         ['block5_sepconv1_bn[0][0]']  \n",
      " ation)                                                                                           \n",
      "                                                                                                  \n",
      " block5_sepconv2 (Separable  (None, 14, 14, 728)          536536    ['block5_sepconv2_act[0][0]'] \n",
      " Conv2D)                                                                                          \n",
      "                                                                                                  \n",
      " block5_sepconv2_bn (BatchN  (None, 14, 14, 728)          2912      ['block5_sepconv2[0][0]']     \n",
      " ormalization)                                                                                    \n",
      "                                                                                                  \n",
      " block5_sepconv3_act (Activ  (None, 14, 14, 728)          0         ['block5_sepconv2_bn[0][0]']  \n",
      " ation)                                                                                           \n",
      "                                                                                                  \n",
      " block5_sepconv3 (Separable  (None, 14, 14, 728)          536536    ['block5_sepconv3_act[0][0]'] \n",
      " Conv2D)                                                                                          \n",
      "                                                                                                  \n",
      " block5_sepconv3_bn (BatchN  (None, 14, 14, 728)          2912      ['block5_sepconv3[0][0]']     \n",
      " ormalization)                                                                                    \n",
      "                                                                                                  \n",
      " add_3 (Add)                 (None, 14, 14, 728)          0         ['block5_sepconv3_bn[0][0]',  \n",
      "                                                                     'add_2[0][0]']               \n",
      "                                                                                                  \n",
      " block6_sepconv1_act (Activ  (None, 14, 14, 728)          0         ['add_3[0][0]']               \n",
      " ation)                                                                                           \n",
      "                                                                                                  \n",
      " block6_sepconv1 (Separable  (None, 14, 14, 728)          536536    ['block6_sepconv1_act[0][0]'] \n",
      " Conv2D)                                                                                          \n",
      "                                                                                                  \n",
      " block6_sepconv1_bn (BatchN  (None, 14, 14, 728)          2912      ['block6_sepconv1[0][0]']     \n",
      " ormalization)                                                                                    \n",
      "                                                                                                  \n",
      " block6_sepconv2_act (Activ  (None, 14, 14, 728)          0         ['block6_sepconv1_bn[0][0]']  \n",
      " ation)                                                                                           \n",
      "                                                                                                  \n",
      " block6_sepconv2 (Separable  (None, 14, 14, 728)          536536    ['block6_sepconv2_act[0][0]'] \n",
      " Conv2D)                                                                                          \n",
      "                                                                                                  \n",
      " block6_sepconv2_bn (BatchN  (None, 14, 14, 728)          2912      ['block6_sepconv2[0][0]']     \n",
      " ormalization)                                                                                    \n",
      "                                                                                                  \n",
      " block6_sepconv3_act (Activ  (None, 14, 14, 728)          0         ['block6_sepconv2_bn[0][0]']  \n",
      " ation)                                                                                           \n",
      "                                                                                                  \n",
      " block6_sepconv3 (Separable  (None, 14, 14, 728)          536536    ['block6_sepconv3_act[0][0]'] \n",
      " Conv2D)                                                                                          \n",
      "                                                                                                  \n",
      " block6_sepconv3_bn (BatchN  (None, 14, 14, 728)          2912      ['block6_sepconv3[0][0]']     \n",
      " ormalization)                                                                                    \n",
      "                                                                                                  \n",
      " add_4 (Add)                 (None, 14, 14, 728)          0         ['block6_sepconv3_bn[0][0]',  \n",
      "                                                                     'add_3[0][0]']               \n",
      "                                                                                                  \n",
      " block7_sepconv1_act (Activ  (None, 14, 14, 728)          0         ['add_4[0][0]']               \n",
      " ation)                                                                                           \n",
      "                                                                                                  \n",
      " block7_sepconv1 (Separable  (None, 14, 14, 728)          536536    ['block7_sepconv1_act[0][0]'] \n",
      " Conv2D)                                                                                          \n",
      "                                                                                                  \n",
      " block7_sepconv1_bn (BatchN  (None, 14, 14, 728)          2912      ['block7_sepconv1[0][0]']     \n",
      " ormalization)                                                                                    \n",
      "                                                                                                  \n",
      " block7_sepconv2_act (Activ  (None, 14, 14, 728)          0         ['block7_sepconv1_bn[0][0]']  \n",
      " ation)                                                                                           \n",
      "                                                                                                  \n",
      " block7_sepconv2 (Separable  (None, 14, 14, 728)          536536    ['block7_sepconv2_act[0][0]'] \n",
      " Conv2D)                                                                                          \n",
      "                                                                                                  \n",
      " block7_sepconv2_bn (BatchN  (None, 14, 14, 728)          2912      ['block7_sepconv2[0][0]']     \n",
      " ormalization)                                                                                    \n",
      "                                                                                                  \n",
      " block7_sepconv3_act (Activ  (None, 14, 14, 728)          0         ['block7_sepconv2_bn[0][0]']  \n",
      " ation)                                                                                           \n",
      "                                                                                                  \n",
      " block7_sepconv3 (Separable  (None, 14, 14, 728)          536536    ['block7_sepconv3_act[0][0]'] \n",
      " Conv2D)                                                                                          \n",
      "                                                                                                  \n",
      " block7_sepconv3_bn (BatchN  (None, 14, 14, 728)          2912      ['block7_sepconv3[0][0]']     \n",
      " ormalization)                                                                                    \n",
      "                                                                                                  \n",
      " add_5 (Add)                 (None, 14, 14, 728)          0         ['block7_sepconv3_bn[0][0]',  \n",
      "                                                                     'add_4[0][0]']               \n",
      "                                                                                                  \n",
      " block8_sepconv1_act (Activ  (None, 14, 14, 728)          0         ['add_5[0][0]']               \n",
      " ation)                                                                                           \n",
      "                                                                                                  \n",
      " block8_sepconv1 (Separable  (None, 14, 14, 728)          536536    ['block8_sepconv1_act[0][0]'] \n",
      " Conv2D)                                                                                          \n",
      "                                                                                                  \n",
      " block8_sepconv1_bn (BatchN  (None, 14, 14, 728)          2912      ['block8_sepconv1[0][0]']     \n",
      " ormalization)                                                                                    \n",
      "                                                                                                  \n",
      " block8_sepconv2_act (Activ  (None, 14, 14, 728)          0         ['block8_sepconv1_bn[0][0]']  \n",
      " ation)                                                                                           \n",
      "                                                                                                  \n",
      " block8_sepconv2 (Separable  (None, 14, 14, 728)          536536    ['block8_sepconv2_act[0][0]'] \n",
      " Conv2D)                                                                                          \n",
      "                                                                                                  \n",
      " block8_sepconv2_bn (BatchN  (None, 14, 14, 728)          2912      ['block8_sepconv2[0][0]']     \n",
      " ormalization)                                                                                    \n",
      "                                                                                                  \n",
      " block8_sepconv3_act (Activ  (None, 14, 14, 728)          0         ['block8_sepconv2_bn[0][0]']  \n",
      " ation)                                                                                           \n",
      "                                                                                                  \n",
      " block8_sepconv3 (Separable  (None, 14, 14, 728)          536536    ['block8_sepconv3_act[0][0]'] \n",
      " Conv2D)                                                                                          \n",
      "                                                                                                  \n",
      " block8_sepconv3_bn (BatchN  (None, 14, 14, 728)          2912      ['block8_sepconv3[0][0]']     \n",
      " ormalization)                                                                                    \n",
      "                                                                                                  \n",
      " add_6 (Add)                 (None, 14, 14, 728)          0         ['block8_sepconv3_bn[0][0]',  \n",
      "                                                                     'add_5[0][0]']               \n",
      "                                                                                                  \n",
      " block9_sepconv1_act (Activ  (None, 14, 14, 728)          0         ['add_6[0][0]']               \n",
      " ation)                                                                                           \n",
      "                                                                                                  \n",
      " block9_sepconv1 (Separable  (None, 14, 14, 728)          536536    ['block9_sepconv1_act[0][0]'] \n",
      " Conv2D)                                                                                          \n",
      "                                                                                                  \n",
      " block9_sepconv1_bn (BatchN  (None, 14, 14, 728)          2912      ['block9_sepconv1[0][0]']     \n",
      " ormalization)                                                                                    \n",
      "                                                                                                  \n",
      " block9_sepconv2_act (Activ  (None, 14, 14, 728)          0         ['block9_sepconv1_bn[0][0]']  \n",
      " ation)                                                                                           \n",
      "                                                                                                  \n",
      " block9_sepconv2 (Separable  (None, 14, 14, 728)          536536    ['block9_sepconv2_act[0][0]'] \n",
      " Conv2D)                                                                                          \n",
      "                                                                                                  \n",
      " block9_sepconv2_bn (BatchN  (None, 14, 14, 728)          2912      ['block9_sepconv2[0][0]']     \n",
      " ormalization)                                                                                    \n",
      "                                                                                                  \n",
      " block9_sepconv3_act (Activ  (None, 14, 14, 728)          0         ['block9_sepconv2_bn[0][0]']  \n",
      " ation)                                                                                           \n",
      "                                                                                                  \n",
      " block9_sepconv3 (Separable  (None, 14, 14, 728)          536536    ['block9_sepconv3_act[0][0]'] \n",
      " Conv2D)                                                                                          \n",
      "                                                                                                  \n",
      " block9_sepconv3_bn (BatchN  (None, 14, 14, 728)          2912      ['block9_sepconv3[0][0]']     \n",
      " ormalization)                                                                                    \n",
      "                                                                                                  \n",
      " add_7 (Add)                 (None, 14, 14, 728)          0         ['block9_sepconv3_bn[0][0]',  \n",
      "                                                                     'add_6[0][0]']               \n",
      "                                                                                                  \n",
      " block10_sepconv1_act (Acti  (None, 14, 14, 728)          0         ['add_7[0][0]']               \n",
      " vation)                                                                                          \n",
      "                                                                                                  \n",
      " block10_sepconv1 (Separabl  (None, 14, 14, 728)          536536    ['block10_sepconv1_act[0][0]']\n",
      " eConv2D)                                                                                         \n",
      "                                                                                                  \n",
      " block10_sepconv1_bn (Batch  (None, 14, 14, 728)          2912      ['block10_sepconv1[0][0]']    \n",
      " Normalization)                                                                                   \n",
      "                                                                                                  \n",
      " block10_sepconv2_act (Acti  (None, 14, 14, 728)          0         ['block10_sepconv1_bn[0][0]'] \n",
      " vation)                                                                                          \n",
      "                                                                                                  \n",
      " block10_sepconv2 (Separabl  (None, 14, 14, 728)          536536    ['block10_sepconv2_act[0][0]']\n",
      " eConv2D)                                                                                         \n",
      "                                                                                                  \n",
      " block10_sepconv2_bn (Batch  (None, 14, 14, 728)          2912      ['block10_sepconv2[0][0]']    \n",
      " Normalization)                                                                                   \n",
      "                                                                                                  \n",
      " block10_sepconv3_act (Acti  (None, 14, 14, 728)          0         ['block10_sepconv2_bn[0][0]'] \n",
      " vation)                                                                                          \n",
      "                                                                                                  \n",
      " block10_sepconv3 (Separabl  (None, 14, 14, 728)          536536    ['block10_sepconv3_act[0][0]']\n",
      " eConv2D)                                                                                         \n",
      "                                                                                                  \n",
      " block10_sepconv3_bn (Batch  (None, 14, 14, 728)          2912      ['block10_sepconv3[0][0]']    \n",
      " Normalization)                                                                                   \n",
      "                                                                                                  \n",
      " add_8 (Add)                 (None, 14, 14, 728)          0         ['block10_sepconv3_bn[0][0]', \n",
      "                                                                     'add_7[0][0]']               \n",
      "                                                                                                  \n",
      " block11_sepconv1_act (Acti  (None, 14, 14, 728)          0         ['add_8[0][0]']               \n",
      " vation)                                                                                          \n",
      "                                                                                                  \n",
      " block11_sepconv1 (Separabl  (None, 14, 14, 728)          536536    ['block11_sepconv1_act[0][0]']\n",
      " eConv2D)                                                                                         \n",
      "                                                                                                  \n",
      " block11_sepconv1_bn (Batch  (None, 14, 14, 728)          2912      ['block11_sepconv1[0][0]']    \n",
      " Normalization)                                                                                   \n",
      "                                                                                                  \n",
      " block11_sepconv2_act (Acti  (None, 14, 14, 728)          0         ['block11_sepconv1_bn[0][0]'] \n",
      " vation)                                                                                          \n",
      "                                                                                                  \n",
      " block11_sepconv2 (Separabl  (None, 14, 14, 728)          536536    ['block11_sepconv2_act[0][0]']\n",
      " eConv2D)                                                                                         \n",
      "                                                                                                  \n",
      " block11_sepconv2_bn (Batch  (None, 14, 14, 728)          2912      ['block11_sepconv2[0][0]']    \n",
      " Normalization)                                                                                   \n",
      "                                                                                                  \n",
      " block11_sepconv3_act (Acti  (None, 14, 14, 728)          0         ['block11_sepconv2_bn[0][0]'] \n",
      " vation)                                                                                          \n",
      "                                                                                                  \n",
      " block11_sepconv3 (Separabl  (None, 14, 14, 728)          536536    ['block11_sepconv3_act[0][0]']\n",
      " eConv2D)                                                                                         \n",
      "                                                                                                  \n",
      " block11_sepconv3_bn (Batch  (None, 14, 14, 728)          2912      ['block11_sepconv3[0][0]']    \n",
      " Normalization)                                                                                   \n",
      "                                                                                                  \n",
      " add_9 (Add)                 (None, 14, 14, 728)          0         ['block11_sepconv3_bn[0][0]', \n",
      "                                                                     'add_8[0][0]']               \n",
      "                                                                                                  \n",
      " block12_sepconv1_act (Acti  (None, 14, 14, 728)          0         ['add_9[0][0]']               \n",
      " vation)                                                                                          \n",
      "                                                                                                  \n",
      " block12_sepconv1 (Separabl  (None, 14, 14, 728)          536536    ['block12_sepconv1_act[0][0]']\n",
      " eConv2D)                                                                                         \n",
      "                                                                                                  \n",
      " block12_sepconv1_bn (Batch  (None, 14, 14, 728)          2912      ['block12_sepconv1[0][0]']    \n",
      " Normalization)                                                                                   \n",
      "                                                                                                  \n",
      " block12_sepconv2_act (Acti  (None, 14, 14, 728)          0         ['block12_sepconv1_bn[0][0]'] \n",
      " vation)                                                                                          \n",
      "                                                                                                  \n",
      " block12_sepconv2 (Separabl  (None, 14, 14, 728)          536536    ['block12_sepconv2_act[0][0]']\n",
      " eConv2D)                                                                                         \n",
      "                                                                                                  \n",
      " block12_sepconv2_bn (Batch  (None, 14, 14, 728)          2912      ['block12_sepconv2[0][0]']    \n",
      " Normalization)                                                                                   \n",
      "                                                                                                  \n",
      " block12_sepconv3_act (Acti  (None, 14, 14, 728)          0         ['block12_sepconv2_bn[0][0]'] \n",
      " vation)                                                                                          \n",
      "                                                                                                  \n",
      " block12_sepconv3 (Separabl  (None, 14, 14, 728)          536536    ['block12_sepconv3_act[0][0]']\n",
      " eConv2D)                                                                                         \n",
      "                                                                                                  \n",
      " block12_sepconv3_bn (Batch  (None, 14, 14, 728)          2912      ['block12_sepconv3[0][0]']    \n",
      " Normalization)                                                                                   \n",
      "                                                                                                  \n",
      " add_10 (Add)                (None, 14, 14, 728)          0         ['block12_sepconv3_bn[0][0]', \n",
      "                                                                     'add_9[0][0]']               \n",
      "                                                                                                  \n",
      " block13_sepconv1_act (Acti  (None, 14, 14, 728)          0         ['add_10[0][0]']              \n",
      " vation)                                                                                          \n",
      "                                                                                                  \n",
      " block13_sepconv1 (Separabl  (None, 14, 14, 728)          536536    ['block13_sepconv1_act[0][0]']\n",
      " eConv2D)                                                                                         \n",
      "                                                                                                  \n",
      " block13_sepconv1_bn (Batch  (None, 14, 14, 728)          2912      ['block13_sepconv1[0][0]']    \n",
      " Normalization)                                                                                   \n",
      "                                                                                                  \n",
      " block13_sepconv2_act (Acti  (None, 14, 14, 728)          0         ['block13_sepconv1_bn[0][0]'] \n",
      " vation)                                                                                          \n",
      "                                                                                                  \n",
      " block13_sepconv2 (Separabl  (None, 14, 14, 1024)         752024    ['block13_sepconv2_act[0][0]']\n",
      " eConv2D)                                                                                         \n",
      "                                                                                                  \n",
      " block13_sepconv2_bn (Batch  (None, 14, 14, 1024)         4096      ['block13_sepconv2[0][0]']    \n",
      " Normalization)                                                                                   \n",
      "                                                                                                  \n",
      " conv2d_3 (Conv2D)           (None, 7, 7, 1024)           745472    ['add_10[0][0]']              \n",
      "                                                                                                  \n",
      " block13_pool (MaxPooling2D  (None, 7, 7, 1024)           0         ['block13_sepconv2_bn[0][0]'] \n",
      " )                                                                                                \n",
      "                                                                                                  \n",
      " batch_normalization_3 (Bat  (None, 7, 7, 1024)           4096      ['conv2d_3[0][0]']            \n",
      " chNormalization)                                                                                 \n",
      "                                                                                                  \n",
      " add_11 (Add)                (None, 7, 7, 1024)           0         ['block13_pool[0][0]',        \n",
      "                                                                     'batch_normalization_3[0][0]'\n",
      "                                                                    ]                             \n",
      "                                                                                                  \n",
      " block14_sepconv1 (Separabl  (None, 7, 7, 1536)           1582080   ['add_11[0][0]']              \n",
      " eConv2D)                                                                                         \n",
      "                                                                                                  \n",
      " block14_sepconv1_bn (Batch  (None, 7, 7, 1536)           6144      ['block14_sepconv1[0][0]']    \n",
      " Normalization)                                                                                   \n",
      "                                                                                                  \n",
      " block14_sepconv1_act (Acti  (None, 7, 7, 1536)           0         ['block14_sepconv1_bn[0][0]'] \n",
      " vation)                                                                                          \n",
      "                                                                                                  \n",
      " block14_sepconv2 (Separabl  (None, 7, 7, 2048)           3159552   ['block14_sepconv1_act[0][0]']\n",
      " eConv2D)                                                                                         \n",
      "                                                                                                  \n",
      " block14_sepconv2_bn (Batch  (None, 7, 7, 2048)           8192      ['block14_sepconv2[0][0]']    \n",
      " Normalization)                                                                                   \n",
      "                                                                                                  \n",
      " block14_sepconv2_act (Acti  (None, 7, 7, 2048)           0         ['block14_sepconv2_bn[0][0]'] \n",
      " vation)                                                                                          \n",
      "                                                                                                  \n",
      "==================================================================================================\n",
      "Total params: 20861480 (79.58 MB)\n",
      "Trainable params: 20806952 (79.37 MB)\n",
      "Non-trainable params: 54528 (213.00 KB)\n",
      "__________________________________________________________________________________________________\n"
     ]
    }
   ],
   "source": [
    "base_model.summary()\n",
    "#There are around 20M params that we need to calculate. But the initial layers of the NN don't change as much when we're training. Therefore the first 100 or 200 layers don't change as much, they change minimally.\n",
    "# Now, what we do is, freeze the first few number of layers and we use that.\n",
    "\n",
    "#Most images are very similar mathematically, & transfer learning is also used in large language models. We're just fine tuning the final few layers for our use case."
   ]
  },
  {
   "cell_type": "code",
   "execution_count": 7,
   "id": "541ae415",
   "metadata": {
    "execution": {
     "iopub.execute_input": "2022-03-01T14:58:09.954000Z",
     "iopub.status.busy": "2022-03-01T14:58:09.952295Z",
     "iopub.status.idle": "2022-03-01T14:58:09.954597Z",
     "shell.execute_reply": "2022-03-01T14:58:09.955010Z",
     "shell.execute_reply.started": "2022-03-01T13:13:01.907161Z"
    },
    "papermill": {
     "duration": 0.084135,
     "end_time": "2022-03-01T14:58:09.955143",
     "exception": false,
     "start_time": "2022-03-01T14:58:09.871008",
     "status": "completed"
    },
    "tags": []
   },
   "outputs": [],
   "source": [
    "# freeze all layers\n",
    "base_model.trainable = False\n",
    "\n",
    "# to freeze only some of the layers\n",
    "# index 0 is the input layer\n",
    "#for layer in base_model.layers[:12]:\n",
    "#    layer.trainable = False"
   ]
  },
  {
   "cell_type": "code",
   "execution_count": 8,
   "id": "baa76f74",
   "metadata": {
    "execution": {
     "iopub.execute_input": "2022-03-01T14:58:10.105573Z",
     "iopub.status.busy": "2022-03-01T14:58:10.103989Z",
     "iopub.status.idle": "2022-03-01T14:58:10.106155Z",
     "shell.execute_reply": "2022-03-01T14:58:10.106548Z",
     "shell.execute_reply.started": "2022-03-01T13:13:01.921096Z"
    },
    "papermill": {
     "duration": 0.079041,
     "end_time": "2022-03-01T14:58:10.106707",
     "exception": false,
     "start_time": "2022-03-01T14:58:10.027666",
     "status": "completed"
    },
    "tags": []
   },
   "outputs": [],
   "source": [
    "#uncomment to see the architecture of Xception\n",
    "\n",
    "#base_model.summary()"
   ]
  },
  {
   "cell_type": "code",
   "execution_count": 9,
   "id": "5e59ef9f",
   "metadata": {
    "execution": {
     "iopub.execute_input": "2022-03-01T14:58:10.270900Z",
     "iopub.status.busy": "2022-03-01T14:58:10.270084Z",
     "iopub.status.idle": "2022-03-01T14:58:10.281922Z",
     "shell.execute_reply": "2022-03-01T14:58:10.282330Z",
     "shell.execute_reply.started": "2022-03-01T13:13:01.928316Z"
    },
    "papermill": {
     "duration": 0.095974,
     "end_time": "2022-03-01T14:58:10.282469",
     "exception": false,
     "start_time": "2022-03-01T14:58:10.186495",
     "status": "completed"
    },
    "tags": []
   },
   "outputs": [],
   "source": [
    "#Doing some augmentation\n",
    "data_augmentation = Sequential(\n",
    "    [RandomFlip(\"horizontal\"), \n",
    "     RandomRotation(0.1),\n",
    "     RandomZoom(0.1)]\n",
    ")"
   ]
  },
  {
   "cell_type": "markdown",
   "id": "1d7da5c5",
   "metadata": {
    "papermill": {
     "duration": 0.070552,
     "end_time": "2022-03-01T14:58:10.424474",
     "exception": false,
     "start_time": "2022-03-01T14:58:10.353922",
     "status": "completed"
    },
    "tags": []
   },
   "source": [
    "Consider the image resolution that the imagenet was trained on.\n",
    "\n",
    "The original image resolution of CIFAR-20 is 32x32, which is too low for Xception (min. 71x71)"
   ]
  },
  {
   "cell_type": "code",
   "execution_count": 10,
   "id": "a5b16126",
   "metadata": {
    "execution": {
     "iopub.execute_input": "2022-03-01T14:58:10.575219Z",
     "iopub.status.busy": "2022-03-01T14:58:10.574420Z",
     "iopub.status.idle": "2022-03-01T14:58:11.092867Z",
     "shell.execute_reply": "2022-03-01T14:58:11.091943Z",
     "shell.execute_reply.started": "2022-03-01T13:13:01.945834Z"
    },
    "papermill": {
     "duration": 0.597668,
     "end_time": "2022-03-01T14:58:11.093022",
     "exception": false,
     "start_time": "2022-03-01T14:58:10.495354",
     "status": "completed"
    },
    "tags": []
   },
   "outputs": [],
   "source": [
    "inputs = tf.keras.Input(shape=(32, 32, 3))\n",
    "x = tf.keras.layers.Lambda(lambda image: tf.image.resize(image, (224,224)))(inputs)\n",
    "x = data_augmentation(x)\n",
    "x = tf.keras.applications.xception.preprocess_input(x)\n",
    "x = base_model(x, training=False)\n",
    "x = tf.keras.layers.GlobalAveragePooling2D()(x)\n",
    "x = tf.keras.layers.Dropout(0.3)(x)\n",
    "outputs = tf.keras.layers.Dense(10, activation=('softmax'))(x)\n",
    "model = tf.keras.Model(inputs, outputs)"
   ]
  },
  {
   "cell_type": "code",
   "execution_count": 11,
   "id": "2b8947bc",
   "metadata": {
    "execution": {
     "iopub.execute_input": "2022-03-01T14:58:11.249374Z",
     "iopub.status.busy": "2022-03-01T14:58:11.240387Z",
     "iopub.status.idle": "2022-03-01T14:58:11.254477Z",
     "shell.execute_reply": "2022-03-01T14:58:11.254928Z",
     "shell.execute_reply.started": "2022-03-01T13:13:02.464299Z"
    },
    "papermill": {
     "duration": 0.090743,
     "end_time": "2022-03-01T14:58:11.255073",
     "exception": false,
     "start_time": "2022-03-01T14:58:11.164330",
     "status": "completed"
    },
    "tags": []
   },
   "outputs": [
    {
     "name": "stdout",
     "output_type": "stream",
     "text": [
      "Model: \"model\"\n",
      "_________________________________________________________________\n",
      " Layer (type)                Output Shape              Param #   \n",
      "=================================================================\n",
      " input_2 (InputLayer)        [(None, 32, 32, 3)]       0         \n",
      "                                                                 \n",
      " lambda (Lambda)             (None, 224, 224, 3)       0         \n",
      "                                                                 \n",
      " sequential (Sequential)     (None, 224, 224, 3)       0         \n",
      "                                                                 \n",
      " tf.math.truediv (TFOpLambd  (None, 224, 224, 3)       0         \n",
      " a)                                                              \n",
      "                                                                 \n",
      " tf.math.subtract (TFOpLamb  (None, 224, 224, 3)       0         \n",
      " da)                                                             \n",
      "                                                                 \n",
      " xception (Functional)       (None, 7, 7, 2048)        20861480  \n",
      "                                                                 \n",
      " global_average_pooling2d (  (None, 2048)              0         \n",
      " GlobalAveragePooling2D)                                         \n",
      "                                                                 \n",
      " dropout (Dropout)           (None, 2048)              0         \n",
      "                                                                 \n",
      " dense (Dense)               (None, 10)                20490     \n",
      "                                                                 \n",
      "=================================================================\n",
      "Total params: 20881970 (79.66 MB)\n",
      "Trainable params: 20490 (80.04 KB)\n",
      "Non-trainable params: 20861480 (79.58 MB)\n",
      "_________________________________________________________________\n"
     ]
    }
   ],
   "source": [
    "#Check the architecture of the final model\n",
    "\n",
    "model.summary()"
   ]
  },
  {
   "cell_type": "code",
   "execution_count": 12,
   "id": "c88de44a",
   "metadata": {
    "execution": {
     "iopub.execute_input": "2022-03-01T14:58:11.412199Z",
     "iopub.status.busy": "2022-03-01T14:58:11.411256Z",
     "iopub.status.idle": "2022-03-01T14:58:11.418445Z",
     "shell.execute_reply": "2022-03-01T14:58:11.418002Z",
     "shell.execute_reply.started": "2022-03-01T13:13:02.486188Z"
    },
    "papermill": {
     "duration": 0.091593,
     "end_time": "2022-03-01T14:58:11.418560",
     "exception": false,
     "start_time": "2022-03-01T14:58:11.326967",
     "status": "completed"
    },
    "tags": []
   },
   "outputs": [],
   "source": [
    "model.compile(optimizer='adam', loss='categorical_crossentropy', metrics=['accuracy'])"
   ]
  },
  {
   "cell_type": "code",
   "execution_count": null,
   "id": "c9a5c883",
   "metadata": {
    "execution": {
     "iopub.execute_input": "2022-03-01T14:58:11.570288Z",
     "iopub.status.busy": "2022-03-01T14:58:11.569477Z",
     "iopub.status.idle": "2022-03-01T15:45:38.083825Z",
     "shell.execute_reply": "2022-03-01T15:45:38.083031Z",
     "shell.execute_reply.started": "2022-03-01T13:13:02.501753Z"
    },
    "papermill": {
     "duration": 2846.593013,
     "end_time": "2022-03-01T15:45:38.083964",
     "exception": false,
     "start_time": "2022-03-01T14:58:11.490951",
     "status": "completed"
    },
    "tags": []
   },
   "outputs": [
    {
     "name": "stdout",
     "output_type": "stream",
     "text": [
      "Epoch 1/20\n",
      " 679/1563 [============>.................] - ETA: 22:48 - loss: 0.8504 - accuracy: 0.7138"
     ]
    }
   ],
   "source": [
    "epochs = 20\n",
    "history = model.fit(x_train, y_train, validation_data=(x_val, y_val), epochs=epochs, verbose=1)"
   ]
  },
  {
   "cell_type": "markdown",
   "id": "cbfd0a57",
   "metadata": {
    "papermill": {
     "duration": 10.053058,
     "end_time": "2022-03-01T15:45:58.177658",
     "exception": false,
     "start_time": "2022-03-01T15:45:48.124600",
     "status": "completed"
    },
    "tags": []
   },
   "source": [
    "## Cross Validation\n",
    "\n",
    "Source: https://www.kaggle.com/ryanholbrook/the-convolutional-classifier"
   ]
  },
  {
   "cell_type": "code",
   "execution_count": null,
   "id": "c9f91a8a",
   "metadata": {
    "execution": {
     "iopub.execute_input": "2022-03-01T15:46:19.012171Z",
     "iopub.status.busy": "2022-03-01T15:46:19.007415Z",
     "iopub.status.idle": "2022-03-01T15:46:19.463844Z",
     "shell.execute_reply": "2022-03-01T15:46:19.464244Z",
     "shell.execute_reply.started": "2022-03-01T13:13:07.579415Z"
    },
    "papermill": {
     "duration": 10.709922,
     "end_time": "2022-03-01T15:46:19.464399",
     "exception": false,
     "start_time": "2022-03-01T15:46:08.754477",
     "status": "completed"
    },
    "tags": []
   },
   "outputs": [],
   "source": [
    "def plot_history(history):\n",
    "    history_frame = pd.DataFrame(history.history)\n",
    "    history_frame.loc[:, ['loss', 'val_loss']].plot()\n",
    "    history_frame.loc[:, ['accuracy', 'val_accuracy']].plot()\n",
    "    \n",
    "    return\n",
    "    \n",
    "plot_history(history)\n",
    "\n",
    "#Here, both are starting with a high accuracy, hence we know that the initial weights that are associated with images are usually very similar and all we have to do, is to train the last few layers.\n"
   ]
  },
  {
   "cell_type": "markdown",
   "id": "90c73fed",
   "metadata": {
    "papermill": {
     "duration": 10.782137,
     "end_time": "2022-03-01T15:46:40.422201",
     "exception": false,
     "start_time": "2022-03-01T15:46:29.640064",
     "status": "completed"
    },
    "tags": []
   },
   "source": [
    "# Fine Tuning"
   ]
  },
  {
   "cell_type": "code",
   "execution_count": null,
   "id": "303a2888",
   "metadata": {
    "execution": {
     "iopub.execute_input": "2022-03-01T15:47:00.743085Z",
     "iopub.status.busy": "2022-03-01T15:47:00.741506Z",
     "iopub.status.idle": "2022-03-01T15:47:00.744555Z",
     "shell.execute_reply": "2022-03-01T15:47:00.745205Z",
     "shell.execute_reply.started": "2022-03-01T13:13:07.581141Z"
    },
    "papermill": {
     "duration": 10.121903,
     "end_time": "2022-03-01T15:47:00.745440",
     "exception": false,
     "start_time": "2022-03-01T15:46:50.623537",
     "status": "completed"
    },
    "tags": []
   },
   "outputs": [],
   "source": [
    "# unfreeze the layers of the pre-trained model\n",
    "\n",
    "base_model.trainable = True"
   ]
  },
  {
   "cell_type": "code",
   "execution_count": null,
   "id": "9dc9d6d0",
   "metadata": {
    "execution": {
     "iopub.execute_input": "2022-03-01T15:47:21.372804Z",
     "iopub.status.busy": "2022-03-01T15:47:21.371999Z",
     "iopub.status.idle": "2022-03-01T15:47:21.380622Z",
     "shell.execute_reply": "2022-03-01T15:47:21.380128Z",
     "shell.execute_reply.started": "2022-03-01T13:13:07.582832Z"
    },
    "papermill": {
     "duration": 10.268218,
     "end_time": "2022-03-01T15:47:21.380747",
     "exception": false,
     "start_time": "2022-03-01T15:47:11.112529",
     "status": "completed"
    },
    "tags": []
   },
   "outputs": [],
   "source": [
    "# Use a small learning rate\n",
    "\n",
    "model.compile(optimizer=tf.keras.optimizers.Adam(1e-5), loss='categorical_crossentropy', metrics=['accuracy'])"
   ]
  },
  {
   "cell_type": "code",
   "execution_count": 16,
   "id": "7c1cb7ba",
   "metadata": {
    "execution": {
     "iopub.execute_input": "2022-03-01T15:47:41.626452Z",
     "iopub.status.busy": "2022-03-01T15:47:41.625558Z",
     "iopub.status.idle": "2022-03-01T17:34:59.937939Z",
     "shell.execute_reply": "2022-03-01T17:34:59.937379Z",
     "shell.execute_reply.started": "2022-03-01T13:13:07.584471Z"
    },
    "papermill": {
     "duration": 6448.418828,
     "end_time": "2022-03-01T17:34:59.938099",
     "exception": false,
     "start_time": "2022-03-01T15:47:31.519271",
     "status": "completed"
    },
    "tags": []
   },
   "outputs": [
    {
     "name": "stdout",
     "output_type": "stream",
     "text": [
      "Epoch 1/10\n",
      "1563/1563 [==============================] - 669s 425ms/step - loss: 0.3341 - accuracy: 0.8860 - val_loss: 0.1716 - val_accuracy: 0.9425\n",
      "Epoch 2/10\n",
      "1563/1563 [==============================] - 642s 411ms/step - loss: 0.2195 - accuracy: 0.9254 - val_loss: 0.1332 - val_accuracy: 0.9535\n",
      "Epoch 3/10\n",
      "1563/1563 [==============================] - 642s 411ms/step - loss: 0.1749 - accuracy: 0.9401 - val_loss: 0.1271 - val_accuracy: 0.9562\n",
      "Epoch 4/10\n",
      "1563/1563 [==============================] - 641s 410ms/step - loss: 0.1426 - accuracy: 0.9511 - val_loss: 0.1174 - val_accuracy: 0.9602\n",
      "Epoch 5/10\n",
      "1563/1563 [==============================] - 641s 410ms/step - loss: 0.1233 - accuracy: 0.9579 - val_loss: 0.1139 - val_accuracy: 0.9624\n",
      "Epoch 6/10\n",
      "1563/1563 [==============================] - 641s 410ms/step - loss: 0.1017 - accuracy: 0.9648 - val_loss: 0.1109 - val_accuracy: 0.9642\n",
      "Epoch 7/10\n",
      "1563/1563 [==============================] - 641s 410ms/step - loss: 0.0905 - accuracy: 0.9679 - val_loss: 0.1025 - val_accuracy: 0.9663\n",
      "Epoch 8/10\n",
      "1563/1563 [==============================] - 640s 410ms/step - loss: 0.0779 - accuracy: 0.9729 - val_loss: 0.1124 - val_accuracy: 0.9667\n",
      "Epoch 9/10\n",
      "1563/1563 [==============================] - 641s 410ms/step - loss: 0.0684 - accuracy: 0.9764 - val_loss: 0.1142 - val_accuracy: 0.9642\n",
      "Epoch 10/10\n",
      "1563/1563 [==============================] - 641s 410ms/step - loss: 0.0606 - accuracy: 0.9797 - val_loss: 0.1151 - val_accuracy: 0.9663\n"
     ]
    }
   ],
   "source": [
    "epochs = 10\n",
    "history = model.fit(x_train, y_train, validation_data=(x_val, y_val), epochs=epochs, verbose=1)"
   ]
  },
  {
   "cell_type": "markdown",
   "id": "e0d286e1",
   "metadata": {
    "papermill": {
     "duration": 14.935503,
     "end_time": "2022-03-01T17:35:30.130411",
     "exception": false,
     "start_time": "2022-03-01T17:35:15.194908",
     "status": "completed"
    },
    "tags": []
   },
   "source": [
    "## Cross Validation"
   ]
  },
  {
   "cell_type": "code",
   "execution_count": 17,
   "id": "f509781a",
   "metadata": {
    "execution": {
     "iopub.execute_input": "2022-03-01T17:36:00.748411Z",
     "iopub.status.busy": "2022-03-01T17:36:00.747518Z",
     "iopub.status.idle": "2022-03-01T17:36:01.067347Z",
     "shell.execute_reply": "2022-03-01T17:36:01.067817Z",
     "shell.execute_reply.started": "2022-03-01T13:13:07.586068Z"
    },
    "papermill": {
     "duration": 15.282326,
     "end_time": "2022-03-01T17:36:01.067969",
     "exception": false,
     "start_time": "2022-03-01T17:35:45.785643",
     "status": "completed"
    },
    "tags": []
   },
   "outputs": [
    {
     "data": {
      "image/png": "[encoded data removed]",
      "text/plain": [
       "<Figure size 432x288 with 1 Axes>"
      ]
     },
     "metadata": {
      "needs_background": "light"
     },
     "output_type": "display_data"
    },
    {
     "data": {
      "image/png": "[encoded data removed]",
      "text/plain": [
       "<Figure size 432x288 with 1 Axes>"
      ]
     },
     "metadata": {
      "needs_background": "light"
     },
     "output_type": "display_data"
    }
   ],
   "source": [
    "plot_history(history)"
   ]
  },
  {
   "cell_type": "markdown",
   "id": "366ed68e",
   "metadata": {
    "papermill": {
     "duration": 15.825344,
     "end_time": "2022-03-01T17:36:31.839193",
     "exception": false,
     "start_time": "2022-03-01T17:36:16.013849",
     "status": "completed"
    },
    "tags": []
   },
   "source": [
    "# Confusion Matrix"
   ]
  },
  {
   "cell_type": "code",
   "execution_count": 18,
   "id": "eb60cea4",
   "metadata": {
    "execution": {
     "iopub.execute_input": "2022-03-01T17:37:02.745989Z",
     "iopub.status.busy": "2022-03-01T17:37:02.745161Z",
     "iopub.status.idle": "2022-03-01T17:37:45.071852Z",
     "shell.execute_reply": "2022-03-01T17:37:45.071148Z",
     "shell.execute_reply.started": "2022-03-01T13:13:19.460275Z"
    },
    "papermill": {
     "duration": 58.031989,
     "end_time": "2022-03-01T17:37:45.071984",
     "exception": false,
     "start_time": "2022-03-01T17:36:47.039995",
     "status": "completed"
    },
    "tags": []
   },
   "outputs": [
    {
     "data": {
      "text/plain": [
       "[[Text(0.5, 0, 'airplane'),\n",
       "  Text(1.5, 0, 'automobile'),\n",
       "  Text(2.5, 0, 'bird'),\n",
       "  Text(3.5, 0, 'cat'),\n",
       "  Text(4.5, 0, 'deer'),\n",
       "  Text(5.5, 0, 'dog'),\n",
       "  Text(6.5, 0, 'frog'),\n",
       "  Text(7.5, 0, 'horse'),\n",
       "  Text(8.5, 0, 'ship'),\n",
       "  Text(9.5, 0, 'truck')],\n",
       " [Text(0, 0.5, 'airplane'),\n",
       "  Text(0, 1.5, 'automobile'),\n",
       "  Text(0, 2.5, 'bird'),\n",
       "  Text(0, 3.5, 'cat'),\n",
       "  Text(0, 4.5, 'deer'),\n",
       "  Text(0, 5.5, 'dog'),\n",
       "  Text(0, 6.5, 'frog'),\n",
       "  Text(0, 7.5, 'horse'),\n",
       "  Text(0, 8.5, 'ship'),\n",
       "  Text(0, 9.5, 'truck')]]"
      ]
     },
     "execution_count": 18,
     "metadata": {},
     "output_type": "execute_result"
    },
    {
     "data": {
      "image/png": "[encoded data removed]",
      "text/plain": [
       "<Figure size 864x648 with 2 Axes>"
      ]
     },
     "metadata": {
      "needs_background": "light"
     },
     "output_type": "display_data"
    }
   ],
   "source": [
    "class_names=['airplane', 'automobile', 'bird', 'cat', 'deer', 'dog', 'frog', 'horse', 'ship', 'truck']\n",
    "\n",
    "predictions=model.predict(x_val)\n",
    "\n",
    "y_pred_classes = np.argmax(predictions, axis=1)\n",
    "y_true = np.argmax(y_val, axis=1)\n",
    "\n",
    "confusion_mtx = tf.math.confusion_matrix(y_true, y_pred_classes)\n",
    "\n",
    "plt.figure(figsize=(12, 9))\n",
    "c = sns.heatmap(confusion_mtx, annot=True, fmt='g')\n",
    "c.set(xticklabels=class_names, yticklabels=class_names)"
   ]
  },
  {
   "cell_type": "code",
   "execution_count": null,
   "id": "340ea875",
   "metadata": {},
   "outputs": [],
   "source": [
    "from sklearn.metrics import classification_report\n",
    "\n",
    "print(classification_report(y_true, y_pred_classes, target_names=class_names))\n"
   ]
  },
  {
   "cell_type": "markdown",
   "id": "474d7df6",
   "metadata": {},
   "source": [
    "Reference: BUAN 6382.SW1.S24 course by Dr Farid Khafizov, at Naveen Jindal School to Management, UTDallas. Code along by the class's TA Harikrishna Dev."
   ]
  }
 ],
 "metadata": {
  "kernelspec": {
   "display_name": "Python 3 (ipykernel)",
   "language": "python",
   "name": "python3"
  },
  "language_info": {
   "codemirror_mode": {
    "name": "ipython",
    "version": 3
   },
   "file_extension": ".py",
   "mimetype": "text/x-python",
   "name": "python",
   "nbconvert_exporter": "python",
   "pygments_lexer": "ipython3",
   "version": "3.11.5"
  },
  "papermill": {
   "default_parameters": {},
   "duration": 9622.953422,
   "end_time": "2022-03-01T17:38:04.235657",
   "environment_variables": {},
   "exception": null,
   "input_path": "__notebook__.ipynb",
   "output_path": "__notebook__.ipynb",
   "parameters": {},
   "start_time": "2022-03-01T14:57:41.282235",
   "version": "2.3.3"
  }
 },
 "nbformat": 4,
 "nbformat_minor": 5
}
